{
  "nbformat": 4,
  "nbformat_minor": 0,
  "metadata": {
    "colab": {
      "provenance": [],
      "gpuType": "T4"
    },
    "kernelspec": {
      "name": "python3",
      "display_name": "Python 3"
    },
    "language_info": {
      "name": "python"
    },
    "accelerator": "GPU"
  },
  "cells": [
    {
      "cell_type": "code",
      "execution_count": null,
      "metadata": {
        "id": "oTVydCCTJYl1"
      },
      "outputs": [],
      "source": []
    },
    {
      "cell_type": "code",
      "source": [
        "!nvidia-smi"
      ],
      "metadata": {
        "colab": {
          "base_uri": "https://localhost:8080/"
        },
        "id": "XDcBbBQwL3NV",
        "outputId": "9c9c0cb1-bfed-4732-e376-dc8410344f83"
      },
      "execution_count": 1,
      "outputs": [
        {
          "output_type": "stream",
          "name": "stdout",
          "text": [
            "Mon Jan  6 13:28:13 2025       \n",
            "+---------------------------------------------------------------------------------------+\n",
            "| NVIDIA-SMI 535.104.05             Driver Version: 535.104.05   CUDA Version: 12.2     |\n",
            "|-----------------------------------------+----------------------+----------------------+\n",
            "| GPU  Name                 Persistence-M | Bus-Id        Disp.A | Volatile Uncorr. ECC |\n",
            "| Fan  Temp   Perf          Pwr:Usage/Cap |         Memory-Usage | GPU-Util  Compute M. |\n",
            "|                                         |                      |               MIG M. |\n",
            "|=========================================+======================+======================|\n",
            "|   0  Tesla T4                       Off | 00000000:00:04.0 Off |                    0 |\n",
            "| N/A   67C    P8              13W /  70W |      0MiB / 15360MiB |      0%      Default |\n",
            "|                                         |                      |                  N/A |\n",
            "+-----------------------------------------+----------------------+----------------------+\n",
            "                                                                                         \n",
            "+---------------------------------------------------------------------------------------+\n",
            "| Processes:                                                                            |\n",
            "|  GPU   GI   CI        PID   Type   Process name                            GPU Memory |\n",
            "|        ID   ID                                                             Usage      |\n",
            "|=======================================================================================|\n",
            "|  No running processes found                                                           |\n",
            "+---------------------------------------------------------------------------------------+\n"
          ]
        }
      ]
    },
    {
      "cell_type": "code",
      "source": [],
      "metadata": {
        "id": "2BviiKgaLqCe"
      },
      "execution_count": 2,
      "outputs": []
    },
    {
      "cell_type": "code",
      "source": [
        "from google.colab import drive\n",
        "drive.mount('/content/drive')"
      ],
      "metadata": {
        "colab": {
          "base_uri": "https://localhost:8080/"
        },
        "id": "7IrTUkKAMRtp",
        "outputId": "9068a061-0647-4023-81bf-335dd4633c01"
      },
      "execution_count": 2,
      "outputs": [
        {
          "output_type": "stream",
          "name": "stdout",
          "text": [
            "Drive already mounted at /content/drive; to attempt to forcibly remount, call drive.mount(\"/content/drive\", force_remount=True).\n"
          ]
        }
      ]
    },
    {
      "cell_type": "code",
      "source": [
        "dataset_path = '/content/drive/MyDrive/arxiv-metadata-oai-snapshot.json'\n",
        "dataset_path = '/content/drive/MyDrive/arxiv-metadata-oai-snapshot-undersampled.json'"
      ],
      "metadata": {
        "id": "mDJlhUNDPZLS"
      },
      "execution_count": 12,
      "outputs": []
    },
    {
      "cell_type": "code",
      "source": [
        "!git clone https://github.com/borislavab/research-classifier.git"
      ],
      "metadata": {
        "colab": {
          "base_uri": "https://localhost:8080/"
        },
        "id": "mU6AXW3ZFbW1",
        "outputId": "e1f10f07-d641-4318-f1e9-debf8c7bcb68"
      },
      "execution_count": 4,
      "outputs": [
        {
          "output_type": "stream",
          "name": "stdout",
          "text": [
            "Cloning into 'research-classifier'...\n",
            "remote: Enumerating objects: 161, done.\u001b[K\n",
            "remote: Counting objects: 100% (161/161), done.\u001b[K\n",
            "remote: Compressing objects: 100% (117/117), done.\u001b[K\n",
            "remote: Total 161 (delta 77), reused 116 (delta 36), pack-reused 0 (from 0)\u001b[K\n",
            "Receiving objects: 100% (161/161), 1.01 MiB | 13.20 MiB/s, done.\n",
            "Resolving deltas: 100% (77/77), done.\n"
          ]
        }
      ]
    },
    {
      "cell_type": "code",
      "source": [
        "%cd research-classifier"
      ],
      "metadata": {
        "colab": {
          "base_uri": "https://localhost:8080/"
        },
        "id": "k5V_IbQsFiH3",
        "outputId": "48e4d760-4da0-4c23-ad7e-d69bf16ba672"
      },
      "execution_count": 5,
      "outputs": [
        {
          "output_type": "stream",
          "name": "stdout",
          "text": [
            "/content/research-classifier\n"
          ]
        }
      ]
    },
    {
      "cell_type": "code",
      "source": [
        "!pip install -e ."
      ],
      "metadata": {
        "colab": {
          "base_uri": "https://localhost:8080/"
        },
        "id": "Z_dcN5bPFyOb",
        "outputId": "1b7be937-1abe-48a7-c5cf-11f2bafd5c6c"
      },
      "execution_count": 6,
      "outputs": [
        {
          "output_type": "stream",
          "name": "stdout",
          "text": [
            "Obtaining file:///content/research-classifier\n",
            "  Preparing metadata (setup.py) ... \u001b[?25l\u001b[?25hdone\n",
            "Installing collected packages: research_classifier\n",
            "  Running setup.py develop for research_classifier\n",
            "Successfully installed research_classifier-0.1\n"
          ]
        }
      ]
    },
    {
      "cell_type": "markdown",
      "source": [
        "Since I'm using conda environment in repo the following might fail, but project should successfully run"
      ],
      "metadata": {
        "id": "4P46VjJZz9EK"
      }
    },
    {
      "cell_type": "code",
      "source": [
        "!pip install -r requirements_pip.txt"
      ],
      "metadata": {
        "colab": {
          "base_uri": "https://localhost:8080/"
        },
        "id": "Hl5hw6a-Hqcv",
        "outputId": "11639e62-39f6-45d9-b2e5-3e6348849e9e"
      },
      "execution_count": 7,
      "outputs": [
        {
          "output_type": "stream",
          "name": "stdout",
          "text": [
            "Requirement already satisfied: aiohappyeyeballs==2.4.4 in /usr/local/lib/python3.10/dist-packages (from -r requirements_pip.txt (line 1)) (2.4.4)\n",
            "Requirement already satisfied: aiohttp==3.11.10 in /usr/local/lib/python3.10/dist-packages (from -r requirements_pip.txt (line 2)) (3.11.10)\n",
            "Collecting aiosignal==1.2.0 (from -r requirements_pip.txt (line 3))\n",
            "  Downloading aiosignal-1.2.0-py3-none-any.whl.metadata (5.5 kB)\n",
            "Collecting anyio==4.6.2 (from -r requirements_pip.txt (line 4))\n",
            "  Downloading anyio-4.6.2-py3-none-any.whl.metadata (4.7 kB)\n",
            "Collecting appnope==0.1.2 (from -r requirements_pip.txt (line 5))\n",
            "  Downloading appnope-0.1.2-py2.py3-none-any.whl.metadata (1.1 kB)\n",
            "Collecting argon2-cffi==21.3.0 (from -r requirements_pip.txt (line 6))\n",
            "  Downloading argon2_cffi-21.3.0-py3-none-any.whl.metadata (5.4 kB)\n",
            "Requirement already satisfied: argon2-cffi-bindings==21.2.0 in /usr/local/lib/python3.10/dist-packages (from -r requirements_pip.txt (line 7)) (21.2.0)\n",
            "Collecting arrow==1.3.0 (from -r requirements_pip.txt (line 8))\n",
            "  Downloading arrow-1.3.0-py3-none-any.whl.metadata (7.5 kB)\n",
            "Collecting asgiref==3.8.1 (from -r requirements_pip.txt (line 9))\n",
            "  Downloading asgiref-3.8.1-py3-none-any.whl.metadata (9.3 kB)\n",
            "Collecting asttokens==2.0.5 (from -r requirements_pip.txt (line 10))\n",
            "  Downloading asttokens-2.0.5-py2.py3-none-any.whl.metadata (4.6 kB)\n",
            "Collecting async-lru==2.0.4 (from -r requirements_pip.txt (line 11))\n",
            "  Downloading async_lru-2.0.4-py3-none-any.whl.metadata (4.5 kB)\n",
            "Requirement already satisfied: attrs==24.3.0 in /usr/local/lib/python3.10/dist-packages (from -r requirements_pip.txt (line 12)) (24.3.0)\n",
            "Collecting Babel==2.11.0 (from -r requirements_pip.txt (line 13))\n",
            "  Downloading Babel-2.11.0-py3-none-any.whl.metadata (1.4 kB)\n",
            "Requirement already satisfied: beautifulsoup4==4.12.3 in /usr/local/lib/python3.10/dist-packages (from -r requirements_pip.txt (line 14)) (4.12.3)\n",
            "Collecting binaryornot==0.4.4 (from -r requirements_pip.txt (line 15))\n",
            "  Downloading binaryornot-0.4.4-py2.py3-none-any.whl.metadata (6.0 kB)\n",
            "Requirement already satisfied: bleach==6.2.0 in /usr/local/lib/python3.10/dist-packages (from -r requirements_pip.txt (line 16)) (6.2.0)\n",
            "Requirement already satisfied: Bottleneck==1.4.2 in /usr/local/lib/python3.10/dist-packages (from -r requirements_pip.txt (line 17)) (1.4.2)\n",
            "Collecting Brotli==1.0.9 (from -r requirements_pip.txt (line 18))\n",
            "  Downloading Brotli-1.0.9-cp310-cp310-manylinux_2_5_x86_64.manylinux1_x86_64.manylinux_2_12_x86_64.manylinux2010_x86_64.whl.metadata (1.4 kB)\n",
            "Requirement already satisfied: certifi==2024.12.14 in /usr/local/lib/python3.10/dist-packages (from -r requirements_pip.txt (line 19)) (2024.12.14)\n",
            "Requirement already satisfied: cffi==1.17.1 in /usr/local/lib/python3.10/dist-packages (from -r requirements_pip.txt (line 20)) (1.17.1)\n",
            "Collecting chardet==4.0.0 (from -r requirements_pip.txt (line 21))\n",
            "  Downloading chardet-4.0.0-py2.py3-none-any.whl.metadata (3.5 kB)\n",
            "Collecting charset-normalizer==3.3.2 (from -r requirements_pip.txt (line 22))\n",
            "  Downloading charset_normalizer-3.3.2-cp310-cp310-manylinux_2_17_x86_64.manylinux2014_x86_64.whl.metadata (33 kB)\n",
            "Requirement already satisfied: click==8.1.7 in /usr/local/lib/python3.10/dist-packages (from -r requirements_pip.txt (line 23)) (8.1.7)\n",
            "Collecting colorama==0.4.6 (from -r requirements_pip.txt (line 24))\n",
            "  Downloading colorama-0.4.6-py2.py3-none-any.whl.metadata (17 kB)\n",
            "Collecting comm==0.2.1 (from -r requirements_pip.txt (line 25))\n",
            "  Downloading comm-0.2.1-py3-none-any.whl.metadata (3.7 kB)\n",
            "Requirement already satisfied: contourpy==1.3.1 in /usr/local/lib/python3.10/dist-packages (from -r requirements_pip.txt (line 26)) (1.3.1)\n",
            "Collecting cookiecutter==2.6.0 (from -r requirements_pip.txt (line 27))\n",
            "  Downloading cookiecutter-2.6.0-py3-none-any.whl.metadata (7.3 kB)\n",
            "Collecting cycler==0.11.0 (from -r requirements_pip.txt (line 28))\n",
            "  Downloading cycler-0.11.0-py3-none-any.whl.metadata (785 bytes)\n",
            "Collecting dataclasses==0.6 (from -r requirements_pip.txt (line 29))\n",
            "  Downloading dataclasses-0.6-py3-none-any.whl.metadata (3.0 kB)\n",
            "Collecting datasets==3.2.0 (from -r requirements_pip.txt (line 30))\n",
            "  Downloading datasets-3.2.0-py3-none-any.whl.metadata (20 kB)\n",
            "Collecting debugpy==1.6.7 (from -r requirements_pip.txt (line 31))\n",
            "  Downloading debugpy-1.6.7-cp310-cp310-manylinux_2_17_x86_64.manylinux2014_x86_64.whl.metadata (1.1 kB)\n",
            "Collecting decorator==5.1.1 (from -r requirements_pip.txt (line 32))\n",
            "  Downloading decorator-5.1.1-py3-none-any.whl.metadata (4.0 kB)\n",
            "Requirement already satisfied: defusedxml==0.7.1 in /usr/local/lib/python3.10/dist-packages (from -r requirements_pip.txt (line 33)) (0.7.1)\n",
            "Collecting dill==0.3.8 (from -r requirements_pip.txt (line 34))\n",
            "  Downloading dill-0.3.8-py3-none-any.whl.metadata (10 kB)\n",
            "Collecting Django==5.1.3 (from -r requirements_pip.txt (line 35))\n",
            "  Downloading Django-5.1.3-py3-none-any.whl.metadata (4.2 kB)\n",
            "Collecting evaluate==0.4.0 (from -r requirements_pip.txt (line 36))\n",
            "  Downloading evaluate-0.4.0-py3-none-any.whl.metadata (9.4 kB)\n",
            "Collecting exceptiongroup==1.2.0 (from -r requirements_pip.txt (line 37))\n",
            "  Downloading exceptiongroup-1.2.0-py3-none-any.whl.metadata (6.6 kB)\n",
            "Collecting executing==0.8.3 (from -r requirements_pip.txt (line 38))\n",
            "  Downloading executing-0.8.3-py2.py3-none-any.whl.metadata (8.6 kB)\n",
            "Collecting fastjsonschema==2.20.0 (from -r requirements_pip.txt (line 39))\n",
            "  Downloading fastjsonschema-2.20.0-py3-none-any.whl.metadata (2.1 kB)\n",
            "Collecting filelock==3.13.1 (from -r requirements_pip.txt (line 40))\n",
            "  Downloading filelock-3.13.1-py3-none-any.whl.metadata (2.8 kB)\n",
            "Collecting fonttools==4.51.0 (from -r requirements_pip.txt (line 41))\n",
            "  Downloading fonttools-4.51.0-cp310-cp310-manylinux_2_17_x86_64.manylinux2014_x86_64.whl.metadata (159 kB)\n",
            "\u001b[2K     \u001b[90m━━━━━━━━━━━━━━━━━━━━━━━━━━━━━━━━━━━━━━━━\u001b[0m \u001b[32m159.5/159.5 kB\u001b[0m \u001b[31m11.5 MB/s\u001b[0m eta \u001b[36m0:00:00\u001b[0m\n",
            "\u001b[?25hRequirement already satisfied: frozenlist==1.5.0 in /usr/local/lib/python3.10/dist-packages (from -r requirements_pip.txt (line 42)) (1.5.0)\n",
            "Collecting fsspec==2024.3.1 (from -r requirements_pip.txt (line 43))\n",
            "  Downloading fsspec-2024.3.1-py3-none-any.whl.metadata (6.8 kB)\n",
            "Collecting gmpy2==2.1.2 (from -r requirements_pip.txt (line 44))\n",
            "  Downloading gmpy2-2.1.2-cp310-cp310-manylinux_2_17_x86_64.manylinux2014_x86_64.whl.metadata (2.2 kB)\n",
            "Requirement already satisfied: h11==0.14.0 in /usr/local/lib/python3.10/dist-packages (from -r requirements_pip.txt (line 45)) (0.14.0)\n",
            "Collecting httpcore==1.0.2 (from -r requirements_pip.txt (line 46))\n",
            "  Downloading httpcore-1.0.2-py3-none-any.whl.metadata (20 kB)\n",
            "Collecting httpx==0.27.0 (from -r requirements_pip.txt (line 47))\n",
            "  Downloading httpx-0.27.0-py3-none-any.whl.metadata (7.2 kB)\n",
            "Collecting huggingface_hub==0.24.6 (from -r requirements_pip.txt (line 48))\n",
            "  Downloading huggingface_hub-0.24.6-py3-none-any.whl.metadata (13 kB)\n",
            "Collecting idna==3.7 (from -r requirements_pip.txt (line 49))\n",
            "  Downloading idna-3.7-py3-none-any.whl.metadata (9.9 kB)\n",
            "Collecting iniconfig==1.1.1 (from -r requirements_pip.txt (line 50))\n",
            "  Downloading iniconfig-1.1.1-py2.py3-none-any.whl.metadata (2.4 kB)\n",
            "Collecting ipykernel==6.29.5 (from -r requirements_pip.txt (line 51))\n",
            "  Downloading ipykernel-6.29.5-py3-none-any.whl.metadata (6.3 kB)\n",
            "Collecting ipython==8.30.0 (from -r requirements_pip.txt (line 52))\n",
            "  Downloading ipython-8.30.0-py3-none-any.whl.metadata (4.9 kB)\n",
            "Collecting ipywidgets==8.1.5 (from -r requirements_pip.txt (line 53))\n",
            "  Downloading ipywidgets-8.1.5-py3-none-any.whl.metadata (2.3 kB)\n",
            "Collecting jedi==0.19.2 (from -r requirements_pip.txt (line 54))\n",
            "  Downloading jedi-0.19.2-py2.py3-none-any.whl.metadata (22 kB)\n",
            "Requirement already satisfied: Jinja2==3.1.4 in /usr/local/lib/python3.10/dist-packages (from -r requirements_pip.txt (line 55)) (3.1.4)\n",
            "Requirement already satisfied: joblib==1.4.2 in /usr/local/lib/python3.10/dist-packages (from -r requirements_pip.txt (line 56)) (1.4.2)\n",
            "Collecting json5==0.9.25 (from -r requirements_pip.txt (line 57))\n",
            "  Downloading json5-0.9.25-py3-none-any.whl.metadata (30 kB)\n",
            "Requirement already satisfied: jsonschema==4.23.0 in /usr/local/lib/python3.10/dist-packages (from -r requirements_pip.txt (line 58)) (4.23.0)\n",
            "Collecting jsonschema-specifications==2023.7.1 (from -r requirements_pip.txt (line 59))\n",
            "  Downloading jsonschema_specifications-2023.7.1-py3-none-any.whl.metadata (2.8 kB)\n",
            "Collecting jupyter==1.0.0 (from -r requirements_pip.txt (line 60))\n",
            "  Downloading jupyter-1.0.0-py2.py3-none-any.whl.metadata (995 bytes)\n",
            "Collecting jupyter_client==8.6.0 (from -r requirements_pip.txt (line 61))\n",
            "  Downloading jupyter_client-8.6.0-py3-none-any.whl.metadata (8.3 kB)\n",
            "Collecting jupyter-console==6.6.3 (from -r requirements_pip.txt (line 62))\n",
            "  Downloading jupyter_console-6.6.3-py3-none-any.whl.metadata (5.8 kB)\n",
            "Requirement already satisfied: jupyter_core==5.7.2 in /usr/local/lib/python3.10/dist-packages (from -r requirements_pip.txt (line 63)) (5.7.2)\n",
            "Collecting jupyter-events==0.10.0 (from -r requirements_pip.txt (line 64))\n",
            "  Downloading jupyter_events-0.10.0-py3-none-any.whl.metadata (5.9 kB)\n",
            "Collecting jupyter-lsp==2.2.0 (from -r requirements_pip.txt (line 65))\n",
            "  Downloading jupyter_lsp-2.2.0-py3-none-any.whl.metadata (1.8 kB)\n",
            "Collecting jupyter_server==2.14.1 (from -r requirements_pip.txt (line 66))\n",
            "  Downloading jupyter_server-2.14.1-py3-none-any.whl.metadata (8.4 kB)\n",
            "Collecting jupyter_server_terminals==0.4.4 (from -r requirements_pip.txt (line 67))\n",
            "  Downloading jupyter_server_terminals-0.4.4-py3-none-any.whl.metadata (6.3 kB)\n",
            "Collecting jupyterlab==4.2.5 (from -r requirements_pip.txt (line 68))\n",
            "  Downloading jupyterlab-4.2.5-py3-none-any.whl.metadata (16 kB)\n",
            "Collecting jupyterlab-pygments==0.1.2 (from -r requirements_pip.txt (line 69))\n",
            "  Downloading jupyterlab_pygments-0.1.2-py2.py3-none-any.whl.metadata (329 bytes)\n",
            "Collecting jupyterlab_server==2.27.3 (from -r requirements_pip.txt (line 70))\n",
            "  Downloading jupyterlab_server-2.27.3-py3-none-any.whl.metadata (5.9 kB)\n",
            "Requirement already satisfied: jupyterlab_widgets==3.0.13 in /usr/local/lib/python3.10/dist-packages (from -r requirements_pip.txt (line 71)) (3.0.13)\n",
            "Collecting kagglehub==0.2.7 (from -r requirements_pip.txt (line 72))\n",
            "  Downloading kagglehub-0.2.7-py3-none-any.whl.metadata (19 kB)\n",
            "Collecting kiwisolver==1.4.4 (from -r requirements_pip.txt (line 73))\n",
            "  Downloading kiwisolver-1.4.4-cp310-cp310-manylinux_2_12_x86_64.manylinux2010_x86_64.whl.metadata (6.3 kB)\n",
            "Collecting markdown-it-py==2.2.0 (from -r requirements_pip.txt (line 74))\n",
            "  Downloading markdown_it_py-2.2.0-py3-none-any.whl.metadata (6.8 kB)\n",
            "Collecting MarkupSafe==2.1.3 (from -r requirements_pip.txt (line 75))\n",
            "  Downloading MarkupSafe-2.1.3-cp310-cp310-manylinux_2_17_x86_64.manylinux2014_x86_64.whl.metadata (3.0 kB)\n",
            "Collecting matplotlib==3.10.0 (from -r requirements_pip.txt (line 76))\n",
            "  Downloading matplotlib-3.10.0-cp310-cp310-manylinux_2_17_x86_64.manylinux2014_x86_64.whl.metadata (11 kB)\n",
            "Collecting matplotlib-inline==0.1.6 (from -r requirements_pip.txt (line 77))\n",
            "  Downloading matplotlib_inline-0.1.6-py3-none-any.whl.metadata (2.8 kB)\n",
            "Collecting mdurl==0.1.0 (from -r requirements_pip.txt (line 78))\n",
            "  Downloading mdurl-0.1.0-py3-none-any.whl.metadata (4.7 kB)\n",
            "Collecting mistune==2.0.4 (from -r requirements_pip.txt (line 79))\n",
            "  Downloading mistune-2.0.4-py2.py3-none-any.whl.metadata (1.5 kB)\n",
            "Requirement already satisfied: mpmath==1.3.0 in /usr/local/lib/python3.10/dist-packages (from -r requirements_pip.txt (line 80)) (1.3.0)\n",
            "Requirement already satisfied: multidict==6.1.0 in /usr/local/lib/python3.10/dist-packages (from -r requirements_pip.txt (line 81)) (6.1.0)\n",
            "Collecting multiprocess==0.70.15 (from -r requirements_pip.txt (line 82))\n",
            "  Downloading multiprocess-0.70.15-py310-none-any.whl.metadata (7.2 kB)\n",
            "Collecting nbclient==0.8.0 (from -r requirements_pip.txt (line 83))\n",
            "  Downloading nbclient-0.8.0-py3-none-any.whl.metadata (7.8 kB)\n",
            "Requirement already satisfied: nbconvert==7.16.4 in /usr/local/lib/python3.10/dist-packages (from -r requirements_pip.txt (line 84)) (7.16.4)\n",
            "Requirement already satisfied: nbformat==5.10.4 in /usr/local/lib/python3.10/dist-packages (from -r requirements_pip.txt (line 85)) (5.10.4)\n",
            "Requirement already satisfied: nest-asyncio==1.6.0 in /usr/local/lib/python3.10/dist-packages (from -r requirements_pip.txt (line 86)) (1.6.0)\n",
            "Collecting networkx==3.3 (from -r requirements_pip.txt (line 87))\n",
            "  Downloading networkx-3.3-py3-none-any.whl.metadata (5.1 kB)\n",
            "Requirement already satisfied: nltk==3.9.1 in /usr/local/lib/python3.10/dist-packages (from -r requirements_pip.txt (line 88)) (3.9.1)\n",
            "Collecting notebook==7.2.2 (from -r requirements_pip.txt (line 89))\n",
            "  Downloading notebook-7.2.2-py3-none-any.whl.metadata (10 kB)\n",
            "Collecting notebook_shim==0.2.3 (from -r requirements_pip.txt (line 90))\n",
            "  Downloading notebook_shim-0.2.3-py3-none-any.whl.metadata (4.0 kB)\n",
            "Collecting numexpr==2.10.1 (from -r requirements_pip.txt (line 91))\n",
            "  Downloading numexpr-2.10.1-cp310-cp310-manylinux_2_27_x86_64.manylinux_2_28_x86_64.whl.metadata (1.2 kB)\n",
            "Requirement already satisfied: numpy==1.26.4 in /usr/local/lib/python3.10/dist-packages (from -r requirements_pip.txt (line 92)) (1.26.4)\n",
            "Collecting overrides==7.4.0 (from -r requirements_pip.txt (line 93))\n",
            "  Downloading overrides-7.4.0-py3-none-any.whl.metadata (5.7 kB)\n",
            "Requirement already satisfied: packaging==24.2 in /usr/local/lib/python3.10/dist-packages (from -r requirements_pip.txt (line 94)) (24.2)\n",
            "Collecting pandas==2.2.3 (from -r requirements_pip.txt (line 95))\n",
            "  Downloading pandas-2.2.3-cp310-cp310-manylinux_2_17_x86_64.manylinux2014_x86_64.whl.metadata (89 kB)\n",
            "\u001b[2K     \u001b[90m━━━━━━━━━━━━━━━━━━━━━━━━━━━━━━━━━━━━━━━━\u001b[0m \u001b[32m89.9/89.9 kB\u001b[0m \u001b[31m7.6 MB/s\u001b[0m eta \u001b[36m0:00:00\u001b[0m\n",
            "\u001b[?25hCollecting pandocfilters==1.5.0 (from -r requirements_pip.txt (line 96))\n",
            "  Downloading pandocfilters-1.5.0-py2.py3-none-any.whl.metadata (9.0 kB)\n",
            "Requirement already satisfied: parso==0.8.4 in /usr/local/lib/python3.10/dist-packages (from -r requirements_pip.txt (line 97)) (0.8.4)\n",
            "Collecting pexpect==4.8.0 (from -r requirements_pip.txt (line 98))\n",
            "  Downloading pexpect-4.8.0-py2.py3-none-any.whl.metadata (2.2 kB)\n",
            "Requirement already satisfied: pillow==11.0.0 in /usr/local/lib/python3.10/dist-packages (from -r requirements_pip.txt (line 99)) (11.0.0)\n",
            "Collecting pip==24.2 (from -r requirements_pip.txt (line 100))\n",
            "  Downloading pip-24.2-py3-none-any.whl.metadata (3.6 kB)\n",
            "Collecting platformdirs==3.10.0 (from -r requirements_pip.txt (line 101))\n",
            "  Downloading platformdirs-3.10.0-py3-none-any.whl.metadata (11 kB)\n",
            "Requirement already satisfied: pluggy==1.5.0 in /usr/local/lib/python3.10/dist-packages (from -r requirements_pip.txt (line 102)) (1.5.0)\n",
            "Requirement already satisfied: ply==3.11 in /usr/local/lib/python3.10/dist-packages (from -r requirements_pip.txt (line 103)) (3.11)\n",
            "Collecting prometheus_client==0.21.0 (from -r requirements_pip.txt (line 104))\n",
            "  Downloading prometheus_client-0.21.0-py3-none-any.whl.metadata (1.8 kB)\n",
            "Collecting prompt-toolkit==3.0.43 (from -r requirements_pip.txt (line 105))\n",
            "  Downloading prompt_toolkit-3.0.43-py3-none-any.whl.metadata (6.5 kB)\n",
            "Collecting propcache==0.2.0 (from -r requirements_pip.txt (line 106))\n",
            "  Downloading propcache-0.2.0-cp310-cp310-manylinux_2_17_x86_64.manylinux2014_x86_64.whl.metadata (7.7 kB)\n",
            "Collecting psutil==5.9.0 (from -r requirements_pip.txt (line 107))\n",
            "  Downloading psutil-5.9.0-cp310-cp310-manylinux_2_12_x86_64.manylinux2010_x86_64.manylinux_2_17_x86_64.manylinux2014_x86_64.whl.metadata (21 kB)\n",
            "Requirement already satisfied: ptyprocess==0.7.0 in /usr/local/lib/python3.10/dist-packages (from -r requirements_pip.txt (line 108)) (0.7.0)\n",
            "Collecting pure-eval==0.2.2 (from -r requirements_pip.txt (line 109))\n",
            "  Downloading pure_eval-0.2.2-py3-none-any.whl.metadata (6.2 kB)\n",
            "Requirement already satisfied: pyarrow==17.0.0 in /usr/local/lib/python3.10/dist-packages (from -r requirements_pip.txt (line 110)) (17.0.0)\n",
            "Collecting pycparser==2.21 (from -r requirements_pip.txt (line 111))\n",
            "  Downloading pycparser-2.21-py2.py3-none-any.whl.metadata (1.1 kB)\n",
            "Collecting Pygments==2.15.1 (from -r requirements_pip.txt (line 112))\n",
            "  Downloading Pygments-2.15.1-py3-none-any.whl.metadata (2.5 kB)\n",
            "Requirement already satisfied: pyparsing==3.2.0 in /usr/local/lib/python3.10/dist-packages (from -r requirements_pip.txt (line 113)) (3.2.0)\n",
            "Collecting PyQt5==5.15.10 (from -r requirements_pip.txt (line 114))\n",
            "  Downloading PyQt5-5.15.10-cp37-abi3-manylinux_2_17_x86_64.whl.metadata (2.1 kB)\n",
            "Collecting PyQt5-sip==12.13.0 (from -r requirements_pip.txt (line 115))\n",
            "  Downloading PyQt5_sip-12.13.0-cp310-cp310-manylinux_2_5_x86_64.manylinux1_x86_64.whl.metadata (504 bytes)\n",
            "Requirement already satisfied: PySocks==1.7.1 in /usr/local/lib/python3.10/dist-packages (from -r requirements_pip.txt (line 116)) (1.7.1)\n",
            "Requirement already satisfied: pytest==8.3.4 in /usr/local/lib/python3.10/dist-packages (from -r requirements_pip.txt (line 117)) (8.3.4)\n",
            "Collecting python-dateutil==2.9.0.post0 (from -r requirements_pip.txt (line 118))\n",
            "  Downloading python_dateutil-2.9.0.post0-py2.py3-none-any.whl.metadata (8.4 kB)\n",
            "Collecting python-json-logger==3.2.1 (from -r requirements_pip.txt (line 119))\n",
            "  Downloading python_json_logger-3.2.1-py3-none-any.whl.metadata (4.1 kB)\n",
            "Collecting python-slugify==5.0.2 (from -r requirements_pip.txt (line 120))\n",
            "  Downloading python_slugify-5.0.2-py2.py3-none-any.whl.metadata (995 bytes)\n",
            "Collecting pytz==2024.1 (from -r requirements_pip.txt (line 121))\n",
            "  Downloading pytz-2024.1-py2.py3-none-any.whl.metadata (22 kB)\n",
            "Requirement already satisfied: PyYAML==6.0.2 in /usr/local/lib/python3.10/dist-packages (from -r requirements_pip.txt (line 122)) (6.0.2)\n",
            "Collecting pyzmq==26.2.0 (from -r requirements_pip.txt (line 123))\n",
            "  Downloading pyzmq-26.2.0-cp310-cp310-manylinux_2_28_x86_64.whl.metadata (6.2 kB)\n",
            "Collecting qtconsole==5.6.0 (from -r requirements_pip.txt (line 124))\n",
            "  Downloading qtconsole-5.6.0-py3-none-any.whl.metadata (5.0 kB)\n",
            "Collecting QtPy==2.4.1 (from -r requirements_pip.txt (line 125))\n",
            "  Downloading QtPy-2.4.1-py3-none-any.whl.metadata (12 kB)\n",
            "Collecting referencing==0.30.2 (from -r requirements_pip.txt (line 126))\n",
            "  Downloading referencing-0.30.2-py3-none-any.whl.metadata (2.6 kB)\n",
            "Collecting regex==2024.9.11 (from -r requirements_pip.txt (line 127))\n",
            "  Downloading regex-2024.9.11-cp310-cp310-manylinux_2_17_x86_64.manylinux2014_x86_64.whl.metadata (40 kB)\n",
            "\u001b[2K     \u001b[90m━━━━━━━━━━━━━━━━━━━━━━━━━━━━━━━━━━━━━━━━\u001b[0m \u001b[32m40.5/40.5 kB\u001b[0m \u001b[31m3.1 MB/s\u001b[0m eta \u001b[36m0:00:00\u001b[0m\n",
            "\u001b[?25hRequirement already satisfied: requests==2.32.3 in /usr/local/lib/python3.10/dist-packages (from -r requirements_pip.txt (line 128)) (2.32.3)\n",
            "Requirement already satisfied: research_classifier==0.1 in /content/research-classifier (from -r requirements_pip.txt (line 129)) (0.1)\n",
            "Collecting responses==0.13.3 (from -r requirements_pip.txt (line 130))\n",
            "  Downloading responses-0.13.3-py2.py3-none-any.whl.metadata (17 kB)\n",
            "Collecting rfc3339-validator==0.1.4 (from -r requirements_pip.txt (line 131))\n",
            "  Downloading rfc3339_validator-0.1.4-py2.py3-none-any.whl.metadata (1.5 kB)\n",
            "Collecting rfc3986-validator==0.1.1 (from -r requirements_pip.txt (line 132))\n",
            "  Downloading rfc3986_validator-0.1.1-py2.py3-none-any.whl.metadata (1.7 kB)\n",
            "Requirement already satisfied: rich==13.9.4 in /usr/local/lib/python3.10/dist-packages (from -r requirements_pip.txt (line 133)) (13.9.4)\n",
            "Collecting rpds-py==0.10.6 (from -r requirements_pip.txt (line 134))\n",
            "  Downloading rpds_py-0.10.6-cp310-cp310-manylinux_2_17_x86_64.manylinux2014_x86_64.whl.metadata (3.7 kB)\n",
            "Requirement already satisfied: safetensors==0.4.5 in /usr/local/lib/python3.10/dist-packages (from -r requirements_pip.txt (line 135)) (0.4.5)\n",
            "Collecting scikit-learn==1.5.2 (from -r requirements_pip.txt (line 136))\n",
            "  Downloading scikit_learn-1.5.2-cp310-cp310-manylinux_2_17_x86_64.manylinux2014_x86_64.whl.metadata (13 kB)\n",
            "Collecting scipy==1.14.1 (from -r requirements_pip.txt (line 137))\n",
            "  Downloading scipy-1.14.1-cp310-cp310-manylinux_2_17_x86_64.manylinux2014_x86_64.whl.metadata (60 kB)\n",
            "\u001b[2K     \u001b[90m━━━━━━━━━━━━━━━━━━━━━━━━━━━━━━━━━━━━━━━━\u001b[0m \u001b[32m60.8/60.8 kB\u001b[0m \u001b[31m5.0 MB/s\u001b[0m eta \u001b[36m0:00:00\u001b[0m\n",
            "\u001b[?25hCollecting Send2Trash==1.8.2 (from -r requirements_pip.txt (line 138))\n",
            "  Downloading Send2Trash-1.8.2-py3-none-any.whl.metadata (4.0 kB)\n",
            "Requirement already satisfied: setuptools==75.1.0 in /usr/local/lib/python3.10/dist-packages (from -r requirements_pip.txt (line 139)) (75.1.0)\n",
            "Collecting sip==6.7.12 (from -r requirements_pip.txt (line 140))\n",
            "  Downloading sip-6.7.12-cp37-abi3-manylinux_2_5_x86_64.manylinux1_x86_64.whl.metadata (3.3 kB)\n",
            "Collecting six==1.16.0 (from -r requirements_pip.txt (line 141))\n",
            "  Downloading six-1.16.0-py2.py3-none-any.whl.metadata (1.8 kB)\n",
            "Collecting sniffio==1.3.0 (from -r requirements_pip.txt (line 142))\n",
            "  Downloading sniffio-1.3.0-py3-none-any.whl.metadata (3.6 kB)\n",
            "Collecting soupsieve==2.5 (from -r requirements_pip.txt (line 143))\n",
            "  Downloading soupsieve-2.5-py3-none-any.whl.metadata (4.7 kB)\n",
            "Collecting sqlparse==0.5.2 (from -r requirements_pip.txt (line 144))\n",
            "  Downloading sqlparse-0.5.2-py3-none-any.whl.metadata (3.9 kB)\n",
            "Collecting stack-data==0.2.0 (from -r requirements_pip.txt (line 145))\n",
            "  Downloading stack_data-0.2.0-py3-none-any.whl.metadata (18 kB)\n",
            "Collecting sympy==1.13.3 (from -r requirements_pip.txt (line 146))\n",
            "  Downloading sympy-1.13.3-py3-none-any.whl.metadata (12 kB)\n",
            "Collecting terminado==0.17.1 (from -r requirements_pip.txt (line 147))\n",
            "  Downloading terminado-0.17.1-py3-none-any.whl.metadata (5.9 kB)\n",
            "Requirement already satisfied: text-unidecode==1.3 in /usr/local/lib/python3.10/dist-packages (from -r requirements_pip.txt (line 148)) (1.3)\n",
            "Requirement already satisfied: threadpoolctl==3.5.0 in /usr/local/lib/python3.10/dist-packages (from -r requirements_pip.txt (line 149)) (3.5.0)\n",
            "Collecting tinycss2==1.2.1 (from -r requirements_pip.txt (line 150))\n",
            "  Downloading tinycss2-1.2.1-py3-none-any.whl.metadata (3.0 kB)\n",
            "Requirement already satisfied: tokenizers==0.21.0 in /usr/local/lib/python3.10/dist-packages (from -r requirements_pip.txt (line 151)) (0.21.0)\n",
            "Collecting tomli==2.0.1 (from -r requirements_pip.txt (line 152))\n",
            "  Downloading tomli-2.0.1-py3-none-any.whl.metadata (8.9 kB)\n",
            "Requirement already satisfied: torch==2.5.1 in /usr/local/lib/python3.10/dist-packages (from -r requirements_pip.txt (line 153)) (2.5.1+cu121)\n",
            "Collecting tornado==6.4.2 (from -r requirements_pip.txt (line 154))\n",
            "  Downloading tornado-6.4.2-cp38-abi3-manylinux_2_5_x86_64.manylinux1_x86_64.manylinux_2_17_x86_64.manylinux2014_x86_64.whl.metadata (2.5 kB)\n",
            "Collecting tqdm==4.66.5 (from -r requirements_pip.txt (line 155))\n",
            "  Downloading tqdm-4.66.5-py3-none-any.whl.metadata (57 kB)\n",
            "\u001b[2K     \u001b[90m━━━━━━━━━━━━━━━━━━━━━━━━━━━━━━━━━━━━━━━━\u001b[0m \u001b[32m57.6/57.6 kB\u001b[0m \u001b[31m5.6 MB/s\u001b[0m eta \u001b[36m0:00:00\u001b[0m\n",
            "\u001b[?25hCollecting traitlets==5.14.3 (from -r requirements_pip.txt (line 156))\n",
            "  Downloading traitlets-5.14.3-py3-none-any.whl.metadata (10 kB)\n",
            "Requirement already satisfied: transformers==4.47.1 in /usr/local/lib/python3.10/dist-packages (from -r requirements_pip.txt (line 157)) (4.47.1)\n",
            "Requirement already satisfied: typing_extensions==4.12.2 in /usr/local/lib/python3.10/dist-packages (from -r requirements_pip.txt (line 158)) (4.12.2)\n",
            "Collecting tzdata==2023.3 (from -r requirements_pip.txt (line 159))\n",
            "  Downloading tzdata-2023.3-py2.py3-none-any.whl.metadata (1.4 kB)\n",
            "Collecting unicodedata2==15.1.0 (from -r requirements_pip.txt (line 160))\n",
            "  Downloading unicodedata2-15.1.0-cp310-cp310-manylinux_2_17_x86_64.manylinux2014_x86_64.whl.metadata (3.0 kB)\n",
            "Collecting Unidecode==1.3.8 (from -r requirements_pip.txt (line 161))\n",
            "  Downloading Unidecode-1.3.8-py3-none-any.whl.metadata (13 kB)\n",
            "Requirement already satisfied: urllib3==2.2.3 in /usr/local/lib/python3.10/dist-packages (from -r requirements_pip.txt (line 162)) (2.2.3)\n",
            "Collecting wcwidth==0.2.5 (from -r requirements_pip.txt (line 163))\n",
            "  Downloading wcwidth-0.2.5-py2.py3-none-any.whl.metadata (11 kB)\n",
            "Requirement already satisfied: webencodings==0.5.1 in /usr/local/lib/python3.10/dist-packages (from -r requirements_pip.txt (line 164)) (0.5.1)\n",
            "Requirement already satisfied: websocket-client==1.8.0 in /usr/local/lib/python3.10/dist-packages (from -r requirements_pip.txt (line 165)) (1.8.0)\n",
            "Collecting wheel==0.44.0 (from -r requirements_pip.txt (line 166))\n",
            "  Downloading wheel-0.44.0-py3-none-any.whl.metadata (2.3 kB)\n",
            "Collecting widgetsnbextension==4.0.13 (from -r requirements_pip.txt (line 167))\n",
            "  Downloading widgetsnbextension-4.0.13-py3-none-any.whl.metadata (1.6 kB)\n",
            "Collecting xxhash==2.0.2 (from -r requirements_pip.txt (line 168))\n",
            "  Downloading xxhash-2.0.2.tar.gz (64 kB)\n",
            "\u001b[2K     \u001b[90m━━━━━━━━━━━━━━━━━━━━━━━━━━━━━━━━━━━━━━━━\u001b[0m \u001b[32m64.3/64.3 kB\u001b[0m \u001b[31m5.2 MB/s\u001b[0m eta \u001b[36m0:00:00\u001b[0m\n",
            "\u001b[?25h  Preparing metadata (setup.py) ... \u001b[?25l\u001b[?25hdone\n",
            "Collecting yarl==1.18.0 (from -r requirements_pip.txt (line 169))\n",
            "  Downloading yarl-1.18.0-cp310-cp310-manylinux_2_17_x86_64.manylinux2014_x86_64.whl.metadata (67 kB)\n",
            "\u001b[2K     \u001b[90m━━━━━━━━━━━━━━━━━━━━━━━━━━━━━━━━━━━━━━━━\u001b[0m \u001b[32m67.7/67.7 kB\u001b[0m \u001b[31m5.1 MB/s\u001b[0m eta \u001b[36m0:00:00\u001b[0m\n",
            "\u001b[?25hRequirement already satisfied: async-timeout<6.0,>=4.0 in /usr/local/lib/python3.10/dist-packages (from aiohttp==3.11.10->-r requirements_pip.txt (line 2)) (4.0.3)\n",
            "Collecting types-python-dateutil>=2.8.10 (from arrow==1.3.0->-r requirements_pip.txt (line 8))\n",
            "  Downloading types_python_dateutil-2.9.0.20241206-py3-none-any.whl.metadata (2.1 kB)\n",
            "Collecting PyQt5-Qt5>=5.15.2 (from PyQt5==5.15.10->-r requirements_pip.txt (line 114))\n",
            "  Downloading PyQt5_Qt5-5.15.16-py3-none-manylinux2014_x86_64.whl.metadata (536 bytes)\n",
            "INFO: pip is looking at multiple versions of torch to determine which version is compatible with other requirements. This could take a while.\n",
            "Collecting torch==2.5.1 (from -r requirements_pip.txt (line 153))\n",
            "  Downloading torch-2.5.1-cp310-cp310-manylinux1_x86_64.whl.metadata (28 kB)\n",
            "Collecting nvidia-cuda-nvrtc-cu12==12.4.127 (from torch==2.5.1->-r requirements_pip.txt (line 153))\n",
            "  Downloading nvidia_cuda_nvrtc_cu12-12.4.127-py3-none-manylinux2014_x86_64.whl.metadata (1.5 kB)\n",
            "Collecting nvidia-cuda-runtime-cu12==12.4.127 (from torch==2.5.1->-r requirements_pip.txt (line 153))\n",
            "  Downloading nvidia_cuda_runtime_cu12-12.4.127-py3-none-manylinux2014_x86_64.whl.metadata (1.5 kB)\n",
            "Collecting nvidia-cuda-cupti-cu12==12.4.127 (from torch==2.5.1->-r requirements_pip.txt (line 153))\n",
            "  Downloading nvidia_cuda_cupti_cu12-12.4.127-py3-none-manylinux2014_x86_64.whl.metadata (1.6 kB)\n",
            "Collecting nvidia-cudnn-cu12==9.1.0.70 (from torch==2.5.1->-r requirements_pip.txt (line 153))\n",
            "  Downloading nvidia_cudnn_cu12-9.1.0.70-py3-none-manylinux2014_x86_64.whl.metadata (1.6 kB)\n",
            "Collecting nvidia-cublas-cu12==12.4.5.8 (from torch==2.5.1->-r requirements_pip.txt (line 153))\n",
            "\u001b[33m  WARNING: Retrying (Retry(total=4, connect=None, read=None, redirect=None, status=None)) after connection broken by 'ProtocolError('Connection aborted.', RemoteDisconnected('Remote end closed connection without response'))': /packages/ae/71/1c91302526c45ab494c23f61c7a84aa568b8c1f9d196efa5993957faf906/nvidia_cublas_cu12-12.4.5.8-py3-none-manylinux2014_x86_64.whl.metadata\u001b[0m\u001b[33m\n",
            "\u001b[0m  Downloading nvidia_cublas_cu12-12.4.5.8-py3-none-manylinux2014_x86_64.whl.metadata (1.5 kB)\n",
            "Collecting nvidia-cufft-cu12==11.2.1.3 (from torch==2.5.1->-r requirements_pip.txt (line 153))\n",
            "  Downloading nvidia_cufft_cu12-11.2.1.3-py3-none-manylinux2014_x86_64.whl.metadata (1.5 kB)\n",
            "Collecting nvidia-curand-cu12==10.3.5.147 (from torch==2.5.1->-r requirements_pip.txt (line 153))\n",
            "  Downloading nvidia_curand_cu12-10.3.5.147-py3-none-manylinux2014_x86_64.whl.metadata (1.5 kB)\n",
            "Collecting nvidia-cusolver-cu12==11.6.1.9 (from torch==2.5.1->-r requirements_pip.txt (line 153))\n",
            "  Downloading nvidia_cusolver_cu12-11.6.1.9-py3-none-manylinux2014_x86_64.whl.metadata (1.6 kB)\n",
            "Collecting nvidia-cusparse-cu12==12.3.1.170 (from torch==2.5.1->-r requirements_pip.txt (line 153))\n",
            "  Downloading nvidia_cusparse_cu12-12.3.1.170-py3-none-manylinux2014_x86_64.whl.metadata (1.6 kB)\n",
            "Collecting nvidia-nccl-cu12==2.21.5 (from torch==2.5.1->-r requirements_pip.txt (line 153))\n",
            "  Downloading nvidia_nccl_cu12-2.21.5-py3-none-manylinux2014_x86_64.whl.metadata (1.8 kB)\n",
            "Collecting nvidia-nvtx-cu12==12.4.127 (from torch==2.5.1->-r requirements_pip.txt (line 153))\n",
            "  Downloading nvidia_nvtx_cu12-12.4.127-py3-none-manylinux2014_x86_64.whl.metadata (1.7 kB)\n",
            "Collecting nvidia-nvjitlink-cu12==12.4.127 (from torch==2.5.1->-r requirements_pip.txt (line 153))\n",
            "  Downloading nvidia_nvjitlink_cu12-12.4.127-py3-none-manylinux2014_x86_64.whl.metadata (1.5 kB)\n",
            "Collecting triton==3.1.0 (from torch==2.5.1->-r requirements_pip.txt (line 153))\n",
            "  Downloading triton-3.1.0-cp310-cp310-manylinux_2_17_x86_64.manylinux2014_x86_64.whl.metadata (1.3 kB)\n",
            "\u001b[31mERROR: Cannot install -r requirements_pip.txt (line 153), sympy==1.13.3 and torch==2.5.1+cu121 because these package versions have conflicting dependencies.\u001b[0m\u001b[31m\n",
            "\u001b[0m\n",
            "The conflict is caused by:\n",
            "    The user requested sympy==1.13.3\n",
            "    torch 2.5.1+cu121 depends on sympy==1.13.1; python_version >= \"3.9\"\n",
            "    The user requested sympy==1.13.3\n",
            "    torch 2.5.1 depends on sympy==1.13.1; python_version >= \"3.9\"\n",
            "\n",
            "To fix this you could try to:\n",
            "1. loosen the range of package versions you've specified\n",
            "2. remove package versions to allow pip to attempt to solve the dependency conflict\n",
            "\n",
            "\u001b[31mERROR: ResolutionImpossible: for help visit https://pip.pypa.io/en/latest/topics/dependency-resolution/#dealing-with-dependency-conflicts\u001b[0m\u001b[31m\n",
            "\u001b[0m"
          ]
        }
      ]
    },
    {
      "cell_type": "code",
      "source": [
        "!pip install transformers datasets"
      ],
      "metadata": {
        "colab": {
          "base_uri": "https://localhost:8080/"
        },
        "id": "pYVu8b8ZKLOT",
        "outputId": "18e8cdd6-a670-4419-bc2f-dc02fa81269e"
      },
      "execution_count": 8,
      "outputs": [
        {
          "output_type": "stream",
          "name": "stdout",
          "text": [
            "Requirement already satisfied: transformers in /usr/local/lib/python3.10/dist-packages (4.47.1)\n",
            "Collecting datasets\n",
            "  Using cached datasets-3.2.0-py3-none-any.whl.metadata (20 kB)\n",
            "Requirement already satisfied: filelock in /usr/local/lib/python3.10/dist-packages (from transformers) (3.16.1)\n",
            "Requirement already satisfied: huggingface-hub<1.0,>=0.24.0 in /usr/local/lib/python3.10/dist-packages (from transformers) (0.27.0)\n",
            "Requirement already satisfied: numpy>=1.17 in /usr/local/lib/python3.10/dist-packages (from transformers) (1.26.4)\n",
            "Requirement already satisfied: packaging>=20.0 in /usr/local/lib/python3.10/dist-packages (from transformers) (24.2)\n",
            "Requirement already satisfied: pyyaml>=5.1 in /usr/local/lib/python3.10/dist-packages (from transformers) (6.0.2)\n",
            "Requirement already satisfied: regex!=2019.12.17 in /usr/local/lib/python3.10/dist-packages (from transformers) (2024.11.6)\n",
            "Requirement already satisfied: requests in /usr/local/lib/python3.10/dist-packages (from transformers) (2.32.3)\n",
            "Requirement already satisfied: tokenizers<0.22,>=0.21 in /usr/local/lib/python3.10/dist-packages (from transformers) (0.21.0)\n",
            "Requirement already satisfied: safetensors>=0.4.1 in /usr/local/lib/python3.10/dist-packages (from transformers) (0.4.5)\n",
            "Requirement already satisfied: tqdm>=4.27 in /usr/local/lib/python3.10/dist-packages (from transformers) (4.67.1)\n",
            "Requirement already satisfied: pyarrow>=15.0.0 in /usr/local/lib/python3.10/dist-packages (from datasets) (17.0.0)\n",
            "Collecting dill<0.3.9,>=0.3.0 (from datasets)\n",
            "  Using cached dill-0.3.8-py3-none-any.whl.metadata (10 kB)\n",
            "Requirement already satisfied: pandas in /usr/local/lib/python3.10/dist-packages (from datasets) (2.2.2)\n",
            "Collecting xxhash (from datasets)\n",
            "  Downloading xxhash-3.5.0-cp310-cp310-manylinux_2_17_x86_64.manylinux2014_x86_64.whl.metadata (12 kB)\n",
            "Collecting multiprocess<0.70.17 (from datasets)\n",
            "  Downloading multiprocess-0.70.16-py310-none-any.whl.metadata (7.2 kB)\n",
            "Collecting fsspec<=2024.9.0,>=2023.1.0 (from fsspec[http]<=2024.9.0,>=2023.1.0->datasets)\n",
            "  Downloading fsspec-2024.9.0-py3-none-any.whl.metadata (11 kB)\n",
            "Requirement already satisfied: aiohttp in /usr/local/lib/python3.10/dist-packages (from datasets) (3.11.10)\n",
            "Requirement already satisfied: aiohappyeyeballs>=2.3.0 in /usr/local/lib/python3.10/dist-packages (from aiohttp->datasets) (2.4.4)\n",
            "Requirement already satisfied: aiosignal>=1.1.2 in /usr/local/lib/python3.10/dist-packages (from aiohttp->datasets) (1.3.2)\n",
            "Requirement already satisfied: async-timeout<6.0,>=4.0 in /usr/local/lib/python3.10/dist-packages (from aiohttp->datasets) (4.0.3)\n",
            "Requirement already satisfied: attrs>=17.3.0 in /usr/local/lib/python3.10/dist-packages (from aiohttp->datasets) (24.3.0)\n",
            "Requirement already satisfied: frozenlist>=1.1.1 in /usr/local/lib/python3.10/dist-packages (from aiohttp->datasets) (1.5.0)\n",
            "Requirement already satisfied: multidict<7.0,>=4.5 in /usr/local/lib/python3.10/dist-packages (from aiohttp->datasets) (6.1.0)\n",
            "Requirement already satisfied: propcache>=0.2.0 in /usr/local/lib/python3.10/dist-packages (from aiohttp->datasets) (0.2.1)\n",
            "Requirement already satisfied: yarl<2.0,>=1.17.0 in /usr/local/lib/python3.10/dist-packages (from aiohttp->datasets) (1.18.3)\n",
            "Requirement already satisfied: typing-extensions>=3.7.4.3 in /usr/local/lib/python3.10/dist-packages (from huggingface-hub<1.0,>=0.24.0->transformers) (4.12.2)\n",
            "Requirement already satisfied: charset-normalizer<4,>=2 in /usr/local/lib/python3.10/dist-packages (from requests->transformers) (3.4.0)\n",
            "Requirement already satisfied: idna<4,>=2.5 in /usr/local/lib/python3.10/dist-packages (from requests->transformers) (3.10)\n",
            "Requirement already satisfied: urllib3<3,>=1.21.1 in /usr/local/lib/python3.10/dist-packages (from requests->transformers) (2.2.3)\n",
            "Requirement already satisfied: certifi>=2017.4.17 in /usr/local/lib/python3.10/dist-packages (from requests->transformers) (2024.12.14)\n",
            "Requirement already satisfied: python-dateutil>=2.8.2 in /usr/local/lib/python3.10/dist-packages (from pandas->datasets) (2.8.2)\n",
            "Requirement already satisfied: pytz>=2020.1 in /usr/local/lib/python3.10/dist-packages (from pandas->datasets) (2024.2)\n",
            "Requirement already satisfied: tzdata>=2022.7 in /usr/local/lib/python3.10/dist-packages (from pandas->datasets) (2024.2)\n",
            "Requirement already satisfied: six>=1.5 in /usr/local/lib/python3.10/dist-packages (from python-dateutil>=2.8.2->pandas->datasets) (1.17.0)\n",
            "Downloading datasets-3.2.0-py3-none-any.whl (480 kB)\n",
            "\u001b[2K   \u001b[90m━━━━━━━━━━━━━━━━━━━━━━━━━━━━━━━━━━━━━━━━\u001b[0m \u001b[32m480.6/480.6 kB\u001b[0m \u001b[31m27.9 MB/s\u001b[0m eta \u001b[36m0:00:00\u001b[0m\n",
            "\u001b[?25hDownloading dill-0.3.8-py3-none-any.whl (116 kB)\n",
            "\u001b[2K   \u001b[90m━━━━━━━━━━━━━━━━━━━━━━━━━━━━━━━━━━━━━━━━\u001b[0m \u001b[32m116.3/116.3 kB\u001b[0m \u001b[31m11.4 MB/s\u001b[0m eta \u001b[36m0:00:00\u001b[0m\n",
            "\u001b[?25hDownloading fsspec-2024.9.0-py3-none-any.whl (179 kB)\n",
            "\u001b[2K   \u001b[90m━━━━━━━━━━━━━━━━━━━━━━━━━━━━━━━━━━━━━━━━\u001b[0m \u001b[32m179.3/179.3 kB\u001b[0m \u001b[31m17.6 MB/s\u001b[0m eta \u001b[36m0:00:00\u001b[0m\n",
            "\u001b[?25hDownloading multiprocess-0.70.16-py310-none-any.whl (134 kB)\n",
            "\u001b[2K   \u001b[90m━━━━━━━━━━━━━━━━━━━━━━━━━━━━━━━━━━━━━━━━\u001b[0m \u001b[32m134.8/134.8 kB\u001b[0m \u001b[31m13.2 MB/s\u001b[0m eta \u001b[36m0:00:00\u001b[0m\n",
            "\u001b[?25hDownloading xxhash-3.5.0-cp310-cp310-manylinux_2_17_x86_64.manylinux2014_x86_64.whl (194 kB)\n",
            "\u001b[2K   \u001b[90m━━━━━━━━━━━━━━━━━━━━━━━━━━━━━━━━━━━━━━━━\u001b[0m \u001b[32m194.1/194.1 kB\u001b[0m \u001b[31m18.8 MB/s\u001b[0m eta \u001b[36m0:00:00\u001b[0m\n",
            "\u001b[?25hInstalling collected packages: xxhash, fsspec, dill, multiprocess, datasets\n",
            "  Attempting uninstall: fsspec\n",
            "    Found existing installation: fsspec 2024.10.0\n",
            "    Uninstalling fsspec-2024.10.0:\n",
            "      Successfully uninstalled fsspec-2024.10.0\n",
            "\u001b[31mERROR: pip's dependency resolver does not currently take into account all the packages that are installed. This behaviour is the source of the following dependency conflicts.\n",
            "gcsfs 2024.10.0 requires fsspec==2024.10.0, but you have fsspec 2024.9.0 which is incompatible.\u001b[0m\u001b[31m\n",
            "\u001b[0mSuccessfully installed datasets-3.2.0 dill-0.3.8 fsspec-2024.9.0 multiprocess-0.70.16 xxhash-3.5.0\n"
          ]
        }
      ]
    },
    {
      "cell_type": "code",
      "source": [
        "output_dir = \"/content/research-classifier/research_classifier/output\""
      ],
      "metadata": {
        "id": "blGu5iULKTUY"
      },
      "execution_count": 9,
      "outputs": []
    },
    {
      "cell_type": "code",
      "source": [
        "%pwd"
      ],
      "metadata": {
        "colab": {
          "base_uri": "https://localhost:8080/",
          "height": 35
        },
        "id": "Uo0nBgXNKda2",
        "outputId": "62f42b95-0dd3-43fa-8b08-acbf1df80cdd"
      },
      "execution_count": 10,
      "outputs": [
        {
          "output_type": "execute_result",
          "data": {
            "text/plain": [
              "'/content/research-classifier'"
            ],
            "application/vnd.google.colaboratory.intrinsic+json": {
              "type": "string"
            }
          },
          "metadata": {},
          "execution_count": 10
        }
      ]
    },
    {
      "cell_type": "code",
      "source": [
        "%cd research_classifier"
      ],
      "metadata": {
        "colab": {
          "base_uri": "https://localhost:8080/"
        },
        "id": "P2ZbNdRdLDmd",
        "outputId": "efc52970-b724-4a7a-93c0-35d0e56a3f94"
      },
      "execution_count": 11,
      "outputs": [
        {
          "output_type": "stream",
          "name": "stdout",
          "text": [
            "/content/research-classifier/research_classifier\n"
          ]
        }
      ]
    },
    {
      "cell_type": "code",
      "source": [
        "!python preprocessing/undersampling.py \"/content/drive/MyDrive/arxiv-metadata-oai-snapshot.json\" \"/content/drive/MyDrive/arxiv-metadata-oai-snapshot-undersampled.json\""
      ],
      "metadata": {
        "colab": {
          "base_uri": "https://localhost:8080/"
        },
        "id": "bokz12Rz00ux",
        "outputId": "614aa3cf-56e9-49ac-e8e2-3870fba3adfe"
      },
      "execution_count": 19,
      "outputs": [
        {
          "output_type": "stream",
          "name": "stdout",
          "text": [
            "2025-01-05 23:40:04.033243: E external/local_xla/xla/stream_executor/cuda/cuda_fft.cc:485] Unable to register cuFFT factory: Attempting to register factory for plugin cuFFT when one has already been registered\n",
            "2025-01-05 23:40:04.053725: E external/local_xla/xla/stream_executor/cuda/cuda_dnn.cc:8454] Unable to register cuDNN factory: Attempting to register factory for plugin cuDNN when one has already been registered\n",
            "2025-01-05 23:40:04.059652: E external/local_xla/xla/stream_executor/cuda/cuda_blas.cc:1452] Unable to register cuBLAS factory: Attempting to register factory for plugin cuBLAS when one has already been registered\n",
            "2025-01-05 23:40:04.074062: I tensorflow/core/platform/cpu_feature_guard.cc:210] This TensorFlow binary is optimized to use available CPU instructions in performance-critical operations.\n",
            "To enable the following instructions: AVX2 AVX512F FMA, in other operations, rebuild TensorFlow with the appropriate compiler flags.\n",
            "2025-01-05 23:40:05.226936: W tensorflow/compiler/tf2tensorrt/utils/py_utils.cc:38] TF-TRT Warning: Could not find TensorRT\n",
            "tokenizer_config.json: 100% 49.0/49.0 [00:00<00:00, 296kB/s]\n",
            "config.json: 100% 570/570 [00:00<00:00, 4.64MB/s]\n",
            "vocab.txt: 100% 213k/213k [00:00<00:00, 1.63MB/s]\n",
            "tokenizer.json: 100% 436k/436k [00:00<00:00, 3.05MB/s]\n",
            "Generating train split: 2635119 examples [01:34, 28032.39 examples/s]\n",
            "Using median 13557.0 as threshold\n",
            "Filter: 100% 2635119/2635119 [00:23<00:00, 112312.56 examples/s]\n",
            "Creating json from Arrow format: 100% 1251/1251 [00:23<00:00, 54.09ba/s]\n",
            "1250081\n"
          ]
        }
      ]
    },
    {
      "cell_type": "code",
      "source": [
        "!python training/trainer.py \"/content/drive/MyDrive/arxiv-metadata-oai-snapshot-undersampled.json\" \"/content/research-classifier/research_classifier/output\""
      ],
      "metadata": {
        "colab": {
          "base_uri": "https://localhost:8080/"
        },
        "id": "qeP7BOXCLTBC",
        "outputId": "bd4a9a5b-8caf-4577-8f3f-85531c7a7630"
      },
      "execution_count": null,
      "outputs": [
        {
          "output_type": "stream",
          "name": "stdout",
          "text": [
            "2025-01-06 13:38:50.213716: E external/local_xla/xla/stream_executor/cuda/cuda_fft.cc:485] Unable to register cuFFT factory: Attempting to register factory for plugin cuFFT when one has already been registered\n",
            "2025-01-06 13:38:50.232768: E external/local_xla/xla/stream_executor/cuda/cuda_dnn.cc:8454] Unable to register cuDNN factory: Attempting to register factory for plugin cuDNN when one has already been registered\n",
            "2025-01-06 13:38:50.238556: E external/local_xla/xla/stream_executor/cuda/cuda_blas.cc:1452] Unable to register cuBLAS factory: Attempting to register factory for plugin cuBLAS when one has already been registered\n",
            "2025-01-06 13:38:50.252809: I tensorflow/core/platform/cpu_feature_guard.cc:210] This TensorFlow binary is optimized to use available CPU instructions in performance-critical operations.\n",
            "To enable the following instructions: AVX2 AVX512F FMA, in other operations, rebuild TensorFlow with the appropriate compiler flags.\n",
            "2025-01-06 13:38:51.467654: W tensorflow/compiler/tf2tensorrt/utils/py_utils.cc:38] TF-TRT Warning: Could not find TensorRT\n",
            "Map: 100% 1250081/1250081 [12:43<00:00, 1638.24 examples/s]\n",
            "/usr/local/lib/python3.10/dist-packages/transformers/training_args.py:1575: FutureWarning: `evaluation_strategy` is deprecated and will be removed in version 4.46 of 🤗 Transformers. Use `eval_strategy` instead\n",
            "  warnings.warn(\n",
            "model.safetensors: 100% 436M/436M [00:02<00:00, 194MB/s]\n",
            "Some weights of BertForSequenceClassification were not initialized from the model checkpoint at bert-base-cased and are newly initialized: ['classifier.bias', 'classifier.weight']\n",
            "You should probably TRAIN this model on a down-stream task to be able to use it for predictions and inference.\n",
            "{'loss': 0.1091, 'grad_norm': 0.057351842522621155, 'learning_rate': 4.9959598701987096e-05, 'epoch': 0.01}\n",
            "{'loss': 0.0633, 'grad_norm': 0.05972452089190483, 'learning_rate': 4.99191974039742e-05, 'epoch': 0.01}\n",
            "{'loss': 0.0583, 'grad_norm': 0.06277799606323242, 'learning_rate': 4.98787961059613e-05, 'epoch': 0.02}\n",
            "{'loss': 0.0513, 'grad_norm': 0.07039345055818558, 'learning_rate': 4.983839480794839e-05, 'epoch': 0.03}\n",
            "{'loss': 0.046, 'grad_norm': 0.06935858726501465, 'learning_rate': 4.979799350993549e-05, 'epoch': 0.03}\n",
            "{'loss': 0.0429, 'grad_norm': 0.09819008409976959, 'learning_rate': 4.9757592211922586e-05, 'epoch': 0.04}\n",
            "{'loss': 0.0399, 'grad_norm': 0.07770197838544846, 'learning_rate': 4.9717190913909686e-05, 'epoch': 0.05}\n",
            "{'loss': 0.038, 'grad_norm': 0.1076730415225029, 'learning_rate': 4.967678961589678e-05, 'epoch': 0.05}\n",
            "{'loss': 0.0371, 'grad_norm': 0.09382893145084381, 'learning_rate': 4.963638831788388e-05, 'epoch': 0.06}\n",
            "  1% 4948/618792 [1:37:40<218:03:05,  1.28s/it]"
          ]
        }
      ]
    },
    {
      "cell_type": "code",
      "source": [
        "!git pull"
      ],
      "metadata": {
        "colab": {
          "base_uri": "https://localhost:8080/"
        },
        "id": "E-pgQLh0L0MA",
        "outputId": "b0596b8e-6776-49a5-94f2-5772509b9dea"
      },
      "execution_count": 14,
      "outputs": [
        {
          "output_type": "stream",
          "name": "stdout",
          "text": [
            "remote: Enumerating objects: 9, done.\u001b[K\n",
            "remote: Counting objects:  11% (1/9)\u001b[K\rremote: Counting objects:  22% (2/9)\u001b[K\rremote: Counting objects:  33% (3/9)\u001b[K\rremote: Counting objects:  44% (4/9)\u001b[K\rremote: Counting objects:  55% (5/9)\u001b[K\rremote: Counting objects:  66% (6/9)\u001b[K\rremote: Counting objects:  77% (7/9)\u001b[K\rremote: Counting objects:  88% (8/9)\u001b[K\rremote: Counting objects: 100% (9/9)\u001b[K\rremote: Counting objects: 100% (9/9), done.\u001b[K\n",
            "remote: Compressing objects: 100% (1/1)\u001b[K\rremote: Compressing objects: 100% (1/1), done.\u001b[K\n",
            "remote: Total 5 (delta 4), reused 5 (delta 4), pack-reused 0 (from 0)\u001b[K\n",
            "Unpacking objects:  20% (1/5)\rUnpacking objects:  40% (2/5)\rUnpacking objects:  60% (3/5)\rUnpacking objects:  80% (4/5)\rUnpacking objects: 100% (5/5)\rUnpacking objects: 100% (5/5), 419 bytes | 419.00 KiB/s, done.\n",
            "From https://github.com/borislavab/research-classifier\n",
            "   272132f..bd1d4f8  main       -> origin/main\n",
            "Updating 272132f..bd1d4f8\n",
            "Fast-forward\n",
            " research_classifier/preprocessing/pipeline.py | 2 \u001b[32m+\u001b[m\u001b[31m-\u001b[m\n",
            " 1 file changed, 1 insertion(+), 1 deletion(-)\n"
          ]
        }
      ]
    },
    {
      "cell_type": "code",
      "source": [],
      "metadata": {
        "id": "ouksWylYOYOl"
      },
      "execution_count": null,
      "outputs": []
    }
  ]
}