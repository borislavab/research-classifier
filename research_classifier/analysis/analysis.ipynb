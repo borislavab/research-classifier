{
 "cells": [
  {
   "cell_type": "markdown",
   "id": "7ba11c1e-2a32-4e3a-aeca-37ca559a875c",
   "metadata": {},
   "source": [
    "## Download dataset"
   ]
  },
  {
   "cell_type": "code",
   "execution_count": 1,
   "id": "0a67dc39-c117-4d46-a743-558355bf8175",
   "metadata": {},
   "outputs": [
    {
     "name": "stdout",
     "output_type": "stream",
     "text": [
      "Warning: Looks like you're using an outdated `kagglehub` version, please consider updating (latest version: 0.3.6)\n"
     ]
    },
    {
     "data": {
      "text/plain": [
       "'/Users/bbagaliyska/.cache/kagglehub/datasets/Cornell-University/arxiv/versions/212/arxiv-metadata-oai-snapshot.json'"
      ]
     },
     "execution_count": 1,
     "metadata": {},
     "output_type": "execute_result"
    }
   ],
   "source": [
    "import kagglehub\n",
    "import os\n",
    "# change to local path if already downloaded\n",
    "dataset_path = kagglehub.dataset_download(\"Cornell-University/arxiv\")\n",
    "dataset_path = os.path.join(dataset_path, \"arxiv-metadata-oai-snapshot.json\")\n",
    "dataset_path"
   ]
  },
  {
   "cell_type": "markdown",
   "id": "31e5b940-50b5-4191-a897-9fc724d0082b",
   "metadata": {},
   "source": [
    "## Read large jsonl file in chunks "
   ]
  },
  {
   "cell_type": "code",
   "execution_count": 2,
   "id": "bf5ec0d5-76f2-423c-a503-62d8e22c94bc",
   "metadata": {},
   "outputs": [],
   "source": [
    "import pandas as pd\n",
    "chunksize = 1000\n",
    "chunks = pd.read_json(dataset_path, lines=True, chunksize = chunksize)"
   ]
  },
  {
   "cell_type": "markdown",
   "id": "383e3176-7be9-4422-9e03-5b02864b7eb7",
   "metadata": {},
   "source": [
    "## Calculate important aggreggate characteristics on dataset"
   ]
  },
  {
   "cell_type": "code",
   "execution_count": 3,
   "id": "abef046f-291b-405e-ae51-9ef97d6dc66e",
   "metadata": {},
   "outputs": [],
   "source": [
    "total_records = 0\n",
    "category_counts = {}\n",
    "category_types = set()\n",
    "for chunk in chunks:\n",
    "    chunk = chunk[['categories']]\n",
    "    total_records += len(chunk)\n",
    "    chunk_cat_types = {type(cat) for cat in chunk['categories']}\n",
    "    category_types.update(chunk_cat_types)\n",
    "    for category in chunk['categories']:\n",
    "        if category in category_counts:\n",
    "            category_counts[category] += 1\n",
    "        else:\n",
    "            category_counts[category] = 1"
   ]
  },
  {
   "cell_type": "code",
   "execution_count": 4,
   "id": "74f7d6c6-5e26-4f18-a478-dc8b1ec2c9c6",
   "metadata": {},
   "outputs": [
    {
     "data": {
      "text/plain": [
       "2635119"
      ]
     },
     "execution_count": 4,
     "metadata": {},
     "output_type": "execute_result"
    }
   ],
   "source": [
    "total_records"
   ]
  },
  {
   "cell_type": "markdown",
   "id": "df4e0d1a-16bd-46e5-ae06-cb3b1af1ebdb",
   "metadata": {},
   "source": [
    "Total records: 2635119"
   ]
  },
  {
   "cell_type": "code",
   "execution_count": 5,
   "id": "1340426e-1162-4299-8fc4-8aa11829970c",
   "metadata": {},
   "outputs": [
    {
     "data": {
      "text/plain": [
       "{str}"
      ]
     },
     "execution_count": 5,
     "metadata": {},
     "output_type": "execute_result"
    }
   ],
   "source": [
    "category_types"
   ]
  },
  {
   "cell_type": "code",
   "execution_count": 6,
   "id": "3b4ca873-3912-403c-ad4d-64a54a72b361",
   "metadata": {
    "scrolled": true
   },
   "outputs": [
    {
     "data": {
      "text/plain": [
       "{'hep-ph': 82442,\n",
       " 'math.CO cs.CG': 216,\n",
       " 'physics.gen-ph': 7204,\n",
       " 'math.CO': 31143,\n",
       " 'math.CA math.FA': 836,\n",
       " 'cond-mat.mes-hall': 35797,\n",
       " 'gr-qc': 31353,\n",
       " 'cond-mat.mtrl-sci': 40750,\n",
       " 'astro-ph': 86911,\n",
       " 'math.NT math.AG': 2880,\n",
       " 'math.NT': 22919,\n",
       " 'math.CA math.AT': 4,\n",
       " 'hep-th': 59769,\n",
       " 'math.PR math.AG': 8,\n",
       " 'hep-ex': 18045,\n",
       " 'nlin.PS physics.chem-ph q-bio.MN': 1,\n",
       " 'math.NA': 9149,\n",
       " 'nlin.PS': 2070,\n",
       " 'cond-mat.str-el cond-mat.stat-mech': 1621,\n",
       " 'math.RA': 6780,\n",
       " 'math.CA math.PR': 195,\n",
       " 'cond-mat.str-el': 26707,\n",
       " 'physics.optics physics.comp-ph': 319,\n",
       " 'q-bio.PE q-bio.CB quant-ph': 1,\n",
       " 'q-bio.QM q-bio.MN': 130,\n",
       " 'hep-ph hep-lat nucl-th': 757,\n",
       " 'math.OA math.FA': 1370,\n",
       " 'math.QA math-ph math.MP': 552,\n",
       " 'physics.gen-ph quant-ph': 246,\n",
       " 'cond-mat.stat-mech cond-mat.mtrl-sci': 877,\n",
       " 'astro-ph nlin.CD physics.plasm-ph physics.space-ph': 2,\n",
       " 'nlin.PS nlin.SI': 212,\n",
       " 'quant-ph cs.IT math.IT': 853,\n",
       " 'cs.NE cs.AI': 722,\n",
       " 'gr-qc astro-ph': 1577,\n",
       " 'physics.ed-ph quant-ph': 111,\n",
       " 'math.DG gr-qc': 367,\n",
       " 'cond-mat.soft cond-mat.mtrl-sci': 1763,\n",
       " 'physics.pop-ph': 507,\n",
       " 'nucl-th': 19554,\n",
       " 'math.FA': 13579,\n",
       " 'cs.DS': 8744,\n",
       " 'math.AG math.CO': 1031,\n",
       " 'math.NT math.CV': 139,\n",
       " 'math.DS': 13784,\n",
       " 'physics.soc-ph': 4078,\n",
       " 'math-ph math.MP': 12706,\n",
       " 'math.AG': 20964,\n",
       " 'hep-ph hep-ex nucl-ex': 325,\n",
       " 'hep-ph hep-ex': 13244,\n",
       " 'math.OA': 3591,\n",
       " 'math.QA hep-th math-ph math.MP math.RT': 41,\n",
       " 'cond-mat.other cond-mat.stat-mech': 206,\n",
       " 'cond-mat.soft nlin.PS physics.flu-dyn': 27,\n",
       " 'math.PR': 24466,\n",
       " 'math.DG': 16838,\n",
       " 'physics.optics': 16865,\n",
       " 'physics.data-an physics.gen-ph': 35,\n",
       " 'cs.CE cond-mat.stat-mech cs.MS cs.NA physics.data-an': 1,\n",
       " 'math.GR': 8347,\n",
       " 'hep-lat hep-ph': 2561,\n",
       " 'cond-mat.supr-con cond-mat.str-el': 6660,\n",
       " 'math.GR math.DG': 60,\n",
       " 'nlin.SI': 2395,\n",
       " 'math-ph math.MP math.OA': 110,\n",
       " 'cs.IT math.IT': 23246,\n",
       " 'math.AC math.AG': 1251,\n",
       " 'math.DG math.RT': 147,\n",
       " 'math.SG': 1847,\n",
       " 'hep-ph nucl-th': 6962,\n",
       " 'physics.data-an': 931,\n",
       " 'cs.CC': 2316,\n",
       " 'cond-mat.mtrl-sci cond-mat.other': 1394,\n",
       " 'math.QA math.KT': 84,\n",
       " 'math.GT': 8808,\n",
       " 'math-ph hep-th math.MP': 1473,\n",
       " 'quant-ph': 72054,\n",
       " 'cond-mat.supr-con cond-mat.mtrl-sci': 1996,\n",
       " 'hep-ex hep-ph': 2033,\n",
       " 'cond-mat.other': 4096,\n",
       " 'nlin.CD cond-mat.other physics.optics': 2,\n",
       " 'math.CV': 6576,\n",
       " 'math.AP': 35969,\n",
       " 'cond-mat.supr-con': 17077,\n",
       " 'math.DS math-ph math.AP math.MP': 15,\n",
       " 'math.RT': 7251,\n",
       " 'cond-mat.stat-mech': 19924,\n",
       " 'hep-th astro-ph gr-qc': 771,\n",
       " 'physics.optics physics.class-ph quant-ph': 13,\n",
       " 'physics.data-an physics.comp-ph': 93,\n",
       " 'nucl-th hep-ph nucl-ex': 1852,\n",
       " 'cond-mat.stat-mech cond-mat.soft physics.chem-ph': 106,\n",
       " 'q-bio.OT': 641,\n",
       " 'cond-mat.str-el cond-mat.soft': 43,\n",
       " 'math.QA math.RT': 1047,\n",
       " 'cond-mat.str-el cond-mat.mtrl-sci': 5132,\n",
       " 'cond-mat.mes-hall cond-mat.str-el': 3576,\n",
       " 'astro-ph gr-qc hep-th': 573,\n",
       " 'cond-mat.other cond-mat.mtrl-sci': 297,\n",
       " 'physics.plasm-ph': 7360,\n",
       " 'hep-ex astro-ph hep-ph': 19,\n",
       " 'physics.bio-ph physics.data-an q-bio.BM': 5,\n",
       " 'cond-mat.mtrl-sci cond-mat.stat-mech': 863,\n",
       " 'cond-mat.mes-hall quant-ph': 3658,\n",
       " 'nlin.CG': 239,\n",
       " 'cond-mat.str-el cond-mat.other': 417,\n",
       " 'math.CO math.GR': 765,\n",
       " 'hep-ph nucl-ex': 134,\n",
       " 'math.RT math.QA': 796,\n",
       " 'cond-mat.supr-con cond-mat.mes-hall': 2159,\n",
       " 'astro-ph gr-qc nucl-th': 13,\n",
       " 'math.GT math.QA': 638,\n",
       " 'quant-ph hep-th': 1222,\n",
       " 'cs.DM cs.LO': 35,\n",
       " 'nucl-ex': 7584,\n",
       " 'astro-ph gr-qc hep-ph hep-th': 541,\n",
       " 'gr-qc astro-ph quant-ph': 29,\n",
       " 'cond-mat.soft': 14030,\n",
       " 'hep-th hep-ph': 5581,\n",
       " 'hep-th gr-qc': 11492,\n",
       " 'physics.optics math-ph math.MP': 86,\n",
       " 'cond-mat.str-el cond-mat.dis-nn': 544,\n",
       " 'math.SG math.AG': 348,\n",
       " 'hep-th cond-mat.stat-mech': 576,\n",
       " 'math.FA math.AP': 470,\n",
       " 'physics.flu-dyn physics.plasm-ph': 124,\n",
       " 'hep-ph hep-th nucl-th': 917,\n",
       " 'cond-mat.stat-mech q-bio.PE': 151,\n",
       " 'math-ph math.GT math.MP': 22,\n",
       " 'physics.comp-ph': 2251,\n",
       " 'math.MG': 2841,\n",
       " 'cs.IT cs.CC math.IT': 89,\n",
       " 'math.QA': 3063,\n",
       " 'cond-mat.mes-hall cond-mat.mtrl-sci': 7387,\n",
       " 'math.AP math-ph math.MP': 3098,\n",
       " 'physics.atom-ph cond-mat.other': 39,\n",
       " 'math.CO math.GT': 261,\n",
       " 'math.FA math.SP': 265,\n",
       " 'math.ST stat.TH': 8978,\n",
       " 'astro-ph physics.ao-ph': 10,\n",
       " 'cs.IT cs.AI math.IT q-bio.PE': 1,\n",
       " 'physics.bio-ph': 1580,\n",
       " 'nucl-ex hep-ex': 1347,\n",
       " 'cs.CC cs.DM': 204,\n",
       " 'hep-ph astro-ph hep-th': 538,\n",
       " 'math.PR math.AP': 1040,\n",
       " 'nucl-th hep-ph': 4044,\n",
       " 'nlin.PS nlin.CD q-bio.PE': 2,\n",
       " 'cond-mat.stat-mech physics.ins-det': 4,\n",
       " 'math.ST cond-mat.stat-mech stat.TH': 4,\n",
       " 'math.PR math.CA math.ST stat.TH': 5,\n",
       " 'physics.chem-ph': 5634,\n",
       " 'math.PR q-fin.CP q-fin.PR': 6,\n",
       " 'physics.flu-dyn physics.comp-ph': 934,\n",
       " 'math.AT': 4451,\n",
       " 'cond-mat.soft cond-mat.dis-nn': 509,\n",
       " 'math.AP math.CA': 704,\n",
       " 'math.CO math.MG': 537,\n",
       " 'cond-mat.soft cond-mat.supr-con': 43,\n",
       " 'nucl-th quant-ph': 152,\n",
       " 'q-bio.PE q-bio.OT': 30,\n",
       " 'gr-qc hep-th': 10542,\n",
       " 'physics.geo-ph': 2287,\n",
       " 'quant-ph cond-mat.mes-hall': 2901,\n",
       " 'math.CV math.CA': 303,\n",
       " 'cond-mat.soft cond-mat.stat-mech': 3655,\n",
       " 'quant-ph cond-mat.other': 813,\n",
       " 'q-bio.NC cond-mat.dis-nn physics.soc-ph': 7,\n",
       " 'q-fin.RM math.PR': 115,\n",
       " 'nlin.SI cond-mat.stat-mech hep-th': 7,\n",
       " 'cond-mat.str-el cond-mat.supr-con': 3892,\n",
       " 'quant-ph hep-th nlin.CD physics.atom-ph physics.chem-ph': 1,\n",
       " 'math.RT math.RA': 1011,\n",
       " 'math.GT math.AG': 221,\n",
       " 'cond-mat.dis-nn quant-ph': 207,\n",
       " 'cond-mat.dis-nn cond-mat.stat-mech': 1976,\n",
       " 'q-bio.SC q-bio.CB': 21,\n",
       " 'gr-qc astro-ph.HE': 1893,\n",
       " 'math-ph math.DG math.MP': 414,\n",
       " 'physics.chem-ph physics.flu-dyn': 56,\n",
       " 'hep-ex hep-lat hep-ph': 25,\n",
       " 'cond-mat.other hep-th quant-ph': 20,\n",
       " 'physics.optics physics.gen-ph quant-ph': 12,\n",
       " 'nucl-th nucl-ex': 2858,\n",
       " 'math.AG math.GR': 283,\n",
       " 'cond-mat.supr-con cond-mat.mes-hall quant-ph': 177,\n",
       " 'q-bio.BM': 1226,\n",
       " 'cond-mat.stat-mech cond-mat.other': 366,\n",
       " 'cs.CC cs.DS': 477,\n",
       " 'nucl-ex nucl-th': 1196,\n",
       " 'cond-mat.stat-mech cond-mat.mtrl-sci cond-mat.soft': 92,\n",
       " 'math.OC': 18488,\n",
       " 'math.AG math.KT': 439,\n",
       " 'physics.ed-ph physics.gen-ph': 72,\n",
       " 'cs.CR': 12197,\n",
       " 'cond-mat.stat-mech cond-mat.soft': 2627,\n",
       " 'quant-ph math-ph math.MP': 2967,\n",
       " 'math.AT math.CT': 632,\n",
       " 'math.AT math.DG': 130,\n",
       " 'hep-th quant-ph': 1005,\n",
       " 'hep-ph astro-ph': 1865,\n",
       " 'math.LO math.CO': 318,\n",
       " 'quant-ph cond-mat.other physics.atom-ph': 49,\n",
       " 'cs.NI cs.IT math.IT': 687,\n",
       " 'cond-mat.dis-nn cond-mat.mtrl-sci': 439,\n",
       " 'cond-mat.mtrl-sci cond-mat.soft': 767,\n",
       " 'math.CO math.AC math.AG': 90,\n",
       " 'cond-mat.mes-hall cond-mat.supr-con': 2004,\n",
       " 'physics.comp-ph physics.chem-ph': 258,\n",
       " 'physics.atom-ph physics.gen-ph': 80,\n",
       " 'cond-mat.supr-con cond-mat.stat-mech': 349,\n",
       " 'hep-th math-ph math.MP': 3163,\n",
       " 'math.AG math.CV': 936,\n",
       " 'q-fin.PR math.PR': 237,\n",
       " 'physics.class-ph': 2533,\n",
       " 'math.RT math.GR': 640,\n",
       " 'math.PR math-ph math.MP': 2855,\n",
       " 'math.OA math.KT': 213,\n",
       " 'cond-mat.mtrl-sci cond-mat.mes-hall': 5411,\n",
       " 'math.PR math.ST stat.TH': 1165,\n",
       " 'q-fin.GN physics.soc-ph q-fin.ST': 12,\n",
       " 'cond-mat.other physics.optics quant-ph': 12,\n",
       " 'math.DG gr-qc hep-th math-ph math.AP math.MP': 1,\n",
       " 'physics.gen-ph q-bio.PE': 2,\n",
       " 'math.CO math.DS': 116,\n",
       " 'hep-ph hep-lat hep-th nucl-th': 296,\n",
       " 'physics.optics cond-mat.soft nlin.PS physics.flu-dyn': 1,\n",
       " 'physics.comp-ph physics.data-an': 69,\n",
       " 'math.CV math.SP': 36,\n",
       " 'q-bio.PE': 3210,\n",
       " 'math.CV math.AC': 30,\n",
       " 'q-bio.BM q-bio.QM': 111,\n",
       " 'gr-qc astro-ph hep-th': 1108,\n",
       " 'hep-th astro-ph gr-qc hep-ph': 702,\n",
       " 'q-bio.NC': 2941,\n",
       " 'math.RA math.RT': 569,\n",
       " 'math.OC math.CA': 94,\n",
       " 'cond-mat.mtrl-sci cond-mat.str-el': 2678,\n",
       " 'math.NT math.RT': 826,\n",
       " 'q-fin.ST physics.data-an physics.soc-ph': 33,\n",
       " 'cs.IT cs.LG math.IT': 420,\n",
       " 'cond-mat.stat-mech q-bio.NC': 18,\n",
       " 'math.AG math.CA': 88,\n",
       " 'cond-mat.soft cond-mat.stat-mech physics.ins-det physics.optics': 1,\n",
       " 'math.PR cond-mat.stat-mech math-ph math.CO math.MP': 14,\n",
       " 'cond-mat.supr-con cond-mat.dis-nn': 267,\n",
       " 'hep-ph physics.atom-ph': 210,\n",
       " 'math.DS math-ph math.MP': 574,\n",
       " 'physics.atom-ph': 6657,\n",
       " 'math.DG math.GT': 702,\n",
       " 'math.NA math.DS': 79,\n",
       " 'hep-lat hep-ph hep-th': 772,\n",
       " 'physics.optics physics.class-ph': 295,\n",
       " 'cs.PF cs.NI': 63,\n",
       " 'cond-mat.other nlin.PS': 74,\n",
       " 'math.NT math-ph math.MP': 127,\n",
       " 'cond-mat.stat-mech cond-mat.dis-nn': 1761,\n",
       " 'math.ST math.PR stat.ME stat.TH': 114,\n",
       " 'cond-mat.dis-nn cond-mat.mes-hall': 556,\n",
       " 'stat.ME physics.soc-ph stat.AP': 4,\n",
       " 'q-fin.CP math.PR': 69,\n",
       " 'math.DG math.CA': 106,\n",
       " 'math.GM': 3668,\n",
       " 'hep-th astro-ph hep-ph': 305,\n",
       " 'q-fin.ST cond-mat.other physics.data-an physics.soc-ph': 2,\n",
       " 'math.KT math.RA': 77,\n",
       " 'math.AG math.AC math.RT': 72,\n",
       " 'cs.DS cs.PF': 18,\n",
       " 'hep-lat': 10261,\n",
       " 'quant-ph astro-ph cond-mat.stat-mech hep-ph math-ph math.MP': 1,\n",
       " 'astro-ph gr-qc': 1573,\n",
       " 'math.AP math.GM': 6,\n",
       " 'math.CA': 9779,\n",
       " 'math.CO math.RT': 778,\n",
       " 'physics.plasm-ph physics.space-ph': 288,\n",
       " 'cond-mat.supr-con cond-mat.soft': 84,\n",
       " 'math.AG math.CO math.GT math.SG': 1,\n",
       " 'astro-ph hep-ph nucl-th': 203,\n",
       " 'math.RA math.QA': 398,\n",
       " 'physics.atm-clus': 564,\n",
       " 'cond-mat.dis-nn cond-mat.stat-mech math-ph math.MP': 69,\n",
       " 'physics.atom-ph physics.class-ph': 14,\n",
       " 'astro-ph gr-qc hep-ph': 554,\n",
       " 'cs.PF': 496,\n",
       " 'cs.PF cs.CR': 3,\n",
       " 'cs.PF cs.SE': 12,\n",
       " 'math.CV math.DG': 547,\n",
       " 'cond-mat.stat-mech math-ph math.MP': 806,\n",
       " 'physics.acc-ph': 4461,\n",
       " 'math.SP': 1753,\n",
       " 'math.FA math.GN': 156,\n",
       " 'physics.data-an physics.soc-ph': 125,\n",
       " 'nlin.CD': 3516,\n",
       " 'math.PR math.ST stat.CO stat.TH': 21,\n",
       " 'math.GT math.DG': 639,\n",
       " 'math.AP math-ph math.MP physics.optics': 17,\n",
       " 'math.AG math.ST stat.TH': 28,\n",
       " 'hep-th gr-qc hep-ph math-ph math.MP math.QA': 5,\n",
       " 'cond-mat.other cond-mat.soft cond-mat.stat-mech': 7,\n",
       " 'hep-th gr-qc hep-ph': 1704,\n",
       " 'math-ph math.MP math.RT': 138,\n",
       " 'hep-th cond-mat.str-el math-ph math.MP': 93,\n",
       " 'cond-mat.dis-nn cond-mat.str-el quant-ph': 44,\n",
       " 'physics.hist-ph': 1205,\n",
       " 'physics.hist-ph astro-ph': 5,\n",
       " 'cs.IT cs.AR math.IT': 38,\n",
       " 'cond-mat.stat-mech cond-mat.dis-nn nlin.CD': 27,\n",
       " 'gr-qc hep-th math.AP': 21,\n",
       " 'hep-ph hep-th': 5879,\n",
       " 'math.QA math.AG': 143,\n",
       " 'nlin.CD math.DS': 239,\n",
       " 'math.RT math.KT': 67,\n",
       " 'math.KT math.AG': 155,\n",
       " 'math.AG math.QA': 163,\n",
       " 'physics.flu-dyn': 11941,\n",
       " 'astro-ph gr-qc math.AP': 1,\n",
       " 'hep-th math.DG': 391,\n",
       " 'math.KT math.FA': 10,\n",
       " 'cs.LG cs.SC': 18,\n",
       " 'cs.LG cs.AI cs.NE': 381,\n",
       " 'math.SG math.DG': 508,\n",
       " 'math.SG math.CO': 14,\n",
       " 'quant-ph cond-mat.stat-mech hep-th': 198,\n",
       " 'cs.CC cs.IT math.IT': 81,\n",
       " 'gr-qc astro-ph hep-ph': 187,\n",
       " 'math.GM math.CA': 10,\n",
       " 'math.NA math.FA': 66,\n",
       " 'cs.NI cs.DS': 79,\n",
       " 'cs.IT cs.PF math.IT': 72,\n",
       " 'astro-ph nucl-th': 223,\n",
       " 'math.ST math.AC stat.AP stat.TH': 1,\n",
       " 'gr-qc astro-ph hep-ph hep-th': 275,\n",
       " 'nlin.PS nlin.CD': 133,\n",
       " 'cond-mat.other gr-qc hep-th': 6,\n",
       " 'math.CO math.AG': 651,\n",
       " 'hep-th hep-lat': 733,\n",
       " 'hep-ex nucl-ex': 1015,\n",
       " 'hep-th cond-mat.supr-con hep-ph': 36,\n",
       " 'physics.gen-ph physics.class-ph': 168,\n",
       " 'physics.optics physics.med-ph': 68,\n",
       " 'math.ST stat.ML stat.TH': 500,\n",
       " 'math-ph hep-th math.MP nlin.SI': 281,\n",
       " 'physics.gen-ph physics.bio-ph': 17,\n",
       " 'hep-th astro-ph': 194,\n",
       " 'hep-th gr-qc hep-ph quant-ph': 73,\n",
       " 'math-ph cond-mat.stat-mech hep-th math.MP math.PR': 22,\n",
       " 'cs.CY cs.IR physics.soc-ph': 7,\n",
       " 'nlin.PS cond-mat.stat-mech': 35,\n",
       " 'q-bio.GN hep-th q-bio.QM': 1,\n",
       " 'math.CV math.AG': 481,\n",
       " 'cond-mat.dis-nn': 4223,\n",
       " 'physics.geo-ph physics.gen-ph': 16,\n",
       " 'cs.CG cs.NE': 3,\n",
       " 'cs.NE cs.NI': 15,\n",
       " 'math-ph math.AP math.MP': 979,\n",
       " 'q-fin.GN cond-mat.dis-nn physics.soc-ph': 1,\n",
       " 'math.OA math.AP': 12,\n",
       " 'math.QA math.RA': 480,\n",
       " 'cond-mat.mes-hall cond-mat.dis-nn cond-mat.mtrl-sci': 91,\n",
       " 'math.GT hep-th math.QA': 17,\n",
       " 'math.RT math.AG': 686,\n",
       " 'physics.flu-dyn nlin.CD': 345,\n",
       " 'math.AP math.RA': 10,\n",
       " 'physics.data-an cond-mat.other nlin.CD nucl-th': 1,\n",
       " 'cs.CV': 66071,\n",
       " 'cond-mat.dis-nn cond-mat.stat-mech cs.CC': 23,\n",
       " 'nucl-th astro-ph hep-ph nucl-ex': 22,\n",
       " 'math.GT math.DS': 363,\n",
       " 'cs.LG': 19900,\n",
       " 'math.HO math.NT': 169,\n",
       " 'hep-th hep-ph nucl-th': 518,\n",
       " 'math-ph cond-mat.other math.MP quant-ph': 17,\n",
       " 'cs.SE': 9659,\n",
       " 'math.GT math.CO': 413,\n",
       " 'physics.ed-ph': 2089,\n",
       " 'cond-mat.supr-con cond-mat.stat-mech hep-lat': 2,\n",
       " 'astro-ph hep-ph': 1844,\n",
       " 'math.GT math.SG': 625,\n",
       " 'physics.ins-det': 5290,\n",
       " 'math.AG math.AT': 541,\n",
       " 'q-fin.ST physics.soc-ph': 126,\n",
       " 'math.AP math.FA': 1057,\n",
       " 'cs.OH cs.DB cs.DL cs.HC': 1,\n",
       " 'cs.DM cs.IT math.IT': 33,\n",
       " 'math.ST math.NA stat.CO stat.TH': 2,\n",
       " 'q-bio.QM q-bio.NC': 111,\n",
       " 'math.DG math-ph math.MP': 1014,\n",
       " 'cs.PL': 2891,\n",
       " 'math.AT math.CT math.KT': 64,\n",
       " 'math.ST math.PR stat.TH': 882,\n",
       " 'physics.chem-ph physics.atm-clus physics.gen-ph': 2,\n",
       " 'nlin.CD quant-ph': 135,\n",
       " 'cond-mat.mes-hall cond-mat.dis-nn cond-mat.str-el': 52,\n",
       " 'q-bio.CB': 345,\n",
       " 'cs.AI': 11451,\n",
       " 'nlin.SI math.SG': 6,\n",
       " 'math.QA math.DG math.SG': 5,\n",
       " 'cs.LG cs.AI': 10780,\n",
       " 'math.DS math.CA': 489,\n",
       " 'math-ph math.MP quant-ph': 1559,\n",
       " 'cond-mat.stat-mech astro-ph': 64,\n",
       " 'cond-mat.str-el cond-mat.mes-hall': 2663,\n",
       " 'nucl-th cond-mat.soft nucl-ex': 2,\n",
       " 'math.ST stat.ME stat.TH': 1241,\n",
       " 'math.CA math.CV': 431,\n",
       " 'math.CO math.PR': 1019,\n",
       " 'cond-mat.dis-nn cond-mat.soft cond-mat.stat-mech': 148,\n",
       " 'physics.geo-ph physics.flu-dyn': 128,\n",
       " 'quant-ph physics.optics': 3209,\n",
       " 'astro-ph gr-qc hep-ph nucl-th': 13,\n",
       " 'hep-th cond-mat.stat-mech hep-ph': 69,\n",
       " 'math.QA hep-th': 213,\n",
       " 'cond-mat.stat-mech cond-mat.dis-nn physics.soc-ph': 47,\n",
       " 'math.DG math.RA': 60,\n",
       " 'physics.chem-ph nucl-th': 9,\n",
       " 'physics.bio-ph cond-mat.soft q-bio.BM': 152,\n",
       " 'math.CO math.AC': 486,\n",
       " 'physics.atm-clus physics.comp-ph': 23,\n",
       " 'math.OA math.FA math.RT': 15,\n",
       " 'physics.soc-ph cond-mat.stat-mech': 529,\n",
       " 'math.NA math-ph math.MP physics.comp-ph': 10,\n",
       " 'math-ph math.DS math.MP nlin.CD': 21,\n",
       " 'hep-th hep-ph math-ph math.MP': 290,\n",
       " 'cs.DM q-bio.QM': 6,\n",
       " 'math.PR math.RT': 36,\n",
       " 'quant-ph cond-mat.other physics.optics': 77,\n",
       " 'math.OA math.QA': 350,\n",
       " 'physics.ed-ph physics.soc-ph': 67,\n",
       " 'physics.space-ph physics.plasm-ph': 227,\n",
       " 'quant-ph hep-th math-ph math.MP': 503,\n",
       " 'physics.ed-ph physics.comp-ph': 38,\n",
       " 'physics.geo-ph physics.space-ph': 43,\n",
       " 'math.LO': 7058,\n",
       " 'math.FA math.GR': 73,\n",
       " 'cond-mat.other physics.atom-ph quant-ph': 19,\n",
       " 'nlin.AO nlin.CD': 183,\n",
       " 'q-bio.MN cond-mat.stat-mech': 42,\n",
       " 'physics.bio-ph physics.comp-ph': 86,\n",
       " 'cs.AI cs.CY cs.DL': 4,\n",
       " 'cs.IR cs.AI cs.CY cs.DL cs.HC': 1,\n",
       " 'cs.GT cs.CC': 117,\n",
       " 'physics.optics physics.chem-ph': 171,\n",
       " 'cs.CC math.NT': 8,\n",
       " 'math.AC math.RA': 313,\n",
       " 'cs.LO': 5653,\n",
       " 'stat.AP cs.NE': 3,\n",
       " 'stat.AP': 5778,\n",
       " 'math.RT math.AT': 85,\n",
       " 'hep-ph hep-lat': 1333,\n",
       " 'nlin.PS physics.optics': 309,\n",
       " 'physics.comp-ph cs.DS nlin.AO': 1,\n",
       " 'cond-mat.mtrl-sci quant-ph': 279,\n",
       " 'cs.SC gr-qc hep-th': 5,\n",
       " 'math.QA hep-th math.RT': 93,\n",
       " 'cs.CE cs.GT': 6,\n",
       " 'math-ph cond-mat.other math.MP nlin.CD physics.class-ph': 1,\n",
       " 'cond-mat.mes-hall cond-mat.other': 805,\n",
       " 'nlin.SI math-ph math.MP': 983,\n",
       " 'math.CO math.NA': 7,\n",
       " 'cs.LO cs.AI cs.NI': 1,\n",
       " 'cond-mat.other cond-mat.dis-nn': 56,\n",
       " 'math.NT math.PR': 238,\n",
       " 'nlin.AO': 1008,\n",
       " 'hep-ph astro-ph hep-ex': 294,\n",
       " 'q-bio.QM q-bio.PE': 179,\n",
       " 'math.AP math.DG': 1421,\n",
       " 'math.AT math.GR': 233,\n",
       " 'cs.DC': 7617,\n",
       " 'cs.DM': 1574,\n",
       " 'physics.ins-det nucl-ex': 1097,\n",
       " 'cs.NI': 10391,\n",
       " 'cs.OH': 1739,\n",
       " 'physics.soc-ph physics.data-an': 363,\n",
       " 'cond-mat.other physics.data-an': 7,\n",
       " 'cond-mat.supr-con cond-mat.other': 150,\n",
       " 'math.NA math-ph math.MP': 143,\n",
       " 'cond-mat.stat-mech hep-th': 486,\n",
       " 'q-bio.PE q-bio.BM': 39,\n",
       " 'math.LO cs.LO math.RA': 6,\n",
       " 'math.QA math.CO': 223,\n",
       " 'cond-mat.str-el cond-mat.quant-gas cond-mat.supr-con': 63,\n",
       " 'physics.comp-ph physics.optics quant-ph': 6,\n",
       " 'math.GT math.GN': 158,\n",
       " 'cond-mat.mes-hall physics.optics': 1245,\n",
       " 'nlin.CD astro-ph cond-mat.stat-mech': 5,\n",
       " 'q-bio.SC physics.ed-ph q-bio.QM': 1,\n",
       " 'q-bio.PE astro-ph physics.geo-ph': 3,\n",
       " 'math.GT math.GR': 1021,\n",
       " 'math.CA math-ph math.MP': 422,\n",
       " 'hep-lat hep-ex hep-ph': 196,\n",
       " 'math.GT math.HO': 18,\n",
       " 'math.AT math.CO': 276,\n",
       " 'physics.optics nlin.CD': 108,\n",
       " 'physics.soc-ph physics.class-ph': 6,\n",
       " 'cond-mat.stat-mech cond-mat.mes-hall': 463,\n",
       " 'math.FA math.MG': 336,\n",
       " 'physics.chem-ph physics.optics': 175,\n",
       " 'math.CV math.OA': 14,\n",
       " 'nucl-th cond-mat.stat-mech quant-ph': 2,\n",
       " 'math.DS math.DG': 234,\n",
       " 'q-fin.PR math.PR math.ST stat.TH': 2,\n",
       " 'math.AG math.DG': 697,\n",
       " 'math.OA math.PR': 217,\n",
       " 'gr-qc math.DG': 337,\n",
       " 'physics.flu-dyn astro-ph nlin.CD physics.plasm-ph': 2,\n",
       " 'math.AG math.SG': 380,\n",
       " 'math-ph math.MP math.NA': 102,\n",
       " 'cs.GT cs.MA': 216,\n",
       " 'cs.IT cs.GT math.IT': 101,\n",
       " 'quant-ph math-ph math.LO math.MP math.PR': 1,\n",
       " 'cond-mat.mtrl-sci cond-mat.dis-nn': 557,\n",
       " 'math.RT math.CO math.RA': 74,\n",
       " 'math.AG math.NT': 2229,\n",
       " 'math.AG math-ph math.MP': 326,\n",
       " 'math.AG math.GT math.MG': 4,\n",
       " 'math.DG gr-qc hep-th math-ph math.MP nlin.SI': 4,\n",
       " 'hep-th gr-qc math-ph math.MP': 908,\n",
       " 'hep-th gr-qc math-ph math.DG math.MP quant-ph': 5,\n",
       " 'cs.CL cs.AI': 9155,\n",
       " 'math.DS math.AP': 283,\n",
       " 'cs.LG cs.DS': 281,\n",
       " 'math.DG math.SG': 624,\n",
       " 'math.CT math.QA': 125,\n",
       " 'math.AP math-ph math.MP nlin.PS': 41,\n",
       " 'math.AP math.DS nlin.PS': 17,\n",
       " 'cond-mat.stat-mech hep-ph': 53,\n",
       " 'math.AG math.RT': 1009,\n",
       " 'q-bio.CB q-bio.QM': 49,\n",
       " 'math.KT math.GT': 41,\n",
       " 'physics.pop-ph physics.soc-ph q-fin.GN': 1,\n",
       " 'math.RT math-ph math.MP': 252,\n",
       " 'physics.atom-ph cond-mat.soft': 6,\n",
       " 'astro-ph hep-th physics.atom-ph': 7,\n",
       " 'math.ST math.PR stat.CO stat.TH': 25,\n",
       " 'cond-mat.stat-mech cond-mat.soft physics.comp-ph quant-ph': 2,\n",
       " 'math.PR math.DS': 453,\n",
       " 'q-bio.GN': 879,\n",
       " 'q-bio.MN': 878,\n",
       " 'math.LO math.AG': 77,\n",
       " 'math.CT math.LO': 170,\n",
       " 'math.PR math.OC': 485,\n",
       " 'math.AG math.GT': 320,\n",
       " 'physics.plasm-ph astro-ph physics.flu-dyn': 4,\n",
       " 'hep-th math-ph math.MP quant-ph': 451,\n",
       " 'physics.gen-ph physics.hist-ph': 82,\n",
       " 'cond-mat.str-el cond-mat.mes-hall hep-th': 164,\n",
       " 'q-fin.PM math.OC math.PR q-fin.RM': 2,\n",
       " 'quant-ph cond-mat.stat-mech nlin.CD': 64,\n",
       " 'math.RA math.GR': 343,\n",
       " 'quant-ph cond-mat.stat-mech': 1998,\n",
       " 'math.RT math.MG': 6,\n",
       " 'cond-mat.supr-con cond-mat.mes-hall nucl-th': 1,\n",
       " 'cs.IT cs.CR math.IT': 526,\n",
       " 'nlin.CD physics.ao-ph': 43,\n",
       " 'math-ph math.FA math.MP': 262,\n",
       " 'math.KT': 743,\n",
       " 'hep-lat cond-mat.str-el hep-ph': 9,\n",
       " 'nlin.SI cond-mat.other': 3,\n",
       " 'cs.OH cs.DM': 2,\n",
       " 'astro-ph hep-ph physics.atom-ph physics.space-ph': 1,\n",
       " 'cond-mat.stat-mech quant-ph': 1256,\n",
       " 'nucl-th astro-ph nucl-ex': 86,\n",
       " 'hep-lat cond-mat.stat-mech hep-th': 107,\n",
       " 'physics.bio-ph physics.chem-ph': 162,\n",
       " 'math.KT cs.DC cs.SC math.NT': 1,\n",
       " 'quant-ph cond-mat.str-el': 914,\n",
       " 'hep-ph hep-ex nucl-th': 1157,\n",
       " 'nlin.AO nlin.PS': 94,\n",
       " 'physics.comp-ph physics.atm-clus': 15,\n",
       " 'physics.class-ph physics.ed-ph': 83,\n",
       " 'math.DS math.GT': 343,\n",
       " 'gr-qc hep-th math.DG': 94,\n",
       " 'q-bio.BM q-bio.SC': 41,\n",
       " 'math.RA math.AC': 272,\n",
       " 'math.RA math.CO': 259,\n",
       " 'cond-mat.mes-hall cond-mat.dis-nn': 831,\n",
       " 'hep-lat hep-th': 1081,\n",
       " 'astro-ph hep-ph hep-th': 218,\n",
       " 'cs.LO cs.PL': 682,\n",
       " 'q-bio.QM q-bio.BM': 114,\n",
       " 'hep-th math.QA': 663,\n",
       " 'math-ph math.AG math.MP': 110,\n",
       " 'cond-mat.str-el nucl-th physics.comp-ph': 2,\n",
       " 'physics.atom-ph physics.chem-ph': 533,\n",
       " 'math.HO math.CO': 103,\n",
       " 'math.AC': 4872,\n",
       " 'cond-mat.dis-nn cond-mat.soft hep-ph': 1,\n",
       " 'cs.IT cs.DM math.IT': 187,\n",
       " 'physics.plasm-ph physics.data-an': 27,\n",
       " 'math.CO math.GM': 22,\n",
       " 'physics.med-ph': 2457,\n",
       " 'math.DG math.GR math.GT math.SG': 2,\n",
       " 'nlin.SI math.AP': 66,\n",
       " 'math.DG math.AG': 630,\n",
       " 'nlin.AO physics.bio-ph q-bio.QM': 2,\n",
       " 'math.AP math.DS': 592,\n",
       " 'cs.HC': 6813,\n",
       " 'q-bio.BM cond-mat.stat-mech': 45,\n",
       " 'physics.ins-det hep-ex': 3448,\n",
       " 'math.ST q-bio.QM stat.TH': 17,\n",
       " 'math.QA hep-th math.AG': 26,\n",
       " 'math.SP math.AP': 314,\n",
       " 'hep-ph astro-ph gr-qc': 170,\n",
       " 'physics.gen-ph physics.ao-ph physics.geo-ph': 3,\n",
       " 'math.QA math-ph math.KT math.MP math.OA': 2,\n",
       " 'math.GT cs.DM hep-th': 1,\n",
       " 'math.GT math.AT': 682,\n",
       " 'math-ph math.CO math.MP': 151,\n",
       " 'hep-ph nucl-ex nucl-th': 948,\n",
       " 'math.DG math.AG math.CV': 166,\n",
       " 'math.DG math.AG math.CV math.GT': 2,\n",
       " 'math.SG math.GT': 480,\n",
       " 'math-ph math.MP nlin.SI': 656,\n",
       " 'gr-qc hep-th quant-ph': 703,\n",
       " 'math.AP cond-mat.mtrl-sci': 41,\n",
       " 'math.DS math-ph math.MP quant-ph': 8,\n",
       " 'math.RA math-ph math.MP': 158,\n",
       " 'physics.bio-ph physics.chem-ph physics.comp-ph': 14,\n",
       " 'cond-mat.mes-hall nlin.CD': 129,\n",
       " 'physics.soc-ph cond-mat.stat-mech physics.data-an': 42,\n",
       " 'math.CV math.DS': 381,\n",
       " 'nucl-th hep-ex hep-ph nucl-ex': 478,\n",
       " 'cs.NE': 2733,\n",
       " 'math.CV math.PR': 107,\n",
       " 'math.HO math.GM': 14,\n",
       " 'physics.space-ph astro-ph': 16,\n",
       " 'quant-ph cond-mat.mes-hall nlin.CD': 32,\n",
       " 'math.AP math.CV': 189,\n",
       " 'quant-ph cond-mat.mes-hall math-ph math.MP': 99,\n",
       " 'cs.CC cs.GT': 70,\n",
       " 'physics.ao-ph': 1815,\n",
       " 'q-bio.MN q-bio.QM': 148,\n",
       " 'math.DG hep-th math.SG': 27,\n",
       " 'cs.IT cs.NI math.IT': 1104,\n",
       " 'math.AC math.OC math.RA': 1,\n",
       " 'math.PR math.FA math.ST stat.TH': 25,\n",
       " 'hep-ph cond-mat.other hep-th': 13,\n",
       " 'math.PR math.AC': 5,\n",
       " 'cs.AR cond-mat.dis-nn nlin.AO': 1,\n",
       " 'cond-mat.mes-hall cond-mat.mtrl-sci physics.chem-ph': 68,\n",
       " 'cond-mat.other cond-mat.str-el': 110,\n",
       " 'cs.IT cond-mat.stat-mech math.IT': 38,\n",
       " 'math.AG math-ph math.CA math.DS math.MP': 4,\n",
       " 'q-fin.ST math-ph math.MP math.PR': 1,\n",
       " 'math.DG math.DS': 275,\n",
       " 'hep-th math.GT': 56,\n",
       " 'math.OC math.DS': 580,\n",
       " 'math.QA hep-th math.AG math.RA math.RT': 1,\n",
       " 'math.GR math.GT': 1096,\n",
       " 'math.MG math.DG': 299,\n",
       " 'cs.DL cs.IR': 211,\n",
       " 'physics.optics physics.gen-ph': 187,\n",
       " 'math-ph cond-mat.mes-hall math.MP math.SP quant-ph': 22,\n",
       " 'math.CO cs.DM cs.DS': 141,\n",
       " 'math.RT math.NT': 679,\n",
       " 'math.AG hep-th': 421,\n",
       " 'math.HO': 1722,\n",
       " 'cond-mat.stat-mech cond-mat.str-el': 698,\n",
       " 'physics.ins-det astro-ph': 18,\n",
       " 'math.NT math.DS': 710,\n",
       " 'math.CV math.AG math.DG': 110,\n",
       " 'math.CA math.OA': 23,\n",
       " 'physics.soc-ph cond-mat.other physics.data-an': 2,\n",
       " 'math.DG math.GR': 89,\n",
       " 'cond-mat.dis-nn hep-th math-ph math.MP nlin.SI': 2,\n",
       " 'quant-ph math.PR': 102,\n",
       " 'physics.chem-ph cond-mat.mtrl-sci physics.atom-ph': 12,\n",
       " 'q-bio.NC cond-mat.dis-nn': 122,\n",
       " 'math.FA math.OA': 952,\n",
       " 'hep-lat hep-ph physics.comp-ph': 4,\n",
       " 'math.QA math-ph math.MP nlin.SI': 37,\n",
       " 'hep-ph hep-ex nucl-ex nucl-th': 1411,\n",
       " 'hep-th cond-mat.other math-ph math.MP': 22,\n",
       " 'q-bio.QM': 1659,\n",
       " 'stat.AP math.ST stat.TH': 86,\n",
       " 'math.RT math.AG math.CO': 98,\n",
       " 'hep-th nlin.SI': 126,\n",
       " 'physics.plasm-ph nlin.PS physics.space-ph': 4,\n",
       " 'math.DG math.AP': 2359,\n",
       " 'quant-ph math-ph math.CO math.MP': 32,\n",
       " 'hep-th math-ph math.MP math.QA': 254,\n",
       " 'math.AP math.OC': 773,\n",
       " 'hep-th cond-mat.dis-nn cond-mat.stat-mech': 12,\n",
       " 'cs.MS': 356,\n",
       " 'astro-ph math-ph math.MP': 24,\n",
       " 'math.GT math.MG': 137,\n",
       " 'nlin.CD math-ph math.DS math.MP math.SG physics.acc-ph physics.class-ph physics.comp-ph': 1,\n",
       " 'cs.AI cs.DB': 157,\n",
       " 'cond-mat.soft cond-mat.stat-mech physics.bio-ph': 250,\n",
       " 'cond-mat.stat-mech math-ph math.MP nlin.SI': 69,\n",
       " 'nlin.CD q-bio.PE': 9,\n",
       " 'math.NT cs.CC': 22,\n",
       " 'hep-th astro-ph hep-lat': 2,\n",
       " 'cs.CG cs.DM': 181,\n",
       " 'math.DS math.CV math.GN': 13,\n",
       " 'math.CA math.DS': 271,\n",
       " 'math.PR math.CO math.ST q-bio.GN q-bio.QM stat.TH': 1,\n",
       " 'cond-mat.soft q-bio.BM': 179,\n",
       " 'cs.NI cs.MM': 132,\n",
       " 'math-ph math.FA math.MP math.PR': 24,\n",
       " 'physics.atom-ph physics.comp-ph': 118,\n",
       " 'math-ph math.GR math.MP': 39,\n",
       " 'physics.flu-dyn physics.ao-ph': 400,\n",
       " 'math-ph math.MP math.SP': 654,\n",
       " 'nlin.CD nlin.SI': 83,\n",
       " 'physics.geo-ph astro-ph.EP': 49,\n",
       " 'hep-th hep-lat hep-ph math-ph math.MP': 31,\n",
       " 'q-bio.SC q-bio.MN': 28,\n",
       " 'cs.RO cs.NE': 58,\n",
       " 'physics.comp-ph physics.class-ph': 44,\n",
       " 'math.AC math.CO': 913,\n",
       " 'math.PR cond-mat.stat-mech math.CO': 22,\n",
       " 'math.AT hep-th math-ph math.MP': 11,\n",
       " 'physics.med-ph q-bio.NC': 38,\n",
       " 'math.NT math.CO': 1849,\n",
       " 'cs.IR cond-mat.stat-mech cs.CY physics.data-an': 1,\n",
       " 'nucl-ex hep-ex physics.atom-ph physics.plasm-ph': 1,\n",
       " 'math.GR math.FA': 93,\n",
       " 'math.QA hep-th math-ph math.MP': 185,\n",
       " 'math.FA math.DS': 156,\n",
       " 'physics.ao-ph physics.flu-dyn': 285,\n",
       " 'cs.IR cs.AI': 940,\n",
       " 'physics.comp-ph physics.bio-ph': 47,\n",
       " 'math.CV math.NT': 79,\n",
       " 'math.GR math.MG': 179,\n",
       " 'physics.comp-ph physics.soc-ph': 14,\n",
       " 'cs.AI cs.PL': 77,\n",
       " 'math-ph cond-mat.stat-mech math.MP': 527,\n",
       " 'physics.plasm-ph physics.optics': 227,\n",
       " 'math.AP math.NA': 333,\n",
       " 'cond-mat.stat-mech cond-mat.dis-nn q-bio.MN': 3,\n",
       " 'math.GR math.AT': 217,\n",
       " 'physics.space-ph': 834,\n",
       " 'math.AC math.RT': 137,\n",
       " 'math.DG math.AG math.AP': 24,\n",
       " 'cond-mat.supr-con nucl-th physics.atm-clus': 1,\n",
       " 'cs.AI q-bio.QM': 26,\n",
       " 'physics.gen-ph physics.space-ph': 31,\n",
       " 'math.AG math.AC': 1476,\n",
       " 'physics.plasm-ph physics.flu-dyn': 171,\n",
       " 'cond-mat.other cond-mat.mes-hall': 168,\n",
       " 'cs.DS cs.CC': 592,\n",
       " 'cs.DB': 3722,\n",
       " 'math.OA math.GR': 197,\n",
       " 'math-ph math.CO math.MP nlin.SI': 14,\n",
       " 'astro-ph hep-ex': 61,\n",
       " 'physics.chem-ph physics.bio-ph': 184,\n",
       " 'cond-mat.supr-con cond-mat.other math-ph math.MP': 1,\n",
       " 'cond-mat.dis-nn cs.AR': 2,\n",
       " 'math.CA math-ph math.MP math.SP': 20,\n",
       " 'math.AP hep-th math-ph math.MP nlin.SI': 1,\n",
       " 'math.PR math-ph math.CO math.MP': 205,\n",
       " 'gr-qc hep-ph': 346,\n",
       " 'quant-ph cond-mat.mes-hall hep-th': 48,\n",
       " 'cond-mat.str-el quant-ph': 1053,\n",
       " 'q-bio.NC physics.soc-ph': 20,\n",
       " 'math.AC math.AT math.RT': 3,\n",
       " 'cs.CV cs.IR': 232,\n",
       " 'math.FA math-ph math.MP math.PR nlin.SI': 1,\n",
       " 'q-bio.SC cond-mat.stat-mech': 22,\n",
       " 'q-bio.QM cond-mat.dis-nn math.DS nlin.CD': 1,\n",
       " 'cs.GT cs.CR cs.DC': 7,\n",
       " 'cs.DL cs.CY cs.HC': 5,\n",
       " 'stat.ME econ.EM math.ST stat.TH': 39,\n",
       " 'cs.HC cs.CL': 161,\n",
       " 'cs.CL cs.HC': 266,\n",
       " 'math.QA math.GT': 193,\n",
       " 'math.DS cs.DM math.NT': 1,\n",
       " 'cs.CC math.CO': 195,\n",
       " 'physics.optics cond-mat.mes-hall quant-ph': 203,\n",
       " 'math.OA math.GN math.GR math.KT': 1,\n",
       " 'math.RA math.KT': 96,\n",
       " 'math.AG math.RA': 215,\n",
       " 'cs.CL': 28041,\n",
       " 'math-ph math.AP math.MP physics.flu-dyn': 21,\n",
       " 'math.OA math.RA': 82,\n",
       " 'q-bio.QM cond-mat.soft q-bio.BM': 11,\n",
       " 'hep-th cond-mat.stat-mech quant-ph': 238,\n",
       " 'q-bio.NC q-bio.MN': 19,\n",
       " 'nucl-th hep-lat hep-ph': 209,\n",
       " 'math.GR math.DS': 242,\n",
       " 'q-bio.QM cond-mat.stat-mech physics.bio-ph q-bio.MN': 3,\n",
       " 'physics.soc-ph physics.comp-ph': 70,\n",
       " 'q-bio.PE q-bio.MN': 28,\n",
       " 'math.OC math.PR': 636,\n",
       " 'cond-mat.other cond-mat.dis-nn nlin.PS quant-ph': 1,\n",
       " 'nlin.CD astro-ph cond-mat.stat-mech physics.flu-dyn': 2,\n",
       " 'astro-ph hep-th': 143,\n",
       " 'cond-mat.supr-con gr-qc physics.ins-det': 3,\n",
       " 'cond-mat.mes-hall cond-mat.other quant-ph': 67,\n",
       " 'physics.bio-ph physics.optics': 94,\n",
       " 'physics.optics cond-mat.other': 168,\n",
       " 'physics.optics physics.bio-ph': 269,\n",
       " 'math.NA math.ST stat.TH': 28,\n",
       " 'q-bio.GN cond-mat.other nlin.AO q-bio.OT q-bio.PE q-bio.QM': 1,\n",
       " 'cs.DS cond-mat.dis-nn cs.CC': 1,\n",
       " 'physics.optics nlin.PS': 710,\n",
       " 'cond-mat.soft cond-mat.stat-mech physics.flu-dyn': 84,\n",
       " 'math.OA math.GN': 11,\n",
       " 'cond-mat.other cond-mat.supr-con': 108,\n",
       " 'math.RA math.AG': 205,\n",
       " 'cs.AI cs.CL': 1047,\n",
       " 'physics.chem-ph physics.comp-ph': 624,\n",
       " 'astro-ph nucl-ex nucl-th': 23,\n",
       " 'cs.DS cs.GT': 163,\n",
       " 'math.CA math.AP': 538,\n",
       " 'math.MG math.DS': 76,\n",
       " 'cond-mat.other physics.optics': 70,\n",
       " 'q-bio.BM cond-mat.soft physics.bio-ph': 117,\n",
       " 'hep-ph cond-mat.mes-hall': 24,\n",
       " 'physics.gen-ph q-bio.MN': 1,\n",
       " 'cond-mat.other cond-mat.soft': 61,\n",
       " 'physics.hist-ph hep-ph nucl-th': 5,\n",
       " 'math.CT math.GN': 59,\n",
       " 'cond-mat.supr-con nucl-th': 23,\n",
       " 'hep-th math-ph math.DG math.MP': 171,\n",
       " 'gr-qc hep-th math-ph math.DG math.MP': 48,\n",
       " 'math.MG math.AG': 47,\n",
       " 'math.AG math.CO math.GT': 26,\n",
       " 'math.KT math.AG math.AT': 103,\n",
       " 'hep-th hep-lat hep-ph': 731,\n",
       " 'cond-mat.str-el hep-th quant-ph': 203,\n",
       " 'cond-mat.stat-mech cs.NI math-ph math.MP physics.soc-ph': 6,\n",
       " 'physics.flu-dyn cond-mat.stat-mech nlin.CD physics.ao-ph physics.comp-ph': 1,\n",
       " 'hep-th cond-mat.stat-mech gr-qc': 121,\n",
       " 'quant-ph cs.ET': 531,\n",
       " 'cs.HC cs.AI': 920,\n",
       " 'q-fin.GN physics.soc-ph': 201,\n",
       " 'math-ph gr-qc hep-th math.DG math.MP': 28,\n",
       " 'math.DS math.GR': 229,\n",
       " 'math.RT math.CO math.QA': 111,\n",
       " 'math-ph math.AP math.CV math.MP': 12,\n",
       " 'q-fin.ST physics.data-an': 70,\n",
       " 'cond-mat.dis-nn astro-ph cond-mat.other nlin.AO q-bio.NC': 1,\n",
       " 'cond-mat.dis-nn nlin.AO nlin.CD': 8,\n",
       " 'math-ph cond-mat.mes-hall math.MP': 116,\n",
       " 'math.CT': 1768,\n",
       " 'math.AP math-ph math.MP nlin.SI': 57,\n",
       " 'math-ph math.AP math.MP nlin.CD': 4,\n",
       " 'math.PR math.CA': 253,\n",
       " 'quant-ph gr-qc hep-th': 581,\n",
       " 'cs.CE': 2079,\n",
       " 'physics.gen-ph physics.data-an': 13,\n",
       " 'q-fin.GN physics.data-an physics.soc-ph': 16,\n",
       " 'math.SP math.CA': 123,\n",
       " 'cond-mat.other nucl-th': 38,\n",
       " 'cs.NE cs.AI cs.CV': 37,\n",
       " 'math.DG math.QA': 61,\n",
       " 'cond-mat.other physics.geo-ph': 10,\n",
       " 'physics.plasm-ph physics.gen-ph': 54,\n",
       " 'q-bio.CB q-bio.PE': 22,\n",
       " 'math.AP math.SP': 507,\n",
       " 'cs.IT cs.DS math.IT': 120,\n",
       " 'cs.GT': 3787,\n",
       " 'cond-mat.soft physics.flu-dyn': 987,\n",
       " 'math.SG math.DS': 333,\n",
       " 'math.QA math-ph math.MP math.RT': 165,\n",
       " 'gr-qc hep-th math-ph math.MP': 1020,\n",
       " 'physics.optics physics.acc-ph': 68,\n",
       " 'math.FA math.CA': 586,\n",
       " 'math.GN math.DS': 48,\n",
       " 'nucl-th astro-ph cond-mat.stat-mech': 6,\n",
       " 'stat.AP stat.ME': 822,\n",
       " 'physics.class-ph nlin.CD physics.gen-ph': 1,\n",
       " 'cs.NI math.CO': 5,\n",
       " 'physics.chem-ph cond-mat.other physics.comp-ph': 11,\n",
       " 'cs.CG math.OC': 15,\n",
       " 'gr-qc math-ph math.MP': 939,\n",
       " 'cond-mat.mes-hall physics.atom-ph quant-ph': 28,\n",
       " 'q-bio.TO q-bio.QM': 57,\n",
       " 'quant-ph hep-th physics.hist-ph': 22,\n",
       " 'cs.DS cs.CG': 280,\n",
       " 'cs.LO cs.GT': 87,\n",
       " 'physics.class-ph hep-th': 43,\n",
       " 'cs.DM cs.NI': 12,\n",
       " 'math-ph math.GM math.MP': 22,\n",
       " 'math.DG math.CT': 45,\n",
       " 'math.CT cs.CL': 4,\n",
       " 'astro-ph math.DS nlin.CD': 4,\n",
       " 'math.AG math.DS': 218,\n",
       " 'physics.flu-dyn cond-mat.stat-mech physics.ao-ph': 14,\n",
       " 'hep-ph physics.data-an': 45,\n",
       " 'cond-mat.stat-mech math.PR': 280,\n",
       " 'quant-ph nucl-th': 140,\n",
       " 'math.ST math.PR q-fin.ST stat.ME stat.TH': 2,\n",
       " 'cond-mat.supr-con cond-mat.stat-mech nucl-ex': 1,\n",
       " 'physics.ins-det physics.gen-ph': 18,\n",
       " 'math.CO math.RA': 306,\n",
       " 'math.PR math.DG math.NA': 1,\n",
       " 'math-ph hep-th math.MP math.QA': 198,\n",
       " 'cs.DS cs.DM cs.IT math.IT': 8,\n",
       " 'math-ph math.CA math.MP': 225,\n",
       " 'physics.flu-dyn hep-th math-ph math.MP quant-ph': 1,\n",
       " 'cond-mat.soft cond-mat.dis-nn cond-mat.stat-mech': 207,\n",
       " 'cs.AI cs.DS': 82,\n",
       " 'math.NA physics.comp-ph': 211,\n",
       " 'cs.CY': 5420,\n",
       " 'hep-ex astro-ph': 38,\n",
       " 'cs.CG': 2272,\n",
       " 'math.SP math.FA': 224,\n",
       " 'physics.med-ph physics.ins-det': 160,\n",
       " 'hep-ph cond-mat.soft hep-th': 1,\n",
       " 'hep-th cond-mat.soft hep-ph': 13,\n",
       " 'math.NT math.CA': 372,\n",
       " 'stat.ME': 11474,\n",
       " 'math.DG gr-qc math.AG math.AP': 1,\n",
       " 'math-ph math.AP math.DG math.FA math.MP': 2,\n",
       " 'math.CO math.NT': 1404,\n",
       " 'physics.chem-ph cond-mat.mtrl-sci cond-mat.other physics.comp-ph': 4,\n",
       " 'cs.RO': 14195,\n",
       " 'cs.GL': 70,\n",
       " 'cs.IR cs.DL': 152,\n",
       " 'cs.IT cs.AI cs.LG cs.NI math.IT': 10,\n",
       " 'physics.plasm-ph nlin.AO': 10,\n",
       " 'math.HO math.CA': 55,\n",
       " 'physics.hist-ph physics.gen-ph': 26,\n",
       " 'hep-th math.AG math.QA': 32,\n",
       " 'physics.class-ph physics.ins-det': 21,\n",
       " 'cond-mat.stat-mech cond-mat.dis-nn math-ph math.MP': 55,\n",
       " 'physics.atom-ph astro-ph': 19,\n",
       " 'cond-mat.supr-con cond-mat.str-el nucl-th': 13,\n",
       " 'math.AG math.NT math.RA': 15,\n",
       " 'hep-th gr-qc math.DG': 113,\n",
       " 'math.PR math.MG': 196,\n",
       " 'math-ph math.MP math.QA quant-ph': 20,\n",
       " 'cond-mat.stat-mech cond-mat.other hep-th math-ph math.MP nlin.SI quant-ph': 1,\n",
       " 'math.PR math.CO': 1399,\n",
       " 'math.DS cs.CC math.MG': 1,\n",
       " 'math.GM math.LO': 15,\n",
       " 'cs.GT cs.IT math.IT': 48,\n",
       " 'q-bio.BM q-bio.MN': 32,\n",
       " 'math.FA math-ph math.MP': 252,\n",
       " 'gr-qc hep-ph hep-th': 596,\n",
       " 'math.KT math.AT': 243,\n",
       " 'math.RA cs.DS': 4,\n",
       " 'cond-mat.other quant-ph': 308,\n",
       " 'cond-mat.other nlin.PS quant-ph': 3,\n",
       " 'math.RT math.CO': 838,\n",
       " 'math.DS nlin.CD': 310,\n",
       " 'cs.CR cs.CC': 53,\n",
       " 'math.CA math.CO': 239,\n",
       " 'cond-mat.dis-nn cond-mat.soft': 340,\n",
       " 'gr-qc cond-mat.str-el hep-ph physics.hist-ph': 1,\n",
       " 'cs.DL cs.CY': 108,\n",
       " 'math-ph hep-th math.AT math.MP': 22,\n",
       " 'math.OC math.CO': 193,\n",
       " 'physics.ed-ph astro-ph gr-qc': 1,\n",
       " 'cs.DS cs.CE cs.MS cs.NA': 1,\n",
       " 'q-bio.CB q-bio.TO': 40,\n",
       " 'math.DS math.NT': 596,\n",
       " 'cond-mat.soft cond-mat.stat-mech physics.chem-ph': 194,\n",
       " 'math.SP math-ph math.DG math.MP': 18,\n",
       " 'physics.gen-ph nlin.AO': 6,\n",
       " 'gr-qc quant-ph': 693,\n",
       " 'math.DG math.MG': 567,\n",
       " 'math-ph cond-mat.other math.MP': 48,\n",
       " 'quant-ph math.SG physics.optics': 1,\n",
       " 'cond-mat.mtrl-sci cond-mat.stat-mech quant-ph': 6,\n",
       " 'cond-mat.other cond-mat.mes-hall nlin.PS': 2,\n",
       " 'math.DS math-ph math.HO math.MP': 2,\n",
       " 'quant-ph cond-mat.mtrl-sci': 230,\n",
       " 'cs.IR cs.CL': 868,\n",
       " 'cond-mat.other hep-ph hep-th nucl-th': 2,\n",
       " 'hep-ph cond-mat.other hep-th nucl-th': 6,\n",
       " 'cond-mat.stat-mech cond-mat.dis-nn nlin.AO nlin.CD': 2,\n",
       " 'cond-mat.supr-con astro-ph cond-mat.stat-mech cond-mat.str-el hep-th': 1,\n",
       " 'astro-ph physics.space-ph': 27,\n",
       " 'astro-ph physics.class-ph': 9,\n",
       " 'cs.CE cs.NE': 33,\n",
       " 'math.PR math.OA': 134,\n",
       " 'physics.gen-ph q-bio.OT quant-ph': 1,\n",
       " 'math.RT math.AG math.QA': 91,\n",
       " 'math.SP math.OC': 20,\n",
       " 'math.MG math.SP': 13,\n",
       " 'math.CO hep-th math-ph math.MP math.RA': 1,\n",
       " 'physics.ao-ph math-ph math.MP nlin.SI physics.class-ph physics.flu-dyn physics.gen-ph': 1,\n",
       " 'physics.atom-ph physics.ins-det': 117,\n",
       " 'q-fin.PR math.AP math.OC': 2,\n",
       " 'nlin.CD physics.soc-ph': 16,\n",
       " 'math.FA math.DG math.SG': 8,\n",
       " 'math.NA cs.NA': 12270,\n",
       " 'math.SP math.PR': 49,\n",
       " 'quant-ph gr-qc': 950,\n",
       " 'cs.CG cs.DS': 438,\n",
       " 'hep-th math.AG math.GT': 13,\n",
       " 'quant-ph cond-mat.mes-hall cond-mat.stat-mech nucl-th physics.atom-ph': 1,\n",
       " 'cs.HC cs.RO': 255,\n",
       " 'math-ph math.MP math.RT math.SG': 6,\n",
       " 'physics.geo-ph astro-ph physics.flu-dyn': 5,\n",
       " 'cond-mat.mtrl-sci cond-mat.stat-mech stat.AP': 1,\n",
       " 'math.PR math.AP q-bio.SC': 1,\n",
       " 'math.CO math.AT': 314,\n",
       " 'cond-mat.str-el math-ph math.MP': 107,\n",
       " 'physics.chem-ph physics.gen-ph': 28,\n",
       " 'q-bio.PE cond-mat.dis-nn cond-mat.stat-mech': 25,\n",
       " 'nucl-ex hep-ph': 129,\n",
       " 'cond-mat.str-el cond-mat.supr-con hep-lat hep-ph': 2,\n",
       " 'physics.comp-ph physics.flu-dyn': 469,\n",
       " 'math-ph math.DS math.MP': 338,\n",
       " 'math.RT math.CO math.GR': 59,\n",
       " ...}"
      ]
     },
     "execution_count": 6,
     "metadata": {},
     "output_type": "execute_result"
    }
   ],
   "source": [
    "category_counts"
   ]
  },
  {
   "cell_type": "code",
   "execution_count": 19,
   "id": "5db9c2fb-3d73-42e3-be83-617374c11459",
   "metadata": {},
   "outputs": [],
   "source": [
    "import json\n",
    "with open(\"../analysis/categories.json\", \"w\") as outfile: \n",
    "    json.dump(category_counts, outfile)"
   ]
  },
  {
   "cell_type": "code",
   "execution_count": 8,
   "id": "58f7814b-199d-45ab-973b-982666391294",
   "metadata": {},
   "outputs": [
    {
     "data": {
      "text/plain": [
       "87362"
      ]
     },
     "execution_count": 8,
     "metadata": {},
     "output_type": "execute_result"
    }
   ],
   "source": [
    "len(category_counts)"
   ]
  },
  {
   "cell_type": "markdown",
   "id": "ad218938-0e18-46da-bf18-c7b58950c979",
   "metadata": {},
   "source": [
    "There are 87362 distinct values for categories column and most of these contain multiple categories, so this is a multi-label classification task with the distinct categories as non-exclusive labels."
   ]
  },
  {
   "cell_type": "code",
   "execution_count": 9,
   "id": "96059072-6826-46e9-b09c-e42e58adb40c",
   "metadata": {},
   "outputs": [],
   "source": [
    "from functools import reduce\n",
    "distinct_categories = reduce(lambda acc, cats: acc.union(cats.split(' ')), category_counts.keys(), set())"
   ]
  },
  {
   "cell_type": "code",
   "execution_count": 10,
   "id": "55987357-8d5f-432e-8f6b-f028062c3112",
   "metadata": {
    "scrolled": true
   },
   "outputs": [
    {
     "data": {
      "text/plain": [
       "{'acc-phys',\n",
       " 'adap-org',\n",
       " 'alg-geom',\n",
       " 'ao-sci',\n",
       " 'astro-ph',\n",
       " 'astro-ph.CO',\n",
       " 'astro-ph.EP',\n",
       " 'astro-ph.GA',\n",
       " 'astro-ph.HE',\n",
       " 'astro-ph.IM',\n",
       " 'astro-ph.SR',\n",
       " 'atom-ph',\n",
       " 'bayes-an',\n",
       " 'chao-dyn',\n",
       " 'chem-ph',\n",
       " 'cmp-lg',\n",
       " 'comp-gas',\n",
       " 'cond-mat',\n",
       " 'cond-mat.dis-nn',\n",
       " 'cond-mat.mes-hall',\n",
       " 'cond-mat.mtrl-sci',\n",
       " 'cond-mat.other',\n",
       " 'cond-mat.quant-gas',\n",
       " 'cond-mat.soft',\n",
       " 'cond-mat.stat-mech',\n",
       " 'cond-mat.str-el',\n",
       " 'cond-mat.supr-con',\n",
       " 'cs.AI',\n",
       " 'cs.AR',\n",
       " 'cs.CC',\n",
       " 'cs.CE',\n",
       " 'cs.CG',\n",
       " 'cs.CL',\n",
       " 'cs.CR',\n",
       " 'cs.CV',\n",
       " 'cs.CY',\n",
       " 'cs.DB',\n",
       " 'cs.DC',\n",
       " 'cs.DL',\n",
       " 'cs.DM',\n",
       " 'cs.DS',\n",
       " 'cs.ET',\n",
       " 'cs.FL',\n",
       " 'cs.GL',\n",
       " 'cs.GR',\n",
       " 'cs.GT',\n",
       " 'cs.HC',\n",
       " 'cs.IR',\n",
       " 'cs.IT',\n",
       " 'cs.LG',\n",
       " 'cs.LO',\n",
       " 'cs.MA',\n",
       " 'cs.MM',\n",
       " 'cs.MS',\n",
       " 'cs.NA',\n",
       " 'cs.NE',\n",
       " 'cs.NI',\n",
       " 'cs.OH',\n",
       " 'cs.OS',\n",
       " 'cs.PF',\n",
       " 'cs.PL',\n",
       " 'cs.RO',\n",
       " 'cs.SC',\n",
       " 'cs.SD',\n",
       " 'cs.SE',\n",
       " 'cs.SI',\n",
       " 'cs.SY',\n",
       " 'dg-ga',\n",
       " 'econ.EM',\n",
       " 'econ.GN',\n",
       " 'econ.TH',\n",
       " 'eess.AS',\n",
       " 'eess.IV',\n",
       " 'eess.SP',\n",
       " 'eess.SY',\n",
       " 'funct-an',\n",
       " 'gr-qc',\n",
       " 'hep-ex',\n",
       " 'hep-lat',\n",
       " 'hep-ph',\n",
       " 'hep-th',\n",
       " 'math-ph',\n",
       " 'math.AC',\n",
       " 'math.AG',\n",
       " 'math.AP',\n",
       " 'math.AT',\n",
       " 'math.CA',\n",
       " 'math.CO',\n",
       " 'math.CT',\n",
       " 'math.CV',\n",
       " 'math.DG',\n",
       " 'math.DS',\n",
       " 'math.FA',\n",
       " 'math.GM',\n",
       " 'math.GN',\n",
       " 'math.GR',\n",
       " 'math.GT',\n",
       " 'math.HO',\n",
       " 'math.IT',\n",
       " 'math.KT',\n",
       " 'math.LO',\n",
       " 'math.MG',\n",
       " 'math.MP',\n",
       " 'math.NA',\n",
       " 'math.NT',\n",
       " 'math.OA',\n",
       " 'math.OC',\n",
       " 'math.PR',\n",
       " 'math.QA',\n",
       " 'math.RA',\n",
       " 'math.RT',\n",
       " 'math.SG',\n",
       " 'math.SP',\n",
       " 'math.ST',\n",
       " 'mtrl-th',\n",
       " 'nlin.AO',\n",
       " 'nlin.CD',\n",
       " 'nlin.CG',\n",
       " 'nlin.PS',\n",
       " 'nlin.SI',\n",
       " 'nucl-ex',\n",
       " 'nucl-th',\n",
       " 'patt-sol',\n",
       " 'physics.acc-ph',\n",
       " 'physics.ao-ph',\n",
       " 'physics.app-ph',\n",
       " 'physics.atm-clus',\n",
       " 'physics.atom-ph',\n",
       " 'physics.bio-ph',\n",
       " 'physics.chem-ph',\n",
       " 'physics.class-ph',\n",
       " 'physics.comp-ph',\n",
       " 'physics.data-an',\n",
       " 'physics.ed-ph',\n",
       " 'physics.flu-dyn',\n",
       " 'physics.gen-ph',\n",
       " 'physics.geo-ph',\n",
       " 'physics.hist-ph',\n",
       " 'physics.ins-det',\n",
       " 'physics.med-ph',\n",
       " 'physics.optics',\n",
       " 'physics.plasm-ph',\n",
       " 'physics.pop-ph',\n",
       " 'physics.soc-ph',\n",
       " 'physics.space-ph',\n",
       " 'plasm-ph',\n",
       " 'q-alg',\n",
       " 'q-bio',\n",
       " 'q-bio.BM',\n",
       " 'q-bio.CB',\n",
       " 'q-bio.GN',\n",
       " 'q-bio.MN',\n",
       " 'q-bio.NC',\n",
       " 'q-bio.OT',\n",
       " 'q-bio.PE',\n",
       " 'q-bio.QM',\n",
       " 'q-bio.SC',\n",
       " 'q-bio.TO',\n",
       " 'q-fin.CP',\n",
       " 'q-fin.EC',\n",
       " 'q-fin.GN',\n",
       " 'q-fin.MF',\n",
       " 'q-fin.PM',\n",
       " 'q-fin.PR',\n",
       " 'q-fin.RM',\n",
       " 'q-fin.ST',\n",
       " 'q-fin.TR',\n",
       " 'quant-ph',\n",
       " 'solv-int',\n",
       " 'stat.AP',\n",
       " 'stat.CO',\n",
       " 'stat.ME',\n",
       " 'stat.ML',\n",
       " 'stat.OT',\n",
       " 'stat.TH',\n",
       " 'supr-con'}"
      ]
     },
     "execution_count": 10,
     "metadata": {},
     "output_type": "execute_result"
    }
   ],
   "source": [
    "distinct_categories"
   ]
  },
  {
   "cell_type": "code",
   "execution_count": 11,
   "id": "4f9fab03-ad76-4726-9a04-f47dbee21a08",
   "metadata": {},
   "outputs": [
    {
     "data": {
      "text/plain": [
       "176"
      ]
     },
     "execution_count": 11,
     "metadata": {},
     "output_type": "execute_result"
    }
   ],
   "source": [
    "len(distinct_categories)"
   ]
  },
  {
   "cell_type": "markdown",
   "id": "62d94b95-d7fb-4cb0-9f1b-602df44b7d43",
   "metadata": {},
   "source": [
    "The number of distinct categories is 176."
   ]
  },
  {
   "cell_type": "code",
   "execution_count": 12,
   "id": "85c1cfd9-3ad1-4156-8a89-545cbaaf691e",
   "metadata": {
    "scrolled": true
   },
   "outputs": [
    {
     "data": {
      "text/plain": [
       "{'cond-mat.other': 16030,\n",
       " 'stat.TH': 24117,\n",
       " 'cs.NI': 23422,\n",
       " 'atom-ph': 123,\n",
       " 'cs.NE': 15313,\n",
       " 'math.HO': 3750,\n",
       " 'alg-geom': 1423,\n",
       " 'math.SP': 10023,\n",
       " 'hep-th': 170707,\n",
       " 'cs.ET': 5111,\n",
       " 'math.DG': 43442,\n",
       " 'cond-mat.mtrl-sci': 96292,\n",
       " 'math.AT': 16203,\n",
       " 'math.OC': 51605,\n",
       " 'math.MG': 11605,\n",
       " 'q-fin.PR': 2014,\n",
       " 'econ.EM': 4034,\n",
       " 'nucl-ex': 26432,\n",
       " 'physics.data-an': 10764,\n",
       " 'math.FA': 32245,\n",
       " 'math.CA': 22918,\n",
       " 'q-fin.CP': 2628,\n",
       " 'q-bio.BM': 5927,\n",
       " 'physics.atm-clus': 2807,\n",
       " 'cs.GL': 216,\n",
       " 'bayes-an': 16,\n",
       " 'q-bio.OT': 1338,\n",
       " 'cs.RO': 37442,\n",
       " 'cs.CY': 21058,\n",
       " 'math.GT': 23525,\n",
       " 'q-bio.TO': 2359,\n",
       " 'solv-int': 1413,\n",
       " 'astro-ph.IM': 30694,\n",
       " 'econ.TH': 2747,\n",
       " 'q-fin.RM': 2420,\n",
       " 'physics.comp-ph': 24067,\n",
       " 'cs.MA': 8457,\n",
       " 'nlin.SI': 12127,\n",
       " 'nucl-th': 58502,\n",
       " 'math.DS': 38231,\n",
       " 'q-bio.CB': 2236,\n",
       " 'q-bio.PE': 11767,\n",
       " 'q-bio': 1356,\n",
       " 'comp-gas': 221,\n",
       " 'math.QA': 19439,\n",
       " 'hep-ex': 55301,\n",
       " 'math.LO': 13795,\n",
       " 'cs.OH': 2228,\n",
       " 'cs.PF': 4205,\n",
       " 'math.RT': 27081,\n",
       " 'q-bio.MN': 3821,\n",
       " 'cs.HC': 20683,\n",
       " 'nlin.AO': 7383,\n",
       " 'physics.optics': 48798,\n",
       " 'acc-phys': 49,\n",
       " 'astro-ph.CO': 69766,\n",
       " 'cs.CL': 75251,\n",
       " 'cs.OS': 994,\n",
       " 'stat.AP': 19614,\n",
       " 'cs.NA': 26635,\n",
       " 'q-fin.PM': 1977,\n",
       " 'stat.OT': 1391,\n",
       " 'math.CV': 17574,\n",
       " 'physics.bio-ph': 15911,\n",
       " 'nlin.CG': 1547,\n",
       " 'q-fin.MF': 2702,\n",
       " 'physics.med-ph': 7452,\n",
       " 'math.SG': 9346,\n",
       " 'cs.FL': 5197,\n",
       " 'astro-ph.SR': 62503,\n",
       " 'stat.ME': 28982,\n",
       " 'cond-mat.str-el': 76024,\n",
       " 'plasm-ph': 38,\n",
       " 'physics.space-ph': 6757,\n",
       " 'chem-ph': 251,\n",
       " 'hep-lat': 28559,\n",
       " 'gr-qc': 110976,\n",
       " 'physics.ins-det': 21810,\n",
       " 'physics.ao-ph': 6989,\n",
       " 'eess.SP': 31046,\n",
       " 'cond-mat.stat-mech': 75455,\n",
       " 'physics.atom-ph': 21789,\n",
       " 'cs.DM': 13936,\n",
       " 'physics.gen-ph': 10431,\n",
       " 'physics.plasm-ph': 17403,\n",
       " 'cond-mat.quant-gas': 21953,\n",
       " 'math.GM': 4157,\n",
       " 'cs.IR': 19128,\n",
       " 'q-bio.GN': 3301,\n",
       " 'econ.GN': 4646,\n",
       " 'astro-ph.HE': 60378,\n",
       " 'cond-mat.soft': 41147,\n",
       " 'cs.CG': 7137,\n",
       " 'cond-mat.dis-nn': 24343,\n",
       " 'cs.CC': 11289,\n",
       " 'cs.LO': 16781,\n",
       " 'stat.CO': 8712,\n",
       " 'cs.PL': 8250,\n",
       " 'cs.SI': 20830,\n",
       " 'cond-mat.mes-hall': 93149,\n",
       " 'cond-mat.supr-con': 44192,\n",
       " 'cs.SC': 2682,\n",
       " 'quant-ph': 156240,\n",
       " 'math-ph': 82161,\n",
       " 'physics.soc-ph': 22796,\n",
       " 'cs.LG': 200479,\n",
       " 'cmp-lg': 894,\n",
       " 'cs.DC': 23226,\n",
       " 'patt-sol': 650,\n",
       " 'math.CO': 69047,\n",
       " 'cs.DS': 25285,\n",
       " 'q-bio.QM': 11104,\n",
       " 'math.IT': 48597,\n",
       " 'adap-org': 584,\n",
       " 'cs.CE': 7958,\n",
       " 'astro-ph': 105380,\n",
       " 'math.OA': 12972,\n",
       " 'math.AG': 54186,\n",
       " 'cs.DB': 9414,\n",
       " 'math.PR': 58432,\n",
       " 'astro-ph.EP': 30541,\n",
       " 'dg-ga': 732,\n",
       " 'cs.CR': 36719,\n",
       " 'physics.flu-dyn': 29555,\n",
       " 'math.GR': 23028,\n",
       " 'ao-sci': 17,\n",
       " 'physics.app-ph': 19726,\n",
       " 'eess.SY': 26916,\n",
       " 'physics.geo-ph': 7509,\n",
       " 'math.KT': 6079,\n",
       " 'cs.SD': 15896,\n",
       " 'math.RA': 17978,\n",
       " 'mtrl-th': 262,\n",
       " 'math.GN': 5319,\n",
       " 'q-bio.NC': 10126,\n",
       " 'math.NA': 40444,\n",
       " 'cond-mat': 14215,\n",
       " 'q-fin.GN': 2731,\n",
       " 'physics.hist-ph': 5078,\n",
       " 'math.ST': 24117,\n",
       " 'stat.ML': 68486,\n",
       " 'q-fin.TR': 1869,\n",
       " 'math.NT': 43515,\n",
       " 'math.AC': 13319,\n",
       " 'supr-con': 175,\n",
       " 'eess.IV': 25714,\n",
       " 'physics.chem-ph': 23454,\n",
       " 'eess.AS': 16954,\n",
       " 'cs.SY': 35135,\n",
       " 'physics.class-ph': 8736,\n",
       " 'nlin.CD': 16052,\n",
       " 'cs.GT': 12253,\n",
       " 'physics.acc-ph': 7999,\n",
       " 'cs.CV': 142631,\n",
       " 'astro-ph.GA': 67426,\n",
       " 'physics.ed-ph': 4020,\n",
       " 'q-fin.EC': 5210,\n",
       " 'q-fin.ST': 3764,\n",
       " 'math.AP': 65009,\n",
       " 'cs.DL': 5132,\n",
       " 'cs.MS': 2318,\n",
       " 'physics.pop-ph': 2482,\n",
       " 'cs.MM': 7341,\n",
       " 'math.MP': 82161,\n",
       " 'cs.SE': 18691,\n",
       " 'hep-ph': 184375,\n",
       " 'cs.AI': 111006,\n",
       " 'cs.GR': 6933,\n",
       " 'math.CT': 8953,\n",
       " 'funct-an': 427,\n",
       " 'cs.AR': 5676,\n",
       " 'q-alg': 1578,\n",
       " 'chao-dyn': 2398,\n",
       " 'q-bio.SC': 1718,\n",
       " 'cs.IT': 48597,\n",
       " 'nlin.PS': 9994}"
      ]
     },
     "execution_count": 12,
     "metadata": {},
     "output_type": "execute_result"
    }
   ],
   "source": [
    "distinct_categories_count = {k: 0 for k in distinct_categories}\n",
    "\n",
    "for categories, count in category_counts.items():\n",
    "    categories = categories.split(' ')\n",
    "    for category in categories:\n",
    "        distinct_categories_count[category] += count\n",
    "        \n",
    "distinct_categories_count"
   ]
  },
  {
   "cell_type": "code",
   "execution_count": 13,
   "id": "04de5942-e016-4eb7-936c-55b3afd682d6",
   "metadata": {},
   "outputs": [],
   "source": [
    "# Convert the dictionary to a DataFrame\n",
    "df = pd.DataFrame.from_dict(distinct_categories_count, orient='index', columns=['count'])\n",
    "df = df.sort_values('count', ascending=True)"
   ]
  },
  {
   "cell_type": "code",
   "execution_count": 40,
   "id": "1c79cec0-e0f3-48f3-9c75-446203851136",
   "metadata": {},
   "outputs": [],
   "source": [
    "import matplotlib.pyplot as plt"
   ]
  },
  {
   "cell_type": "code",
   "execution_count": 33,
   "id": "a5c39490-9f8a-4279-9d02-77b9bcc58622",
   "metadata": {},
   "outputs": [
    {
     "data": {
      "image/png": "[encoded data removed]",
      "text/plain": [
       "<Figure size 640x480 with 1 Axes>"
      ]
     },
     "metadata": {},
     "output_type": "display_data"
    }
   ],
   "source": [
    "df.tail(20).plot(kind='bar')\n",
    "plt.title('Top 20 arXiv Categories by Submission Count')\n",
    "plt.xlabel('Category')\n",
    "plt.ylabel('Number of Submissions')\n",
    "plt.xticks(rotation=45, ha='right')  # Rotate labels 45 degrees for better readability\n",
    "plt.tight_layout()\n",
    "plt.show()"
   ]
  },
  {
   "cell_type": "code",
   "execution_count": 35,
   "id": "04816cb7-722d-47d2-948e-12e2638ed014",
   "metadata": {},
   "outputs": [
    {
     "data": {
      "image/png": "[encoded data removed]",
      "text/plain": [
       "<Figure size 640x480 with 1 Axes>"
      ]
     },
     "metadata": {},
     "output_type": "display_data"
    }
   ],
   "source": [
    "df.head(20).plot(kind='bar')\n",
    "plt.title('Bottom 20 arXiv Categories by Submission Count')\n",
    "plt.xlabel('Category')\n",
    "plt.ylabel('Number of Submissions')\n",
    "plt.xticks(rotation=45, ha='right')\n",
    "plt.tight_layout()\n",
    "plt.show()"
   ]
  },
  {
   "cell_type": "code",
   "execution_count": 40,
   "id": "0a36940d-3f21-4465-bb15-0db5147dbc99",
   "metadata": {},
   "outputs": [
    {
     "data": {
      "text/plain": [
       "25626.051136363636"
      ]
     },
     "execution_count": 40,
     "metadata": {},
     "output_type": "execute_result"
    }
   ],
   "source": [
    "df['count'].mean()"
   ]
  },
  {
   "cell_type": "code",
   "execution_count": 41,
   "id": "795101f3-ee53-4112-95d1-0ff30542ef46",
   "metadata": {},
   "outputs": [
    {
     "data": {
      "text/plain": [
       "13557.0"
      ]
     },
     "execution_count": 41,
     "metadata": {},
     "output_type": "execute_result"
    }
   ],
   "source": [
    "df['count'].median()"
   ]
  },
  {
   "cell_type": "code",
   "execution_count": 42,
   "id": "40be8dcf-990c-4325-8a0a-eaf82be5ebf3",
   "metadata": {},
   "outputs": [
    {
     "data": {
      "text/plain": [
       "200479"
      ]
     },
     "execution_count": 42,
     "metadata": {},
     "output_type": "execute_result"
    }
   ],
   "source": [
    "df['count'].max()"
   ]
  },
  {
   "cell_type": "code",
   "execution_count": 43,
   "id": "e59fe786-87ad-4dbf-b9ad-2f86497d28ec",
   "metadata": {},
   "outputs": [
    {
     "data": {
      "text/plain": [
       "16"
      ]
     },
     "execution_count": 43,
     "metadata": {},
     "output_type": "execute_result"
    }
   ],
   "source": [
    "df['count'].min()"
   ]
  },
  {
   "cell_type": "code",
   "execution_count": 46,
   "id": "0e092445-6cc4-41c0-8260-7766164849e4",
   "metadata": {},
   "outputs": [
    {
     "data": {
      "text/plain": [
       "0.0006071832050089579"
      ]
     },
     "execution_count": 46,
     "metadata": {},
     "output_type": "execute_result"
    }
   ],
   "source": [
    "df['count'].min() / total_records * 100"
   ]
  },
  {
   "cell_type": "code",
   "execution_count": 47,
   "id": "ba61dd60-dfed-4865-b4eb-c372ea35ace9",
   "metadata": {},
   "outputs": [
    {
     "data": {
      "text/plain": [
       "7.607967609811929"
      ]
     },
     "execution_count": 47,
     "metadata": {},
     "output_type": "execute_result"
    }
   ],
   "source": [
    "df['count'].max() / total_records * 100"
   ]
  },
  {
   "cell_type": "markdown",
   "id": "8cef48a8-f5b1-442c-9d19-e6c79a42ad35",
   "metadata": {},
   "source": [
    "Mean: 25626.051136363636  \n",
    "Median: 13557.0  \n",
    "Max: 200479  \n",
    "Min: 16  \n",
    "There are big disparities in the article distribution among different categories where some categories are very misrepresented (i.e. the least frequent one being less than 0.0006% of the data) while few others like Machine Learning and Physics greatly dominate (~7.6%). In formal terms the dataset has a class imbalance problem.  \n",
    "This could result in the model training being motivated to minimize loss for the frequent categories while having poor accuracy on minority ones.  \n",
    "To mitigate this we can modify the loss function to apply weights to classes in proportion to their distribution, so as to penalize more misclasiffication of rare classes. This loss is called Balanced Cross-Entropy loss and the weighting factor applied to each class is represented by the Greek letter alpha in the range [0, 1]. Alpha could be the inverse class frequency or a hyper-parameter that is determined by cross-validation.   \n",
    "However, this may result in the model overfitting to those samples and still being poor in generalizing to unseen ones. A solution for this could be to generate synthetic examples for these categories in training.  \n",
    "Since the dominant classes have more than enough samples to learn from, we can undersample those classes and still expect the model to learn their specifics well.  \n",
    "Also the metrics used to evaluate the model accuracy should reflect per class performance instead of being computed on the whole dataset. This can be done with calculating precision, recall and f1-score per class and then aggregating them taking an average to treat different classes as equal. However a weighted average would be benefitial too since likely the data which will get passed to the API will mimic the distribution from the dataset, so this would give a better estimate of the end user experience.  "
   ]
  },
  {
   "cell_type": "code",
   "execution_count": 48,
   "id": "fe8e1827-b153-4f0e-97ea-23fbadd0a12e",
   "metadata": {},
   "outputs": [],
   "source": [
    "label_count = {}\n",
    "for categories, count in category_counts.items():\n",
    "    category_count = len(categories.split(' '))\n",
    "    if category_count in label_count:\n",
    "        label_count[category_count] += count\n",
    "    else:\n",
    "        label_count[category_count] = count"
   ]
  },
  {
   "cell_type": "code",
   "execution_count": 49,
   "id": "f0e34fd3-8b93-450b-b79c-2a74b36faa5b",
   "metadata": {},
   "outputs": [
    {
     "data": {
      "text/plain": [
       "{1: 1397458,\n",
       " 2: 783573,\n",
       " 3: 315798,\n",
       " 4: 102003,\n",
       " 5: 28936,\n",
       " 6: 6241,\n",
       " 8: 157,\n",
       " 7: 903,\n",
       " 9: 33,\n",
       " 10: 14,\n",
       " 11: 2,\n",
       " 13: 1}"
      ]
     },
     "execution_count": 49,
     "metadata": {},
     "output_type": "execute_result"
    }
   ],
   "source": [
    "label_count"
   ]
  },
  {
   "cell_type": "code",
   "execution_count": 52,
   "id": "ed0ee741-7530-40c2-9c1a-82c6b6da2cc9",
   "metadata": {},
   "outputs": [
    {
     "data": {
      "image/png": "[encoded data removed]",
      "text/plain": [
       "<Figure size 640x480 with 1 Axes>"
      ]
     },
     "metadata": {},
     "output_type": "display_data"
    }
   ],
   "source": [
    "label_counts = sorted(label_count.keys())\n",
    "sample_counts = [label_count[count] for count in label_counts]\n",
    "plt.bar(label_counts, sample_counts)\n",
    "plt.title('Distribution of Papers by Number of Categories')\n",
    "plt.xlabel('Number of Categories per Paper')\n",
    "plt.ylabel('Number of Papers')\n",
    "plt.xticks(label_counts)\n",
    "plt.tight_layout()\n",
    "plt.show()"
   ]
  },
  {
   "cell_type": "code",
   "execution_count": 53,
   "id": "4f4bb69c-6a08-4373-b96a-311aabdd459c",
   "metadata": {},
   "outputs": [
    {
     "data": {
      "image/png": "[encoded data removed]",
      "text/plain": [
       "<Figure size 640x480 with 1 Axes>"
      ]
     },
     "metadata": {},
     "output_type": "display_data"
    }
   ],
   "source": [
    "label_counts = sorted(label_count.keys())\n",
    "sample_counts = [label_count[count] for count in label_counts]\n",
    "plt.bar(label_counts, sample_counts)\n",
    "plt.yscale('log')\n",
    "plt.title('Distribution of Papers by Number of Categories - log scaled')\n",
    "plt.xlabel('Number of Categories per Paper')\n",
    "plt.ylabel('Number of Papers (log scale)')\n",
    "plt.xticks(label_counts)\n",
    "plt.tight_layout()\n",
    "plt.show()"
   ]
  },
  {
   "cell_type": "code",
   "execution_count": 55,
   "id": "b4568cc5-52f7-4845-9280-b1a158b1fd28",
   "metadata": {},
   "outputs": [
    {
     "data": {
      "text/plain": [
       "0.5303206420658801"
      ]
     },
     "execution_count": 55,
     "metadata": {},
     "output_type": "execute_result"
    }
   ],
   "source": [
    "single_labeled_percentage = label_count[1] / total_records\n",
    "single_labeled_percentage"
   ]
  },
  {
   "cell_type": "markdown",
   "id": "8feb2f18-bd46-4572-a43b-baae686115fb",
   "metadata": {},
   "source": [
    "It can be seen that the number of categories follows a logarithm-like curve, with about half the examples having a single category and ~47% having multiple ones, so enabling the classifier to successfully output multiple labels is important. The output layer needs to produce probabilities for each label (so #neurons = #distinct caterogies) with a sigmoid activation function, so each label can be independently predicted instead of interrelated as is the case with softmax.   \n",
    "  \n",
    "This means the loss function should not be Categorical Cross-Entropy as for multi-class classification, but Binary Cross-Entropy instead, as the outputs would not be 1-hot encoded and instead can have an arbitrary number of 1's. The Binary Cross-Entropy loss would treat each category prediction as an independent binary classification problem and then sum the losses of all. In practice categories are most likely conditionally dependent on each other where for example categories from the same field are more likely to be attributed together as opposed to having cross-field collaborations, but the expectation is that the weights of the network will be able to learn these patterns based on the dataset instead of applying additional customizations to encode this in the training procedure.  \n",
    "  \n",
    "Based on the previous observations, to handle the class imbalance, we could apply a Weighted Binary (Sigmoid) Cross-Entropy loss to attribute weight to categories according to their distribution. The pytorch nn.BCEWithLogitsLoss seems to achieve this if it is passed a tensor of weights for each class.  \n",
    "A weight calculation can for example be: weight_for_class_i = total_samples / (num_samples_in_class_i * num_classes) [2]  \n",
    "  \n",
    "Another technique which can be used to address the class imbalance problem is to use Focal loss [1], which is a variant of Cross-Enropy where the loss gets scaled dynamically by reducing the relative loss for well-classified examples and in this way attributing more weight to misclassified ones, thus focusing more on problematic classes as training progresses. This can make training a bit more flexible than the static weights for each class, as it dynamically focuses on hard examples based on the current iteration of the model. If time permits and results from Binary Cross-Entropy are not satisfactory, I'd try this approach. This would introduce additional hyperparameters to tune - the focusing parameter gamma and optionally the weighting factor alpha for the weighted version of the formula [3]. Cross-validation can be performed for tuning these, but would require additional time and computing resources for training different versions.  "
   ]
  },
  {
   "cell_type": "markdown",
   "id": "405cbfa0-3233-4dc1-9031-806fc3a50d76",
   "metadata": {},
   "source": [
    "Resources:   \n",
    "[1] https://paperswithcode.com/method/focal-loss  \n",
    "[2] https://medium.com/@zergtant/use-weighted-loss-function-to-solve-imbalanced-data-classification-problems-749237f38b75  \n",
    "[3] https://towardsdatascience.com/focal-loss-a-better-alternative-for-cross-entropy-1d073d92d075  "
   ]
  },
  {
   "cell_type": "markdown",
   "id": "f0f2be70-42bd-4b84-a8e5-1125822ef4ca",
   "metadata": {},
   "source": [
    "## Model choice\n",
    "In terms of model choice, the main variants of pre-trained BERT models of the `base` size are `bert-base-uncased` and `bert-base-cased`, respectively trained on uncased and cased versions of the same text with some additional processing of accented words in the uncased case.  \n",
    "Since our model's inputs will be research article abstracts with proper nouns, acronyms and other case-sensitive domain-specific terms, which could be one of the most important bits of the input in order to correctly classify a category, using the case-sensitive `bert-base-cased` variation should have more potential to capture the input text semantics and key terminology. The other post-processing of special characters the uncased version does could also strip key information from common scientific notations used.  "
   ]
  },
  {
   "cell_type": "code",
   "execution_count": 14,
   "id": "d3de0081-439b-474b-9dd8-df84f4f6fa44",
   "metadata": {},
   "outputs": [
    {
     "data": {
      "application/vnd.jupyter.widget-view+json": {
       "model_id": "e6304cad26fc46bbad57d83d2d26e976",
       "version_major": 2,
       "version_minor": 0
      },
      "text/plain": [
       "config.json:   0%|          | 0.00/570 [00:00<?, ?B/s]"
      ]
     },
     "metadata": {},
     "output_type": "display_data"
    },
    {
     "data": {
      "application/vnd.jupyter.widget-view+json": {
       "model_id": "cd105963eb7a46e9acf6f3cc70dbc65a",
       "version_major": 2,
       "version_minor": 0
      },
      "text/plain": [
       "model.safetensors:   0%|          | 0.00/436M [00:00<?, ?B/s]"
      ]
     },
     "metadata": {},
     "output_type": "display_data"
    },
    {
     "name": "stderr",
     "output_type": "stream",
     "text": [
      "Some weights of BertForSequenceClassification were not initialized from the model checkpoint at bert-base-cased and are newly initialized: ['classifier.bias', 'classifier.weight']\n",
      "You should probably TRAIN this model on a down-stream task to be able to use it for predictions and inference.\n"
     ]
    }
   ],
   "source": [
    "from transformers import BertForSequenceClassification\n",
    "\n",
    "categories_count = len(distinct_categories)\n",
    "model = BertForSequenceClassification.from_pretrained(\"bert-base-cased\", num_labels=categories_count, problem_type=\"multi_label_classification\")"
   ]
  },
  {
   "cell_type": "markdown",
   "id": "38e8f040-6de5-48e5-9ad5-50f102dc738f",
   "metadata": {},
   "source": [
    "This model by default uses Binary Cross-Entropy, since we specify problem_type is multi-label classification"
   ]
  },
  {
   "cell_type": "markdown",
   "id": "bdd05600-7246-4774-be40-98bea9340412",
   "metadata": {},
   "source": [
    "## Tokenizing inputs\n",
    "\n",
    "Use the model's corresponding tokenizer. Use the fast version, to optimize performance for batching. \n",
    "The BERT model has a max input of 512 tokens and during training uses 2 sentences for the NSP task, separated by [SEP] symbol. We may need to apply transformations on our input to fit these constraints."
   ]
  },
  {
   "cell_type": "code",
   "execution_count": 17,
   "id": "0a6ca4c7-5f2a-468e-9cec-68994f390676",
   "metadata": {},
   "outputs": [],
   "source": [
    "from transformers import AutoTokenizer\n",
    "tokenizer = AutoTokenizer.from_pretrained('bert-base-cased', is_fast=True)"
   ]
  },
  {
   "cell_type": "code",
   "execution_count": 22,
   "id": "344316f3-7fc3-46c5-b91b-0abb5f896278",
   "metadata": {},
   "outputs": [
    {
     "data": {
      "text/plain": [
       "True"
      ]
     },
     "execution_count": 22,
     "metadata": {},
     "output_type": "execute_result"
    }
   ],
   "source": [
    "tokenizer.is_fast"
   ]
  },
  {
   "cell_type": "markdown",
   "id": "feb46a04-3116-4e96-8301-e1e7267c824e",
   "metadata": {},
   "source": [
    "## Analyze abstract characteristics\n",
    "\n",
    "Do a second pass on the data, this time to check how the abstract inputs relate to BERT's input constraints"
   ]
  },
  {
   "cell_type": "code",
   "execution_count": 30,
   "id": "268c4e3e-4874-46c2-a776-1b97f4ddaec1",
   "metadata": {},
   "outputs": [],
   "source": [
    "chunksize = 1000\n",
    "chunks = pd.read_json(dataset_path, lines=True, chunksize=chunksize)\n",
    "sentence_counts = {}\n",
    "max_token_count = 0\n",
    "avg_token_count = 0.0\n",
    "chunk_count = 0\n",
    "max_chunk_count = 100\n",
    "token_overload_count = 0\n",
    "avg_overload_count = 0\n",
    "for chunk in chunks:\n",
    "    chunk_count += 1\n",
    "    if chunk_count > max_chunk_count:\n",
    "        break\n",
    "    chunk = chunk[[\"abstract\"]]\n",
    "    chunk_size = len(chunk)\n",
    "    sum_token_count = 0.0\n",
    "    for abstract in chunk[\"abstract\"]:\n",
    "        abstract = abstract.strip()\n",
    "        sentence_count = len(abstract.split(\".\"))\n",
    "        if abstract.endswith(\".\"):\n",
    "            sentence_count -= 1\n",
    "        if sentence_count in sentence_counts:\n",
    "            sentence_counts[sentence_count] += 1\n",
    "        else:\n",
    "            sentence_counts[sentence_count] = 1\n",
    "        tokenized = tokenizer(abstract, truncation=False, return_tensors=\"pt\")\n",
    "        tokenized_length = len(tokenized.input_ids[0])\n",
    "        sum_token_count += tokenized_length\n",
    "        if tokenized_length > max_token_count:\n",
    "            max_token_count = tokenized_length\n",
    "        if tokenized_length > 512:\n",
    "            token_overload_count += 1\n",
    "            avg_overload_count += (tokenized_length - 512)\n",
    "    avg_token_count += sum_token_count / chunk_size\n",
    "avg_token_count /= chunk_count\n",
    "avg_overload_count /= token_overload_count"
   ]
  },
  {
   "cell_type": "code",
   "execution_count": 51,
   "id": "31574041-19dc-46da-b1cf-9511cd3e50f4",
   "metadata": {},
   "outputs": [
    {
     "data": {
      "text/plain": [
       "334"
      ]
     },
     "execution_count": 51,
     "metadata": {},
     "output_type": "execute_result"
    }
   ],
   "source": [
    "max_token_count - 512"
   ]
  },
  {
   "cell_type": "code",
   "execution_count": 32,
   "id": "0dffd15f-7cfb-4ada-bc76-9dd2b397bdc9",
   "metadata": {},
   "outputs": [
    {
     "data": {
      "text/plain": [
       "330"
      ]
     },
     "execution_count": 32,
     "metadata": {},
     "output_type": "execute_result"
    }
   ],
   "source": [
    "token_overload_count"
   ]
  },
  {
   "cell_type": "code",
   "execution_count": 33,
   "id": "1f646fdf-9be0-4ccd-8866-775dab918b7d",
   "metadata": {},
   "outputs": [],
   "source": [
    "analyzed_abstract_count = max_chunk_count * chunksize"
   ]
  },
  {
   "cell_type": "code",
   "execution_count": 34,
   "id": "ee6f2c82-c9d3-4756-9e10-916a281eb01e",
   "metadata": {},
   "outputs": [
    {
     "data": {
      "text/plain": [
       "0.33"
      ]
     },
     "execution_count": 34,
     "metadata": {},
     "output_type": "execute_result"
    }
   ],
   "source": [
    "token_overload_count / analyzed_abstract_count * 100"
   ]
  },
  {
   "cell_type": "code",
   "execution_count": 35,
   "id": "b0f7bedb-87ea-41b8-a9cc-ec5972359bfd",
   "metadata": {},
   "outputs": [
    {
     "data": {
      "text/plain": [
       "52.945454545454545"
      ]
     },
     "execution_count": 35,
     "metadata": {},
     "output_type": "execute_result"
    }
   ],
   "source": [
    "avg_overload_count"
   ]
  },
  {
   "cell_type": "markdown",
   "id": "65cf1b68-3a12-47c4-be5a-1c97d80b35fc",
   "metadata": {},
   "source": [
    "Taking a sample of 100k examples, indeed some were above the BERT's token threshold of 512, but that was only 0.33% of them. Additionally, the examples which were above the threshold did not exceed it much on average - only ~53 tokens on average and the biggest outlier being 334.   \n",
    "\n",
    "Considering this, a truncation strategy where abstracts get cut off after they hit the max token count might suffice, since most of the time this would still pass along the majority of the abstract information. Also usually the most valuable and information-rich part of an abstract is in the beginning, so the classifier should have enough context for its predictions.  \n",
    "If this is not enough, another approach could be to first run the abstract through a summarization model, which would condense the text length into BERT's input size.  \n",
    "Alternatively, we could chunk the abstract into sliding window segments and pass these to the model, then aggregate the results using the average or most-confident prediction.  \n",
    "Both are viable solutions, but I'd start with the first one and after training evaluate if the model often misclassifies exactly the truncated abstracts - if so, I'd apply one of the others."
   ]
  },
  {
   "cell_type": "markdown",
   "id": "515aa674-6199-46dd-8cdb-71fbeb557b4b",
   "metadata": {},
   "source": [
    "## Visualizing sentence counts "
   ]
  },
  {
   "cell_type": "code",
   "execution_count": 48,
   "id": "0b12c614-a5e4-44de-a005-a8e2e18adaee",
   "metadata": {},
   "outputs": [],
   "source": [
    "grouped_counts = {}\n",
    "for i in range(1, 11):\n",
    "    grouped_counts[str(i)] = 0\n",
    "grouped_counts['10-15'] = 0\n",
    "grouped_counts['15-20'] = 0\n",
    "grouped_counts['20+'] = 0\n",
    "\n",
    "for sent_count, count in sentence_counts.items():\n",
    "    if sent_count <= 10:\n",
    "        grouped_counts[str(sent_count)] += count\n",
    "    elif sent_count <= 15:\n",
    "        grouped_counts['10-15'] += count\n",
    "    elif sent_count <= 20:\n",
    "        grouped_counts['15-20'] += count\n",
    "    else:\n",
    "        grouped_counts['20+'] += count\n",
    "\n"
   ]
  },
  {
   "cell_type": "code",
   "execution_count": 50,
   "id": "0bca2905-0159-4a0d-bf97-a12160d10201",
   "metadata": {},
   "outputs": [
    {
     "data": {
      "image/png": "[encoded data removed]",
      "text/plain": [
       "<Figure size 1000x600 with 1 Axes>"
      ]
     },
     "metadata": {},
     "output_type": "display_data"
    }
   ],
   "source": [
    "plt.figure(figsize=(10, 6))\n",
    "bars = plt.bar(grouped_counts.keys(), grouped_counts.values())\n",
    "for bar in bars:\n",
    "    height = bar.get_height()\n",
    "    plt.text(bar.get_x() + bar.get_width()/2., height,\n",
    "             f'{int(height):,}',\n",
    "             ha='center', va='bottom')\n",
    "plt.title('Distribution of Paper Abstracts by Sentence Counts')\n",
    "plt.xlabel('Sentence count')\n",
    "plt.ylabel('Number of abstracts')\n",
    "plt.tight_layout()\n",
    "plt.show()\n"
   ]
  },
  {
   "cell_type": "markdown",
   "id": "05924f90-f344-46fa-9db3-9541b77d9cf4",
   "metadata": {},
   "source": [
    "It is quite common to have more than 2 sentences, so different strategies can be employed to handle multiple. \n",
    "The one I choose is to not distinguish between sentences using the [SEP] token and instead pass all tokens as part of the first segment, with the tradeoff of losing the segment encoding meaning. That seems like it should work well enough in practice, since the BERT paper states that `a “sentence” can be an arbitrary span of contiguous text, rather than an actual linguistic sentence`. [4] and a lot of downstream tasks which achieve good results use this approach to pass inputs - i.e. question-answering passes multi-sentence context as first sentence, question as second  \n",
    "\n",
    "Other approach I considered was to split the article into two-sentence segments (possibly with 1 sentence overlap as a sliding window) and pass these to the model, then aggregate responses to form the final prediction. However that would lose a lot of context for each classification and training could take longer and still be less accurate. Predictions would also be slower since they'd require multiple passes through the model. The aggregation would also need to be tuned (i.e. take average or most confident prediction or even train another model to perform this task), which adds time/complexity to the task.  \n",
    "[4] https://arxiv.org/pdf/1810.04805"
   ]
  },
  {
   "cell_type": "markdown",
   "id": "6e9d059e-7979-4fc2-ba9d-4cfd545ff76f",
   "metadata": {},
   "source": [
    "Along with truncation, I'll also use padding to take advantage of the GPU parallelism of batches with variable abstract length. Dynamic padding to the longest token length in the batch is preferred as it's more memory and compute efficient. As seen also the fast version of the hugging face tokenizer is used, which is more performant than the basic one when combined with tokenizing in batches: https://huggingface.co/learn/nlp-course/chapter6/3\n"
   ]
  },
  {
   "cell_type": "code",
   "execution_count": 13,
   "id": "8c4c3e1b-eeb0-43d9-8cf6-763a90130298",
   "metadata": {},
   "outputs": [],
   "source": [
    "import pandas as pd\n",
    "chunksize = 1000\n",
    "chunks = pd.read_json(dataset_path, lines=True, chunksize = chunksize)"
   ]
  },
  {
   "cell_type": "code",
   "execution_count": 16,
   "id": "1b4c17b2-5da1-44e4-944c-cb8b84b33b12",
   "metadata": {},
   "outputs": [
    {
     "data": {
      "text/html": [
       "<div>\n",
       "<style scoped>\n",
       "    .dataframe tbody tr th:only-of-type {\n",
       "        vertical-align: middle;\n",
       "    }\n",
       "\n",
       "    .dataframe tbody tr th {\n",
       "        vertical-align: top;\n",
       "    }\n",
       "\n",
       "    .dataframe thead th {\n",
       "        text-align: right;\n",
       "    }\n",
       "</style>\n",
       "<table border=\"1\" class=\"dataframe\">\n",
       "  <thead>\n",
       "    <tr style=\"text-align: right;\">\n",
       "      <th></th>\n",
       "      <th>abstract</th>\n",
       "    </tr>\n",
       "  </thead>\n",
       "  <tbody>\n",
       "    <tr>\n",
       "      <th>2000</th>\n",
       "      <td>In this paper, we deal with a generalization of the geometry of\\nparallelizable manifolds, or the absolute parallelism (AP-) geometry, in the\\ncontext of generalized Lagrange spaces. All geometric objects defined in this\\ngeometry are not only functions of the positional argument $x$, but also depend\\non the directional argument $y$. In other words, instead of dealing with\\ngeometric objects defined on the manifold $M$, as in the case of classical\\nAP-geometry, we are dealing with geometric objects in the pullback bundle\\n$\\pi^{-1}(TM)$ (the pullback of the tangent bundle $TM$ by $ \\pi: T\\nM\\longrightarrow M$). Many new geometric objects, which have no counterpart in\\nthe classical AP-geometry, emerge in this more general context. We refer to\\nsuch a geometry as generalized AP-geometry (GAP-geometry). In analogy to\\nAP-geometry, we define a $d$-connection in $\\pi^{-1}(TM)$ having remarkable\\nproperties, which we call the canonical $d$-connection, in terms of the unique\\ntorsion-free Riemannian $d$-connection. In addition to these two\\n$d$-connections, two more $d$-connections are defined, the dual and the\\nsymmetric $d$-connections. Our space, therefore, admits twelve curvature\\ntensors (corresponding to the four defined $d$-connections), three of which\\nvanish identically. Simple formulae for the nine non-vanishing curvatures\\ntensors are obtained, in terms of the torsion tensors of the canonical\\n$d$-connection. The different $W$-tensors admitted by the space are also\\ncalculated. All contractions of the $h$- and $v$-curvature tensors and the\\n$W$-tensors are derived. Second rank symmetric and skew-symmetric tensors,\\nwhich prove useful in physical applications, are singled out.\\n</td>\n",
       "    </tr>\n",
       "    <tr>\n",
       "      <th>2001</th>\n",
       "      <td>This paper is a detailed report on a programme of simulations used to settle\\na long-standing issue in the dynamo theory and demonstrate that the fluctuation\\ndynamo exists in the limit of large magnetic Reynolds number Rm&gt;&gt;1 and small\\nmagnetic Prandtl number Pm&lt;&lt;1. The dependence of the critical Rm_c vs. the\\nhydrodynamic Reynolds number Re is obtained for 1&lt;Re&lt;6700. In the limit Pm&lt;&lt;1,\\nRm_c is ~3 times larger than for Pm&gt;1. The stability curve Rm_c(Re) (and, it is\\nargued, the nature of the dynamo) is substantially different from the case of\\nthe simulations and liquid-metal experiments with a mean flow. It is not as yet\\npossible to determine numerically whether the growth rate is ~Rm^{1/2} in the\\nlimit Re&gt;&gt;Rm&gt;&gt;1, as should be the case if the dynamo is driven by the\\ninertial-range motions. The magnetic-energy spectrum in the low-Pm regime is\\nqualitatively different from the Pm&gt;1 case and appears to develop a negative\\nspectral slope, although current resolutions are insufficient to determine its\\nasymptotic form. At 1&lt;Rm&lt;Rm_c, the magnetic fluctuations induced via the\\ntangling by turbulence of a weak mean field are investigated and the\\npossibility of a k^{-1} spectrum above the resistive scale is examined. At low\\nRm&lt;1, the induced fluctuations are well described by the quasistatic\\napproximation; the k^{-11/3} spectrum is confirmed for the first time in direct\\nnumerical simulations.\\n</td>\n",
       "    </tr>\n",
       "    <tr>\n",
       "      <th>2002</th>\n",
       "      <td>The dynamics of many socioeconomic systems is determined by the decision\\nmaking process of agents. The decision process depends on agent's\\ncharacteristics, such as preferences, risk aversion, behavioral biases, etc..\\nIn addition, in some systems the size of agents can be highly heterogeneous\\nleading to very different impacts of agents on the system dynamics. The large\\nsize of some agents poses challenging problems to agents who want to control\\ntheir impact, either by forcing the system in a given direction or by hiding\\ntheir intentionality. Here we consider the financial market as a model system,\\nand we study empirically how agents strategically adjust the properties of\\nlarge orders in order to meet their preference and minimize their impact. We\\nquantify this strategic behavior by detecting scaling relations of allometric\\nnature between the variables characterizing the trading activity of different\\ninstitutions. We observe power law distributions in the investment time\\nhorizon, in the number of transactions needed to execute a large order and in\\nthe traded value exchanged by large institutions and we show that heterogeneity\\nof agents is a key ingredient for the emergence of some aggregate properties\\ncharacterizing this complex system.\\n</td>\n",
       "    </tr>\n",
       "    <tr>\n",
       "      <th>2003</th>\n",
       "      <td>We study domain walls in 2d Ising spin glasses in terms of a minimum-weight\\npath problem. Using this approach, large systems can be treated exactly. Our\\nfocus is on the fractal dimension $d_f$ of domain walls, which describes via\\n$&lt;\\ell &gt;\\simL^{d_f}$ the growth of the average domain-wall length with %%\\nsystems size $L\\times L$. %% 20.07.07 OM %% Exploring systems up to L=320 we\\nyield $d_f=1.274(2)$ for the case of Gaussian disorder, i.e. a much higher\\naccuracy compared to previous studies. For the case of bimodal disorder, where\\nmany equivalent domain walls exist due to the degeneracy of this model, we\\nobtain a true lower bound $d_f=1.095(2)$ and a (lower) estimate $d_f=1.395(3)$\\nas upper bound. Furthermore, we study the distributions of the domain-wall\\nlengths. Their scaling with system size can be described also only by the\\nexponent $d_f$, i.e. the distributions are monofractal. Finally, we investigate\\nthe growth of the domain-wall width with system size (``roughness'') and find a\\nlinear behavior.\\n</td>\n",
       "    </tr>\n",
       "    <tr>\n",
       "      <th>2004</th>\n",
       "      <td>Let $\\mathfrak a$ denote an ideal of a local ring $(R, \\mathfrak m).$ Let $M$\\nbe a finitely generated $R$-module. There is a systematic study of the formal\\ncohomology modules $\\varprojlim \\HH^i(M/\\mathfrak a^nM), i \\in \\mathbb Z.$ We\\nanalyze their $R$-module structure, the upper and lower vanishing and\\nnon-vanishing in terms of intrinsic data of $M,$ and its functorial behavior.\\nThese cohomology modules occur in relation to the formal completion of the\\npunctured spectrum $\\Spec R \\setminus V(\\mathfrak m).$ As a new cohomological\\ndata there is a description on the formal grade $\\fgrade(\\mathfrak a, M)$\\ndefined as the minimal non-vanishing of the formal cohomology modules. There\\nare various exact sequences concerning the formal cohomology modules. Among\\nthem a Mayer-Vietoris sequence for two ideals. It applies to new connectedness\\nresults. There are also relations to local cohomological dimensions.\\n</td>\n",
       "    </tr>\n",
       "    <tr>\n",
       "      <th>2005</th>\n",
       "      <td>We consider two quantum coherent conductors interacting weakly via long range\\nCoulomb forces. We describe the interaction in terms of two-particle collisions\\ndescribed by a two-particle scattering matrix. As an example we determine the\\ntransmission probability and correlations in a two-particle scattering\\nexperiment and find that the results can be expressed in terms of the\\ndensity-of-states matrices of the non-interacting scatterers.\\n</td>\n",
       "    </tr>\n",
       "    <tr>\n",
       "      <th>2006</th>\n",
       "      <td>Let $(R, \\mathfrak m)$ denote an $n$-dimensional Gorenstein ring. For an\\nideal $I \\subset R$ of height $c$ we are interested in the endomorphism ring $B\\n= \\Hom_R(H^c_I(R), H^c_I(R)).$ It turns out that $B$ is a commutative ring. In\\nthe case of $(R,\\mathfrak m)$ a regular local ring containing a field $B$ is a\\nCohen-Macaulay ring. Its properties are related to the highest Lyubeznik number\\n$l = \\dim_k \\Ext_R^d(k,H^c_I(R)).$ In particular $R \\simeq B$ if and only if $l\\n= 1.$ Moreover, we show that the natural homomorphism $\\Ext_R^d(k, H^c_I(R))\\n\\to k$ is non-zero.\\n</td>\n",
       "    </tr>\n",
       "    <tr>\n",
       "      <th>2007</th>\n",
       "      <td>The analysis of databases of photographic images of the Sun (obtained in\\nregion of soft x-ray) by means of a method of multilevel dynamical contrasting,\\nhas shown presence of skeletal structures of the Sun as outside (chromo-sphere\\nflashes and powerful coronal mass ejections) and on the Sun (structures in its\\natmosphere, protuberances and of solar a stains). Moreover the structures which\\nradius of rotation is less than radius of a solar disk on breadth of their\\nobservation have been revealed. On the basis of the obtained results of this\\nanalysis, the author puts forward a hypothesis about an opportunity of\\nexistence of some filamentary matter as inside, so outside of the Sun.\\n</td>\n",
       "    </tr>\n",
       "    <tr>\n",
       "      <th>2008</th>\n",
       "      <td>Virasoro constraints for orbifold Gromov-Witten theory are described. These\\nconstraints are applied to the degree zreo, genus zero orbifold Gromov-Witten\\npotentials of the weighted projective stacks $\\mathbb{P}(1,N)$,\\n$\\mathbb{P}(1,1,N)$ and $\\mathbb{P}(1,1,1,N)$ to obtain formulas of descendant\\ncyclic Hurwitz-Hodge integrals.\\n</td>\n",
       "    </tr>\n",
       "    <tr>\n",
       "      <th>2009</th>\n",
       "      <td>Motivation: Profile hidden Markov Models (pHMMs) are a popular and very\\nuseful tool in the detection of the remote homologue protein families.\\nUnfortunately, their performance is not always satisfactory when proteins are\\nin the 'twilight zone'. We present HMMER-STRUCT, a model construction algorithm\\nand tool that tries to improve pHMM performance by using structural information\\nwhile training pHMMs. As a first step, HMMER-STRUCT constructs a set of pHMMs.\\nEach pHMM is constructed by weighting each residue in an aligned protein\\naccording to a specific structural property of the residue. Properties used\\nwere primary, secondary and tertiary structures, accessibility and packing.\\nHMMER-STRUCT then prioritizes the results by voting. Results: We used the SCOP\\ndatabase to perform our experiments. Throughout, we apply leave-one-family-out\\ncross-validation over protein superfamilies. First, we used the MAMMOTH-mult\\nstructural aligner to align the training set proteins. Then, we performed two\\nsets of experiments. In a first experiment, we compared structure weighted\\nmodels against standard pHMMs and against each other. In a second experiment,\\nwe compared the voting model against individual pHMMs. We compare method\\nperformance through ROC curves and through Precision/Recall curves, and assess\\nsignificance through the paired two tailed t-test. Our results show significant\\nperformance improvements of all structurally weighted models over default\\nHMMER, and a significant improvement in sensitivity of the combined models over\\nboth the original model and the structurally weighted models.\\n</td>\n",
       "    </tr>\n",
       "  </tbody>\n",
       "</table>\n",
       "</div>"
      ],
      "text/plain": [
       "                                                                                                                                                                                                                                                                                                                                                                                                                                                                                                                                                                                                                                                                                                                                                                                                                                                                                                                                                                                                                                                                                                                                                                                                                                                                                                                                                                                                                                                                                                                                                                                                                                                                                                                                                                               abstract\n",
       "2000    In this paper, we deal with a generalization of the geometry of\\nparallelizable manifolds, or the absolute parallelism (AP-) geometry, in the\\ncontext of generalized Lagrange spaces. All geometric objects defined in this\\ngeometry are not only functions of the positional argument $x$, but also depend\\non the directional argument $y$. In other words, instead of dealing with\\ngeometric objects defined on the manifold $M$, as in the case of classical\\nAP-geometry, we are dealing with geometric objects in the pullback bundle\\n$\\pi^{-1}(TM)$ (the pullback of the tangent bundle $TM$ by $ \\pi: T\\nM\\longrightarrow M$). Many new geometric objects, which have no counterpart in\\nthe classical AP-geometry, emerge in this more general context. We refer to\\nsuch a geometry as generalized AP-geometry (GAP-geometry). In analogy to\\nAP-geometry, we define a $d$-connection in $\\pi^{-1}(TM)$ having remarkable\\nproperties, which we call the canonical $d$-connection, in terms of the unique\\ntorsion-free Riemannian $d$-connection. In addition to these two\\n$d$-connections, two more $d$-connections are defined, the dual and the\\nsymmetric $d$-connections. Our space, therefore, admits twelve curvature\\ntensors (corresponding to the four defined $d$-connections), three of which\\nvanish identically. Simple formulae for the nine non-vanishing curvatures\\ntensors are obtained, in terms of the torsion tensors of the canonical\\n$d$-connection. The different $W$-tensors admitted by the space are also\\ncalculated. All contractions of the $h$- and $v$-curvature tensors and the\\n$W$-tensors are derived. Second rank symmetric and skew-symmetric tensors,\\nwhich prove useful in physical applications, are singled out.\\n\n",
       "2001                                                                                                                                                                                                                                                                                                        This paper is a detailed report on a programme of simulations used to settle\\na long-standing issue in the dynamo theory and demonstrate that the fluctuation\\ndynamo exists in the limit of large magnetic Reynolds number Rm>>1 and small\\nmagnetic Prandtl number Pm<<1. The dependence of the critical Rm_c vs. the\\nhydrodynamic Reynolds number Re is obtained for 1<Re<6700. In the limit Pm<<1,\\nRm_c is ~3 times larger than for Pm>1. The stability curve Rm_c(Re) (and, it is\\nargued, the nature of the dynamo) is substantially different from the case of\\nthe simulations and liquid-metal experiments with a mean flow. It is not as yet\\npossible to determine numerically whether the growth rate is ~Rm^{1/2} in the\\nlimit Re>>Rm>>1, as should be the case if the dynamo is driven by the\\ninertial-range motions. The magnetic-energy spectrum in the low-Pm regime is\\nqualitatively different from the Pm>1 case and appears to develop a negative\\nspectral slope, although current resolutions are insufficient to determine its\\nasymptotic form. At 1<Rm<Rm_c, the magnetic fluctuations induced via the\\ntangling by turbulence of a weak mean field are investigated and the\\npossibility of a k^{-1} spectrum above the resistive scale is examined. At low\\nRm<1, the induced fluctuations are well described by the quasistatic\\napproximation; the k^{-11/3} spectrum is confirmed for the first time in direct\\nnumerical simulations.\\n\n",
       "2002                                                                                                                                                                                                                                                                                                                                                                                                                                                           The dynamics of many socioeconomic systems is determined by the decision\\nmaking process of agents. The decision process depends on agent's\\ncharacteristics, such as preferences, risk aversion, behavioral biases, etc..\\nIn addition, in some systems the size of agents can be highly heterogeneous\\nleading to very different impacts of agents on the system dynamics. The large\\nsize of some agents poses challenging problems to agents who want to control\\ntheir impact, either by forcing the system in a given direction or by hiding\\ntheir intentionality. Here we consider the financial market as a model system,\\nand we study empirically how agents strategically adjust the properties of\\nlarge orders in order to meet their preference and minimize their impact. We\\nquantify this strategic behavior by detecting scaling relations of allometric\\nnature between the variables characterizing the trading activity of different\\ninstitutions. We observe power law distributions in the investment time\\nhorizon, in the number of transactions needed to execute a large order and in\\nthe traded value exchanged by large institutions and we show that heterogeneity\\nof agents is a key ingredient for the emergence of some aggregate properties\\ncharacterizing this complex system.\\n\n",
       "2003                                                                                                                                                                                                                                                                                                                                                                                                                                                                                                                                                                                                                                                                                                              We study domain walls in 2d Ising spin glasses in terms of a minimum-weight\\npath problem. Using this approach, large systems can be treated exactly. Our\\nfocus is on the fractal dimension $d_f$ of domain walls, which describes via\\n$<\\ell >\\simL^{d_f}$ the growth of the average domain-wall length with %%\\nsystems size $L\\times L$. %% 20.07.07 OM %% Exploring systems up to L=320 we\\nyield $d_f=1.274(2)$ for the case of Gaussian disorder, i.e. a much higher\\naccuracy compared to previous studies. For the case of bimodal disorder, where\\nmany equivalent domain walls exist due to the degeneracy of this model, we\\nobtain a true lower bound $d_f=1.095(2)$ and a (lower) estimate $d_f=1.395(3)$\\nas upper bound. Furthermore, we study the distributions of the domain-wall\\nlengths. Their scaling with system size can be described also only by the\\nexponent $d_f$, i.e. the distributions are monofractal. Finally, we investigate\\nthe growth of the domain-wall width with system size (``roughness'') and find a\\nlinear behavior.\\n\n",
       "2004                                                                                                                                                                                                                                                                                                                                                                                                                                                                                                                                                                                                                                                                                                                                                                                                                         Let $\\mathfrak a$ denote an ideal of a local ring $(R, \\mathfrak m).$ Let $M$\\nbe a finitely generated $R$-module. There is a systematic study of the formal\\ncohomology modules $\\varprojlim \\HH^i(M/\\mathfrak a^nM), i \\in \\mathbb Z.$ We\\nanalyze their $R$-module structure, the upper and lower vanishing and\\nnon-vanishing in terms of intrinsic data of $M,$ and its functorial behavior.\\nThese cohomology modules occur in relation to the formal completion of the\\npunctured spectrum $\\Spec R \\setminus V(\\mathfrak m).$ As a new cohomological\\ndata there is a description on the formal grade $\\fgrade(\\mathfrak a, M)$\\ndefined as the minimal non-vanishing of the formal cohomology modules. There\\nare various exact sequences concerning the formal cohomology modules. Among\\nthem a Mayer-Vietoris sequence for two ideals. It applies to new connectedness\\nresults. There are also relations to local cohomological dimensions.\\n\n",
       "2005                                                                                                                                                                                                                                                                                                                                                                                                                                                                                                                                                                                                                                                                                                                                                                                                                                                                                                                                                                                                                                                                                                                                                                                                                                                                                                                      We consider two quantum coherent conductors interacting weakly via long range\\nCoulomb forces. We describe the interaction in terms of two-particle collisions\\ndescribed by a two-particle scattering matrix. As an example we determine the\\ntransmission probability and correlations in a two-particle scattering\\nexperiment and find that the results can be expressed in terms of the\\ndensity-of-states matrices of the non-interacting scatterers.\\n\n",
       "2006                                                                                                                                                                                                                                                                                                                                                                                                                                                                                                                                                                                                                                                                                                                                                                                                                                                                                                                                                                                                                                                                                                                                                                                   Let $(R, \\mathfrak m)$ denote an $n$-dimensional Gorenstein ring. For an\\nideal $I \\subset R$ of height $c$ we are interested in the endomorphism ring $B\\n= \\Hom_R(H^c_I(R), H^c_I(R)).$ It turns out that $B$ is a commutative ring. In\\nthe case of $(R,\\mathfrak m)$ a regular local ring containing a field $B$ is a\\nCohen-Macaulay ring. Its properties are related to the highest Lyubeznik number\\n$l = \\dim_k \\Ext_R^d(k,H^c_I(R)).$ In particular $R \\simeq B$ if and only if $l\\n= 1.$ Moreover, we show that the natural homomorphism $\\Ext_R^d(k, H^c_I(R))\\n\\to k$ is non-zero.\\n\n",
       "2007                                                                                                                                                                                                                                                                                                                                                                                                                                                                                                                                                                                                                                                                                                                                                                                                                                                                                                                                                                                                                                                             The analysis of databases of photographic images of the Sun (obtained in\\nregion of soft x-ray) by means of a method of multilevel dynamical contrasting,\\nhas shown presence of skeletal structures of the Sun as outside (chromo-sphere\\nflashes and powerful coronal mass ejections) and on the Sun (structures in its\\natmosphere, protuberances and of solar a stains). Moreover the structures which\\nradius of rotation is less than radius of a solar disk on breadth of their\\nobservation have been revealed. On the basis of the obtained results of this\\nanalysis, the author puts forward a hypothesis about an opportunity of\\nexistence of some filamentary matter as inside, so outside of the Sun.\\n\n",
       "2008                                                                                                                                                                                                                                                                                                                                                                                                                                                                                                                                                                                                                                                                                                                                                                                                                                                                                                                                                                                                                                                                                                                                                                                                                                                                                                                                                                                                                                     Virasoro constraints for orbifold Gromov-Witten theory are described. These\\nconstraints are applied to the degree zreo, genus zero orbifold Gromov-Witten\\npotentials of the weighted projective stacks $\\mathbb{P}(1,N)$,\\n$\\mathbb{P}(1,1,N)$ and $\\mathbb{P}(1,1,1,N)$ to obtain formulas of descendant\\ncyclic Hurwitz-Hodge integrals.\\n\n",
       "2009                                                                                               Motivation: Profile hidden Markov Models (pHMMs) are a popular and very\\nuseful tool in the detection of the remote homologue protein families.\\nUnfortunately, their performance is not always satisfactory when proteins are\\nin the 'twilight zone'. We present HMMER-STRUCT, a model construction algorithm\\nand tool that tries to improve pHMM performance by using structural information\\nwhile training pHMMs. As a first step, HMMER-STRUCT constructs a set of pHMMs.\\nEach pHMM is constructed by weighting each residue in an aligned protein\\naccording to a specific structural property of the residue. Properties used\\nwere primary, secondary and tertiary structures, accessibility and packing.\\nHMMER-STRUCT then prioritizes the results by voting. Results: We used the SCOP\\ndatabase to perform our experiments. Throughout, we apply leave-one-family-out\\ncross-validation over protein superfamilies. First, we used the MAMMOTH-mult\\nstructural aligner to align the training set proteins. Then, we performed two\\nsets of experiments. In a first experiment, we compared structure weighted\\nmodels against standard pHMMs and against each other. In a second experiment,\\nwe compared the voting model against individual pHMMs. We compare method\\nperformance through ROC curves and through Precision/Recall curves, and assess\\nsignificance through the paired two tailed t-test. Our results show significant\\nperformance improvements of all structurally weighted models over default\\nHMMER, and a significant improvement in sensitivity of the combined models over\\nboth the original model and the structurally weighted models.\\n"
      ]
     },
     "execution_count": 16,
     "metadata": {},
     "output_type": "execute_result"
    }
   ],
   "source": [
    "pd.set_option('display.max_colwidth', None)\n",
    "first_chunk = next(chunks)\n",
    "first_chunk = first_chunk[[\"abstract\"]]\n",
    "first_chunk.head(10)"
   ]
  },
  {
   "cell_type": "markdown",
   "id": "4ce004c5-bed1-4478-aba6-a73c9b0db8f4",
   "metadata": {},
   "source": [
    "Looking at the abstract content it can be seen that it contains a lot of scientific notation and formulas which the model needs to handle well.\n",
    "Since BERT was pre-trained on the Wikipedia corpus which already contains such formulas, it could be that it understands such text well enough and fine-tuning it additionally on this data would learn the patterns.\n",
    "This can be handled in a variety of ways like:\n",
    "* Cleaning the data - i.e. looking for scientific notation and replacing it with \"[FORMULA]\" or something similar - however that would lose the information in the formula which would be useful to distinguish if it's Physics, Maths or ML related.\n",
    "* Fine-tuning a custom tokenizer - this is the approach SciBERT takes in order to better work with scientific notations by using a vocabulary which better splits scientific input terms into tokens as opposed to the default WordPiece tokenizer.\n",
    "  As noted by their [paper](https://kyleclo.com/assets/pdf/scibert-a-pretrained-language-model-for-scientific-text.pdf) `SCIVOCAB, a new\n",
    "  WordPiece vocabulary on our scientific corpus using the SentencePiece library... the vocabulary size is 30K to match the size of\n",
    "  BASEVOCAB. The resulting token overlap between BASEVOCAB and SCIVOCAB is 42%, illustrating a substantial difference in frequently used\n",
    "  words between scientific and general domain texts`.  \n",
    "  Going down this route has the disadvantage that training a custom tokenizer would likely require retraining the BERT model almost from scratch, as its input_ids would change and thus the old model weights might not be applicable at all. This would make less use of the BERT pre-training and would be more data hungry, so could lead to worse results despite the more suitable vocabulary to the task.\n",
    "* A less destructive idea could be to only extend the existing dictionary without modifying current entries using\n",
    "  ```\n",
    "  tokenizer.add_tokens(['newWord', 'newWord2'])\n",
    "  model.resize_token_embeddings(len(tokenizer))\n",
    "  ```\n",
    "  Then use the dataset to fine-tune the weights of the new tokens in the embedding layer. Deciding on good tokens to include based on the dataset would not be a trivial task.\n",
    "* Fine-tune BERT first using Masked Language Modelling on the unlabeled abstract text as in https://discuss.huggingface.co/t/fine-tuning-bert-model-on-domain-specific-language-and-for-classification/3106, and then fine-tune again the resulting model for the multi-label classification task. It's expected that this can make the model better understand the domain-specific language, but it's unclear how much this would practically improve the results. I can try both approaches if time permits to compare results."
   ]
  },
  {
   "cell_type": "code",
   "execution_count": 21,
   "id": "61c284c5-0771-488d-ab60-b6a22d7a777e",
   "metadata": {},
   "outputs": [
    {
     "data": {
      "text/plain": [
       "'  Let $(R, \\\\mathfrak m)$ denote an $n$-dimensional Gorenstein ring. For an\\nideal $I \\\\subset R$ of height $c$ we are interested in the endomorphism ring $B\\n= \\\\Hom_R(H^c_I(R), H^c_I(R)).$ It turns out that $B$ is a commutative ring. In\\nthe case of $(R,\\\\mathfrak m)$ a regular local ring containing a field $B$ is a\\nCohen-Macaulay ring. Its properties are related to the highest Lyubeznik number\\n$l = \\\\dim_k \\\\Ext_R^d(k,H^c_I(R)).$ In particular $R \\\\simeq B$ if and only if $l\\n= 1.$ Moreover, we show that the natural homomorphism $\\\\Ext_R^d(k, H^c_I(R))\\n\\\\to k$ is non-zero.\\n'"
      ]
     },
     "execution_count": 21,
     "metadata": {},
     "output_type": "execute_result"
    }
   ],
   "source": [
    "first_chunk['abstract'][2006]"
   ]
  },
  {
   "cell_type": "code",
   "execution_count": 24,
   "id": "bf39a544-468e-4079-b829-81a67ba1340f",
   "metadata": {},
   "outputs": [
    {
     "data": {
      "text/plain": [
       "['[CLS]',\n",
       " 'Let',\n",
       " '$',\n",
       " '(',\n",
       " 'R',\n",
       " ',',\n",
       " '\\\\',\n",
       " 'math',\n",
       " '##fra',\n",
       " '##k',\n",
       " 'm',\n",
       " ')',\n",
       " '$',\n",
       " 'denote',\n",
       " 'an',\n",
       " '$',\n",
       " 'n',\n",
       " '$',\n",
       " '-',\n",
       " 'dimensional',\n",
       " 'Gore',\n",
       " '##nstein',\n",
       " 'ring',\n",
       " '.',\n",
       " 'For',\n",
       " 'an',\n",
       " 'ideal',\n",
       " '$',\n",
       " 'I',\n",
       " '\\\\',\n",
       " 'subset',\n",
       " 'R',\n",
       " '$',\n",
       " 'of',\n",
       " 'height',\n",
       " '$',\n",
       " 'c',\n",
       " '$',\n",
       " 'we',\n",
       " 'are',\n",
       " 'interested',\n",
       " 'in',\n",
       " 'the',\n",
       " 'end',\n",
       " '##omo',\n",
       " '##rp',\n",
       " '##hism',\n",
       " 'ring',\n",
       " '$',\n",
       " 'B',\n",
       " '=',\n",
       " '\\\\',\n",
       " 'Ho',\n",
       " '##m',\n",
       " '_',\n",
       " 'R',\n",
       " '(',\n",
       " 'H',\n",
       " '^',\n",
       " 'c',\n",
       " '_',\n",
       " 'I',\n",
       " '(',\n",
       " 'R',\n",
       " ')',\n",
       " ',',\n",
       " 'H',\n",
       " '^',\n",
       " 'c',\n",
       " '_',\n",
       " 'I',\n",
       " '(',\n",
       " 'R',\n",
       " ')',\n",
       " ')',\n",
       " '.',\n",
       " '$',\n",
       " 'It',\n",
       " 'turns',\n",
       " 'out',\n",
       " 'that',\n",
       " '$',\n",
       " 'B',\n",
       " '$',\n",
       " 'is',\n",
       " 'a',\n",
       " 'com',\n",
       " '##mu',\n",
       " '##tative',\n",
       " 'ring',\n",
       " '.',\n",
       " 'In',\n",
       " 'the',\n",
       " 'case',\n",
       " 'of',\n",
       " '$',\n",
       " '(',\n",
       " 'R',\n",
       " ',',\n",
       " '\\\\',\n",
       " 'math',\n",
       " '##fra',\n",
       " '##k',\n",
       " 'm',\n",
       " ')',\n",
       " '$',\n",
       " 'a',\n",
       " 'regular',\n",
       " 'local',\n",
       " 'ring',\n",
       " 'containing',\n",
       " 'a',\n",
       " 'field',\n",
       " '$',\n",
       " 'B',\n",
       " '$',\n",
       " 'is',\n",
       " 'a',\n",
       " 'Cohen',\n",
       " '-',\n",
       " 'Macau',\n",
       " '##lay',\n",
       " 'ring',\n",
       " '.',\n",
       " 'Its',\n",
       " 'properties',\n",
       " 'are',\n",
       " 'related',\n",
       " 'to',\n",
       " 'the',\n",
       " 'highest',\n",
       " 'L',\n",
       " '##yu',\n",
       " '##be',\n",
       " '##z',\n",
       " '##nik',\n",
       " 'number',\n",
       " '$',\n",
       " 'l',\n",
       " '=',\n",
       " '\\\\',\n",
       " 'dim',\n",
       " '_',\n",
       " 'k',\n",
       " '\\\\',\n",
       " 'Ex',\n",
       " '##t',\n",
       " '_',\n",
       " 'R',\n",
       " '^',\n",
       " 'd',\n",
       " '(',\n",
       " 'k',\n",
       " ',',\n",
       " 'H',\n",
       " '^',\n",
       " 'c',\n",
       " '_',\n",
       " 'I',\n",
       " '(',\n",
       " 'R',\n",
       " ')',\n",
       " ')',\n",
       " '.',\n",
       " '$',\n",
       " 'In',\n",
       " 'particular',\n",
       " '$',\n",
       " 'R',\n",
       " '\\\\',\n",
       " 'si',\n",
       " '##me',\n",
       " '##q',\n",
       " 'B',\n",
       " '$',\n",
       " 'if',\n",
       " 'and',\n",
       " 'only',\n",
       " 'if',\n",
       " '$',\n",
       " 'l',\n",
       " '=',\n",
       " '1',\n",
       " '.',\n",
       " '$',\n",
       " 'Moreover',\n",
       " ',',\n",
       " 'we',\n",
       " 'show',\n",
       " 'that',\n",
       " 'the',\n",
       " 'natural',\n",
       " 'ho',\n",
       " '##mo',\n",
       " '##mor',\n",
       " '##phism',\n",
       " '$',\n",
       " '\\\\',\n",
       " 'Ex',\n",
       " '##t',\n",
       " '_',\n",
       " 'R',\n",
       " '^',\n",
       " 'd',\n",
       " '(',\n",
       " 'k',\n",
       " ',',\n",
       " 'H',\n",
       " '^',\n",
       " 'c',\n",
       " '_',\n",
       " 'I',\n",
       " '(',\n",
       " 'R',\n",
       " ')',\n",
       " ')',\n",
       " '\\\\',\n",
       " 'to',\n",
       " 'k',\n",
       " '$',\n",
       " 'is',\n",
       " 'non',\n",
       " '-',\n",
       " 'zero',\n",
       " '.',\n",
       " '[SEP]']"
      ]
     },
     "execution_count": 24,
     "metadata": {},
     "output_type": "execute_result"
    }
   ],
   "source": [
    "tokenized = tokenizer(first_chunk['abstract'][2006])\n",
    "tokenizer.convert_ids_to_tokens(tokenized['input_ids'])"
   ]
  },
  {
   "cell_type": "markdown",
   "id": "83344e15-d375-4b51-8975-c6ebc65a7bdf",
   "metadata": {},
   "source": [
    "Trying out a formula-rich sample it can be seen that the default tokenizer splits the notations into mostly one-character sequences."
   ]
  },
  {
   "cell_type": "code",
   "execution_count": 25,
   "id": "ea7aa348-f2d0-4dc6-b83c-b7d965cc2d59",
   "metadata": {},
   "outputs": [
    {
     "name": "stderr",
     "output_type": "stream",
     "text": [
      "huggingface/tokenizers: The current process just got forked, after parallelism has already been used. Disabling parallelism to avoid deadlocks...\n",
      "To disable this warning, you can either:\n",
      "\t- Avoid using `tokenizers` before the fork if possible\n",
      "\t- Explicitly set the environment variable TOKENIZERS_PARALLELISM=(true | false)\n"
     ]
    },
    {
     "data": {
      "application/vnd.jupyter.widget-view+json": {
       "model_id": "5442b881b9314b5495222405d16aedc8",
       "version_major": 2,
       "version_minor": 0
      },
      "text/plain": [
       "config.json:   0%|          | 0.00/385 [00:00<?, ?B/s]"
      ]
     },
     "metadata": {},
     "output_type": "display_data"
    },
    {
     "data": {
      "application/vnd.jupyter.widget-view+json": {
       "model_id": "fcde72e4c0bd455b8bf7bb5e2e75abc8",
       "version_major": 2,
       "version_minor": 0
      },
      "text/plain": [
       "vocab.txt:   0%|          | 0.00/222k [00:00<?, ?B/s]"
      ]
     },
     "metadata": {},
     "output_type": "display_data"
    }
   ],
   "source": [
    "scibert_tokenizer = AutoTokenizer.from_pretrained('allenai/scibert_scivocab_cased')"
   ]
  },
  {
   "cell_type": "code",
   "execution_count": 26,
   "id": "25d79cae-8469-47e8-99e9-2e5d0d67bb08",
   "metadata": {},
   "outputs": [],
   "source": [
    "sci_tokenized = scibert_tokenizer(first_chunk['abstract'][2006])"
   ]
  },
  {
   "cell_type": "code",
   "execution_count": 29,
   "id": "bd1e1b41-6bc0-43ba-9ae9-901a2979ab9c",
   "metadata": {},
   "outputs": [
    {
     "data": {
      "text/plain": [
       "['[CLS]',\n",
       " 'let',\n",
       " '$',\n",
       " '(',\n",
       " 'r',\n",
       " ',',\n",
       " '\\\\',\n",
       " 'math',\n",
       " '##fr',\n",
       " '##ak',\n",
       " 'm',\n",
       " ')',\n",
       " '$',\n",
       " 'denote',\n",
       " 'an',\n",
       " '$',\n",
       " 'n',\n",
       " '$',\n",
       " '-',\n",
       " 'dimensional',\n",
       " 'go',\n",
       " '##ren',\n",
       " '##stein',\n",
       " 'ring',\n",
       " '.',\n",
       " 'for',\n",
       " 'an',\n",
       " 'ideal',\n",
       " '$',\n",
       " 'i',\n",
       " '\\\\',\n",
       " 'subset',\n",
       " 'r',\n",
       " '$',\n",
       " 'of',\n",
       " 'height',\n",
       " '$',\n",
       " 'c',\n",
       " '$',\n",
       " 'we',\n",
       " 'are',\n",
       " 'interested',\n",
       " 'in',\n",
       " 'the',\n",
       " 'end',\n",
       " '##omorphism',\n",
       " 'ring',\n",
       " '$',\n",
       " 'b',\n",
       " '=',\n",
       " '\\\\',\n",
       " 'hom',\n",
       " '_',\n",
       " 'r',\n",
       " '(',\n",
       " 'h',\n",
       " '^',\n",
       " 'c',\n",
       " '_',\n",
       " 'i',\n",
       " '(',\n",
       " 'r',\n",
       " ')',\n",
       " ',',\n",
       " 'h',\n",
       " '^',\n",
       " 'c',\n",
       " '_',\n",
       " 'i',\n",
       " '(',\n",
       " 'r',\n",
       " ')',\n",
       " ')',\n",
       " '.',\n",
       " '$',\n",
       " 'it',\n",
       " 'turns',\n",
       " 'out',\n",
       " 'that',\n",
       " '$',\n",
       " 'b',\n",
       " '$',\n",
       " 'is',\n",
       " 'a',\n",
       " 'commutative',\n",
       " 'ring',\n",
       " '.',\n",
       " 'in',\n",
       " 'the',\n",
       " 'case',\n",
       " 'of',\n",
       " '$',\n",
       " '(',\n",
       " 'r',\n",
       " ',',\n",
       " '\\\\',\n",
       " 'math',\n",
       " '##fr',\n",
       " '##ak',\n",
       " 'm',\n",
       " ')',\n",
       " '$',\n",
       " 'a',\n",
       " 'regular',\n",
       " 'local',\n",
       " 'ring',\n",
       " 'containing',\n",
       " 'a',\n",
       " 'field',\n",
       " '$',\n",
       " 'b',\n",
       " '$',\n",
       " 'is',\n",
       " 'a',\n",
       " 'cohe',\n",
       " '##n',\n",
       " '-',\n",
       " 'mac',\n",
       " '##au',\n",
       " '##lay',\n",
       " 'ring',\n",
       " '.',\n",
       " 'its',\n",
       " 'properties',\n",
       " 'are',\n",
       " 'related',\n",
       " 'to',\n",
       " 'the',\n",
       " 'highest',\n",
       " 'ly',\n",
       " '##ube',\n",
       " '##zn',\n",
       " '##ik',\n",
       " 'number',\n",
       " '$',\n",
       " 'l',\n",
       " '=',\n",
       " '\\\\',\n",
       " 'dim',\n",
       " '_',\n",
       " 'k',\n",
       " '\\\\',\n",
       " 'ext',\n",
       " '_',\n",
       " 'r',\n",
       " '^',\n",
       " 'd',\n",
       " '(',\n",
       " 'k',\n",
       " ',',\n",
       " 'h',\n",
       " '^',\n",
       " 'c',\n",
       " '_',\n",
       " 'i',\n",
       " '(',\n",
       " 'r',\n",
       " ')',\n",
       " ')',\n",
       " '.',\n",
       " '$',\n",
       " 'in',\n",
       " 'particular',\n",
       " '$',\n",
       " 'r',\n",
       " '\\\\',\n",
       " 'sim',\n",
       " '##eq',\n",
       " 'b',\n",
       " '$',\n",
       " 'if',\n",
       " 'and',\n",
       " 'only',\n",
       " 'if',\n",
       " '$',\n",
       " 'l',\n",
       " '=',\n",
       " '1',\n",
       " '.',\n",
       " '$',\n",
       " 'moreover',\n",
       " ',',\n",
       " 'we',\n",
       " 'show',\n",
       " 'that',\n",
       " 'the',\n",
       " 'natural',\n",
       " 'homomorphism',\n",
       " '$',\n",
       " '\\\\',\n",
       " 'ext',\n",
       " '_',\n",
       " 'r',\n",
       " '^',\n",
       " 'd',\n",
       " '(',\n",
       " 'k',\n",
       " ',',\n",
       " 'h',\n",
       " '^',\n",
       " 'c',\n",
       " '_',\n",
       " 'i',\n",
       " '(',\n",
       " 'r',\n",
       " ')',\n",
       " ')',\n",
       " '\\\\',\n",
       " 'to',\n",
       " 'k',\n",
       " '$',\n",
       " 'is',\n",
       " 'non',\n",
       " '-',\n",
       " 'zero',\n",
       " '.',\n",
       " '[SEP]']"
      ]
     },
     "execution_count": 29,
     "metadata": {},
     "output_type": "execute_result"
    }
   ],
   "source": [
    "scibert_tokenizer.convert_ids_to_tokens(sci_tokenized['input_ids'])"
   ]
  },
  {
   "cell_type": "code",
   "execution_count": 31,
   "id": "450f144e-d6cd-40f2-8b67-cb3342d7d6f9",
   "metadata": {},
   "outputs": [
    {
     "data": {
      "text/plain": [
       "217"
      ]
     },
     "execution_count": 31,
     "metadata": {},
     "output_type": "execute_result"
    }
   ],
   "source": [
    "len(sci_tokenized['input_ids'])"
   ]
  },
  {
   "cell_type": "code",
   "execution_count": 32,
   "id": "9b3e510e-54cb-4176-b662-c227194ced42",
   "metadata": {},
   "outputs": [
    {
     "data": {
      "text/plain": [
       "226"
      ]
     },
     "execution_count": 32,
     "metadata": {},
     "output_type": "execute_result"
    }
   ],
   "source": [
    "len(tokenized['input_ids'])"
   ]
  },
  {
   "cell_type": "markdown",
   "id": "e1dc8dd8-56f6-4bdb-9faf-ae19d3c509f5",
   "metadata": {},
   "source": [
    "The differences between the two tokenizers is only 9 additional tokens for this notation-heavy text, so probably the current one is good enough."
   ]
  },
  {
   "cell_type": "code",
   "execution_count": 40,
   "id": "d0134b7c-5cd6-4965-b81a-8e7ea6ccd8a4",
   "metadata": {},
   "outputs": [
    {
     "data": {
      "text/plain": [
       "'/Users/bbagaliyska/Projects/learning/ai/iristask/research-classifier/research_classifier/analysis'"
      ]
     },
     "execution_count": 40,
     "metadata": {},
     "output_type": "execute_result"
    }
   ],
   "source": [
    "%pwd"
   ]
  },
  {
   "cell_type": "code",
   "execution_count": 41,
   "id": "6a0574a7-860f-49c5-ba75-24f8c2207293",
   "metadata": {},
   "outputs": [
    {
     "name": "stdout",
     "output_type": "stream",
     "text": [
      "/Users/bbagaliyska/Projects/learning/ai/iristask/research-classifier\n"
     ]
    },
    {
     "name": "stderr",
     "output_type": "stream",
     "text": [
      "/Users/bbagaliyska/Projects/learning/ai/iristask/research-classifier/.conda/lib/python3.11/site-packages/IPython/core/magics/osm.py:417: UserWarning: This is now an optional IPython functionality, setting dhist requires you to install the `pickleshare` library.\n",
      "  self.shell.db['dhist'] = compress_dhist(dhist)[-100:]\n"
     ]
    }
   ],
   "source": [
    "%cd ../../"
   ]
  },
  {
   "cell_type": "code",
   "execution_count": 42,
   "id": "067fd07d-f9f3-4346-9fa8-ffcc78f6c159",
   "metadata": {},
   "outputs": [
    {
     "data": {
      "text/plain": [
       "'/Users/bbagaliyska/Projects/learning/ai/iristask/research-classifier'"
      ]
     },
     "execution_count": 42,
     "metadata": {},
     "output_type": "execute_result"
    }
   ],
   "source": [
    "%pwd"
   ]
  },
  {
   "cell_type": "code",
   "execution_count": 43,
   "id": "1c081786-8634-4143-a4d0-17af2cc1a92e",
   "metadata": {},
   "outputs": [
    {
     "name": "stderr",
     "output_type": "stream",
     "text": [
      "huggingface/tokenizers: The current process just got forked, after parallelism has already been used. Disabling parallelism to avoid deadlocks...\n",
      "To disable this warning, you can either:\n",
      "\t- Avoid using `tokenizers` before the fork if possible\n",
      "\t- Explicitly set the environment variable TOKENIZERS_PARALLELISM=(true | false)\n"
     ]
    },
    {
     "name": "stdout",
     "output_type": "stream",
     "text": [
      "Looking in indexes: https://pypi.org/simple, https://build-artifactory.eng.vmware.com/api/pypi/symphony-pypi-local/simple\n",
      "Obtaining file:///Users/bbagaliyska/Projects/learning/ai/iristask/research-classifier\n",
      "  Preparing metadata (setup.py) ... \u001b[?25ldone\n",
      "\u001b[?25hRequirement already satisfied: torch>=2.0.0 in ./.conda/lib/python3.11/site-packages (from research_classifier==0.1) (2.5.1)\n",
      "Requirement already satisfied: transformers>=4.30.0 in ./.conda/lib/python3.11/site-packages (from research_classifier==0.1) (4.47.1)\n",
      "Requirement already satisfied: datasets>=2.0.0 in ./.conda/lib/python3.11/site-packages (from research_classifier==0.1) (3.2.0)\n",
      "Requirement already satisfied: numpy>=1.20.0 in ./.conda/lib/python3.11/site-packages (from research_classifier==0.1) (1.26.4)\n",
      "Requirement already satisfied: filelock in ./.conda/lib/python3.11/site-packages (from datasets>=2.0.0->research_classifier==0.1) (3.13.1)\n",
      "Requirement already satisfied: pyarrow>=15.0.0 in ./.conda/lib/python3.11/site-packages (from datasets>=2.0.0->research_classifier==0.1) (17.0.0)\n",
      "Requirement already satisfied: dill<0.3.9,>=0.3.0 in ./.conda/lib/python3.11/site-packages (from datasets>=2.0.0->research_classifier==0.1) (0.3.8)\n",
      "Requirement already satisfied: pandas in ./.conda/lib/python3.11/site-packages (from datasets>=2.0.0->research_classifier==0.1) (2.2.3)\n",
      "Requirement already satisfied: requests>=2.32.2 in ./.conda/lib/python3.11/site-packages (from datasets>=2.0.0->research_classifier==0.1) (2.32.3)\n",
      "Requirement already satisfied: tqdm>=4.66.3 in ./.conda/lib/python3.11/site-packages (from datasets>=2.0.0->research_classifier==0.1) (4.66.5)\n",
      "Requirement already satisfied: xxhash in ./.conda/lib/python3.11/site-packages (from datasets>=2.0.0->research_classifier==0.1) (2.0.2)\n",
      "Requirement already satisfied: multiprocess<0.70.17 in ./.conda/lib/python3.11/site-packages (from datasets>=2.0.0->research_classifier==0.1) (0.70.15)\n",
      "Requirement already satisfied: fsspec<=2024.9.0,>=2023.1.0 in ./.conda/lib/python3.11/site-packages (from fsspec[http]<=2024.9.0,>=2023.1.0->datasets>=2.0.0->research_classifier==0.1) (2024.3.1)\n",
      "Requirement already satisfied: aiohttp in ./.conda/lib/python3.11/site-packages (from datasets>=2.0.0->research_classifier==0.1) (3.11.10)\n",
      "Requirement already satisfied: huggingface-hub>=0.23.0 in ./.conda/lib/python3.11/site-packages (from datasets>=2.0.0->research_classifier==0.1) (0.24.6)\n",
      "Requirement already satisfied: packaging in ./.conda/lib/python3.11/site-packages (from datasets>=2.0.0->research_classifier==0.1) (24.2)\n",
      "Requirement already satisfied: pyyaml>=5.1 in ./.conda/lib/python3.11/site-packages (from datasets>=2.0.0->research_classifier==0.1) (6.0.2)\n",
      "Requirement already satisfied: typing-extensions>=4.8.0 in ./.conda/lib/python3.11/site-packages (from torch>=2.0.0->research_classifier==0.1) (4.12.2)\n",
      "\u001b[33mWARNING: Retrying (Retry(total=4, connect=None, read=None, redirect=None, status=None)) after connection broken by 'NewConnectionError('<pip._vendor.urllib3.connection.HTTPSConnection object at 0x1073fe090>: Failed to establish a new connection: [Errno 8] nodename nor servname provided, or not known')': /api/pypi/symphony-pypi-local/simple/sympy/\u001b[0m\u001b[33m\n",
      "\u001b[0m\u001b[33mWARNING: Retrying (Retry(total=3, connect=None, read=None, redirect=None, status=None)) after connection broken by 'NewConnectionError('<pip._vendor.urllib3.connection.HTTPSConnection object at 0x1073fe790>: Failed to establish a new connection: [Errno 8] nodename nor servname provided, or not known')': /api/pypi/symphony-pypi-local/simple/sympy/\u001b[0m\u001b[33m\n",
      "\u001b[0m\u001b[33mWARNING: Retrying (Retry(total=2, connect=None, read=None, redirect=None, status=None)) after connection broken by 'NewConnectionError('<pip._vendor.urllib3.connection.HTTPSConnection object at 0x1073ff090>: Failed to establish a new connection: [Errno 8] nodename nor servname provided, or not known')': /api/pypi/symphony-pypi-local/simple/sympy/\u001b[0m\u001b[33m\n",
      "\u001b[0m\u001b[33mWARNING: Retrying (Retry(total=1, connect=None, read=None, redirect=None, status=None)) after connection broken by 'NewConnectionError('<pip._vendor.urllib3.connection.HTTPSConnection object at 0x1073ff890>: Failed to establish a new connection: [Errno 8] nodename nor servname provided, or not known')': /api/pypi/symphony-pypi-local/simple/sympy/\u001b[0m\u001b[33m\n",
      "\u001b[0m\u001b[33mWARNING: Retrying (Retry(total=0, connect=None, read=None, redirect=None, status=None)) after connection broken by 'NewConnectionError('<pip._vendor.urllib3.connection.HTTPSConnection object at 0x1076000d0>: Failed to establish a new connection: [Errno 8] nodename nor servname provided, or not known')': /api/pypi/symphony-pypi-local/simple/sympy/\u001b[0m\u001b[33m\n",
      "\u001b[0mCollecting sympy==1.13.1 (from torch>=2.0.0->research_classifier==0.1)\n",
      "  Downloading sympy-1.13.1-py3-none-any.whl.metadata (12 kB)\n",
      "Requirement already satisfied: networkx in ./.conda/lib/python3.11/site-packages (from torch>=2.0.0->research_classifier==0.1) (3.3)\n",
      "Requirement already satisfied: jinja2 in ./.conda/lib/python3.11/site-packages (from torch>=2.0.0->research_classifier==0.1) (3.1.4)\n",
      "Requirement already satisfied: mpmath<1.4,>=1.1.0 in ./.conda/lib/python3.11/site-packages (from sympy==1.13.1->torch>=2.0.0->research_classifier==0.1) (1.3.0)\n",
      "Requirement already satisfied: regex!=2019.12.17 in ./.conda/lib/python3.11/site-packages (from transformers>=4.30.0->research_classifier==0.1) (2024.9.11)\n",
      "Requirement already satisfied: tokenizers<0.22,>=0.21 in ./.conda/lib/python3.11/site-packages (from transformers>=4.30.0->research_classifier==0.1) (0.21.0)\n",
      "Requirement already satisfied: safetensors>=0.4.1 in ./.conda/lib/python3.11/site-packages (from transformers>=4.30.0->research_classifier==0.1) (0.4.5)\n",
      "Requirement already satisfied: aiohappyeyeballs>=2.3.0 in ./.conda/lib/python3.11/site-packages (from aiohttp->datasets>=2.0.0->research_classifier==0.1) (2.4.4)\n",
      "Requirement already satisfied: aiosignal>=1.1.2 in ./.conda/lib/python3.11/site-packages (from aiohttp->datasets>=2.0.0->research_classifier==0.1) (1.2.0)\n",
      "Requirement already satisfied: attrs>=17.3.0 in ./.conda/lib/python3.11/site-packages (from aiohttp->datasets>=2.0.0->research_classifier==0.1) (24.3.0)\n",
      "Requirement already satisfied: frozenlist>=1.1.1 in ./.conda/lib/python3.11/site-packages (from aiohttp->datasets>=2.0.0->research_classifier==0.1) (1.5.0)\n",
      "Requirement already satisfied: multidict<7.0,>=4.5 in ./.conda/lib/python3.11/site-packages (from aiohttp->datasets>=2.0.0->research_classifier==0.1) (6.1.0)\n",
      "Requirement already satisfied: propcache>=0.2.0 in ./.conda/lib/python3.11/site-packages (from aiohttp->datasets>=2.0.0->research_classifier==0.1) (0.2.0)\n",
      "Requirement already satisfied: yarl<2.0,>=1.17.0 in ./.conda/lib/python3.11/site-packages (from aiohttp->datasets>=2.0.0->research_classifier==0.1) (1.18.0)\n",
      "Requirement already satisfied: charset-normalizer<4,>=2 in ./.conda/lib/python3.11/site-packages (from requests>=2.32.2->datasets>=2.0.0->research_classifier==0.1) (3.3.2)\n",
      "Requirement already satisfied: idna<4,>=2.5 in ./.conda/lib/python3.11/site-packages (from requests>=2.32.2->datasets>=2.0.0->research_classifier==0.1) (3.7)\n",
      "Requirement already satisfied: urllib3<3,>=1.21.1 in ./.conda/lib/python3.11/site-packages (from requests>=2.32.2->datasets>=2.0.0->research_classifier==0.1) (2.2.3)\n",
      "Requirement already satisfied: certifi>=2017.4.17 in ./.conda/lib/python3.11/site-packages (from requests>=2.32.2->datasets>=2.0.0->research_classifier==0.1) (2024.12.14)\n",
      "Requirement already satisfied: MarkupSafe>=2.0 in ./.conda/lib/python3.11/site-packages (from jinja2->torch>=2.0.0->research_classifier==0.1) (2.1.3)\n",
      "Requirement already satisfied: python-dateutil>=2.8.2 in ./.conda/lib/python3.11/site-packages (from pandas->datasets>=2.0.0->research_classifier==0.1) (2.9.0.post0)\n",
      "Requirement already satisfied: pytz>=2020.1 in ./.conda/lib/python3.11/site-packages (from pandas->datasets>=2.0.0->research_classifier==0.1) (2024.1)\n",
      "Requirement already satisfied: tzdata>=2022.7 in ./.conda/lib/python3.11/site-packages (from pandas->datasets>=2.0.0->research_classifier==0.1) (2023.3)\n",
      "Requirement already satisfied: six>=1.5 in ./.conda/lib/python3.11/site-packages (from python-dateutil>=2.8.2->pandas->datasets>=2.0.0->research_classifier==0.1) (1.16.0)\n",
      "Downloading sympy-1.13.1-py3-none-any.whl (6.2 MB)\n",
      "\u001b[2K   \u001b[38;2;114;156;31m━━━━━━━━━━━━━━━━━━━━━━━━━━━━━━━━━━━━━━━━\u001b[0m \u001b[32m6.2/6.2 MB\u001b[0m \u001b[31m24.1 MB/s\u001b[0m eta \u001b[36m0:00:00\u001b[0m MB/s\u001b[0m eta \u001b[36m0:00:01\u001b[0m\n",
      "\u001b[?25hInstalling collected packages: sympy, research_classifier\n",
      "  Attempting uninstall: sympy\n",
      "    Found existing installation: sympy 1.13.3\n",
      "    Uninstalling sympy-1.13.3:\n",
      "      Successfully uninstalled sympy-1.13.3\n",
      "  Attempting uninstall: research_classifier\n",
      "    Found existing installation: research_classifier 0.1\n",
      "    Uninstalling research_classifier-0.1:\n",
      "      Successfully uninstalled research_classifier-0.1\n",
      "\u001b[33m  DEPRECATION: Legacy editable install of research_classifier==0.1 from file:///Users/bbagaliyska/Projects/learning/ai/iristask/research-classifier (setup.py develop) is deprecated. pip 25.0 will enforce this behaviour change. A possible replacement is to add a pyproject.toml or enable --use-pep517, and use setuptools >= 64. If the resulting installation is not behaving as expected, try using --config-settings editable_mode=compat. Please consult the setuptools documentation for more information. Discussion can be found at https://github.com/pypa/pip/issues/11457\u001b[0m\u001b[33m\n",
      "\u001b[0m  Running setup.py develop for research_classifier\n",
      "Successfully installed research_classifier-0.1 sympy-1.13.1\n",
      "Note: you may need to restart the kernel to use updated packages.\n"
     ]
    }
   ],
   "source": [
    "pip install -e ."
   ]
  },
  {
   "cell_type": "markdown",
   "id": "0264d94c-6963-42a2-9eea-915830801166",
   "metadata": {},
   "source": [
    "What I observed after scraping categories from https://arxiv.org/category_taxonomy (refer to [scrape_categories.py](research_classifier/analysis/scrape_categories.py)) was that some of the categories in the dataset were not in the official ones listed by arxiv. After looking through papers from these categories I saw that all of them had a official category which was a synonym of its given one, so I created the following category map for these:"
   ]
  },
  {
   "cell_type": "code",
   "execution_count": 49,
   "id": "79f80d2a-c43a-41d1-b045-3b98fe699ee4",
   "metadata": {},
   "outputs": [],
   "source": [
    "category_map = {\n",
    "    \"cmp-lg\": \"cs.CL\",\n",
    "    \"funct-an\": \"math.FA\",\n",
    "    \"supr-con\": \"cond-mat.supr-con\",\n",
    "    \"bayes-an\": \"physics.data-an\",\n",
    "    \"acc-phys\": \"physics.acc-ph\",\n",
    "    \"comp-gas\": \"nlin.CG\",\n",
    "    \"adap-org\": \"nlin.AO\",\n",
    "    \"ao-sci\": \"physics.ao-ph\",\n",
    "    \"chem-ph\": \"physics.chem-ph\",\n",
    "    \"atom-ph\": \"physics.atom-ph\",\n",
    "    \"plasm-ph\": \"physics.plasm-ph\",\n",
    "    \"patt-sol\": \"nlin.PS\",\n",
    "    \"dg-ga\": \"math.DG\",\n",
    "    \"mtrl-th\": \"cond-mat.mtrl-sci\",\n",
    "}"
   ]
  },
  {
   "cell_type": "markdown",
   "id": "436df50c-c3f6-439b-9565-0a13ec8b8cec",
   "metadata": {},
   "source": [
    "It was interesting to note that 14/16 of the categories I was meaning to oversample fell in this set of wrong categories, so after remapping them to their official categories they were no longer dramatically misrepresented and the distribution changed to:"
   ]
  },
  {
   "cell_type": "code",
   "execution_count": 46,
   "id": "52202875-9ef9-4000-9fba-661a2990c229",
   "metadata": {},
   "outputs": [
    {
     "name": "stdout",
     "output_type": "stream",
     "text": [
      "/Users/bbagaliyska/Projects/learning/ai/iristask/research-classifier/research_classifier\n"
     ]
    }
   ],
   "source": [
    "%cd research_classifier"
   ]
  },
  {
   "cell_type": "code",
   "execution_count": 47,
   "id": "e4aacd6b-48d7-468f-84de-78de955d7559",
   "metadata": {},
   "outputs": [
    {
     "name": "stdout",
     "output_type": "stream",
     "text": [
      "/Users/bbagaliyska/Projects/learning/ai/iristask/research-classifier/research_classifier/preprocessing\n"
     ]
    }
   ],
   "source": [
    "%cd preprocessing"
   ]
  },
  {
   "cell_type": "code",
   "execution_count": 48,
   "id": "146cbf05-140b-49db-9cf9-293bb07643d7",
   "metadata": {},
   "outputs": [
    {
     "name": "stderr",
     "output_type": "stream",
     "text": [
      "huggingface/tokenizers: The current process just got forked, after parallelism has already been used. Disabling parallelism to avoid deadlocks...\n",
      "To disable this warning, you can either:\n",
      "\t- Avoid using `tokenizers` before the fork if possible\n",
      "\t- Explicitly set the environment variable TOKENIZERS_PARALLELISM=(true | false)\n"
     ]
    },
    {
     "name": "stdout",
     "output_type": "stream",
     "text": [
      "{'alg-geom': 1423, 'astro-ph': 105380, 'astro-ph.CO': 69766, 'astro-ph.EP': 30541, 'astro-ph.GA': 67426, 'astro-ph.HE': 60378, 'astro-ph.IM': 30694, 'astro-ph.SR': 62503, 'chao-dyn': 2398, 'cond-mat': 14215, 'cond-mat.dis-nn': 24343, 'cond-mat.mes-hall': 93149, 'cond-mat.mtrl-sci': 96388, 'cond-mat.other': 16030, 'cond-mat.quant-gas': 21953, 'cond-mat.soft': 41147, 'cond-mat.stat-mech': 75455, 'cond-mat.str-el': 76024, 'cond-mat.supr-con': 44295, 'cs.AI': 111006, 'cs.AR': 5676, 'cs.CC': 11289, 'cs.CE': 7958, 'cs.CG': 7137, 'cs.CL': 75251, 'cs.CR': 36719, 'cs.CV': 142631, 'cs.CY': 21058, 'cs.DB': 9414, 'cs.DC': 23226, 'cs.DL': 5132, 'cs.DM': 13936, 'cs.DS': 25285, 'cs.ET': 5111, 'cs.FL': 5197, 'cs.GL': 216, 'cs.GR': 6933, 'cs.GT': 12253, 'cs.HC': 20683, 'cs.IR': 19128, 'cs.IT': 48597, 'cs.LG': 200479, 'cs.LO': 16781, 'cs.MA': 8457, 'cs.MM': 7341, 'cs.MS': 2318, 'cs.NA': 26635, 'cs.NE': 15313, 'cs.NI': 23422, 'cs.OH': 2228, 'cs.OS': 994, 'cs.PF': 4205, 'cs.PL': 8250, 'cs.RO': 37442, 'cs.SC': 2682, 'cs.SD': 15896, 'cs.SE': 18691, 'cs.SI': 20830, 'cs.SY': 35135, 'econ.EM': 4034, 'econ.GN': 4646, 'econ.TH': 2747, 'eess.AS': 16954, 'eess.IV': 25714, 'eess.SP': 31046, 'eess.SY': 26916, 'gr-qc': 110976, 'hep-ex': 55301, 'hep-lat': 28559, 'hep-ph': 184375, 'hep-th': 170707, 'math-ph': 82161, 'math.AC': 13319, 'math.AG': 54186, 'math.AP': 65009, 'math.AT': 16203, 'math.CA': 22918, 'math.CO': 69047, 'math.CT': 8953, 'math.CV': 17574, 'math.DG': 43443, 'math.DS': 38231, 'math.FA': 32464, 'math.GM': 4157, 'math.GN': 5319, 'math.GR': 23028, 'math.GT': 23525, 'math.HO': 3750, 'math.IT': 48597, 'math.KT': 6079, 'math.LO': 13795, 'math.MG': 11605, 'math.MP': 82161, 'math.NA': 40444, 'math.NT': 43515, 'math.OA': 12972, 'math.OC': 51605, 'math.PR': 58432, 'math.QA': 19439, 'math.RA': 17978, 'math.RT': 27081, 'math.SG': 9346, 'math.SP': 10023, 'math.ST': 24117, 'nlin.AO': 7384, 'nlin.CD': 16052, 'nlin.CG': 1547, 'nlin.PS': 9994, 'nlin.SI': 12127, 'nucl-ex': 26432, 'nucl-th': 58502, 'physics.acc-ph': 8002, 'physics.ao-ph': 6993, 'physics.app-ph': 19726, 'physics.atm-clus': 2807, 'physics.atom-ph': 21844, 'physics.bio-ph': 15911, 'physics.chem-ph': 23575, 'physics.class-ph': 8736, 'physics.comp-ph': 24067, 'physics.data-an': 10767, 'physics.ed-ph': 4020, 'physics.flu-dyn': 29555, 'physics.gen-ph': 10431, 'physics.geo-ph': 7509, 'physics.hist-ph': 5078, 'physics.ins-det': 21810, 'physics.med-ph': 7452, 'physics.optics': 48798, 'physics.plasm-ph': 17413, 'physics.pop-ph': 2482, 'physics.soc-ph': 22796, 'physics.space-ph': 6757, 'q-alg': 1578, 'q-bio': 1356, 'q-bio.BM': 5927, 'q-bio.CB': 2236, 'q-bio.GN': 3301, 'q-bio.MN': 3821, 'q-bio.NC': 10126, 'q-bio.OT': 1338, 'q-bio.PE': 11767, 'q-bio.QM': 11104, 'q-bio.SC': 1718, 'q-bio.TO': 2359, 'q-fin.CP': 2628, 'q-fin.EC': 5210, 'q-fin.GN': 2731, 'q-fin.MF': 2702, 'q-fin.PM': 1977, 'q-fin.PR': 2014, 'q-fin.RM': 2420, 'q-fin.ST': 3764, 'q-fin.TR': 1869, 'quant-ph': 156240, 'solv-int': 1413, 'stat.AP': 19614, 'stat.CO': 8712, 'stat.ME': 28982, 'stat.ML': 68486, 'stat.OT': 1391, 'stat.TH': 24117}\n"
     ]
    }
   ],
   "source": [
    "!python categories.py"
   ]
  },
  {
   "cell_type": "code",
   "execution_count": 51,
   "id": "06a55a6d-4764-4a36-83fd-339a941e5338",
   "metadata": {},
   "outputs": [],
   "source": [
    "new_category_counts = {'alg-geom': 1423, 'astro-ph': 105380, 'astro-ph.CO': 69766, 'astro-ph.EP': 30541, 'astro-ph.GA': 67426, 'astro-ph.HE': 60378, 'astro-ph.IM': 30694, 'astro-ph.SR': 62503, 'chao-dyn': 2398, 'cond-mat': 14215, 'cond-mat.dis-nn': 24343, 'cond-mat.mes-hall': 93149, 'cond-mat.mtrl-sci': 96388, 'cond-mat.other': 16030, 'cond-mat.quant-gas': 21953, 'cond-mat.soft': 41147, 'cond-mat.stat-mech': 75455, 'cond-mat.str-el': 76024, 'cond-mat.supr-con': 44295, 'cs.AI': 111006, 'cs.AR': 5676, 'cs.CC': 11289, 'cs.CE': 7958, 'cs.CG': 7137, 'cs.CL': 75251, 'cs.CR': 36719, 'cs.CV': 142631, 'cs.CY': 21058, 'cs.DB': 9414, 'cs.DC': 23226, 'cs.DL': 5132, 'cs.DM': 13936, 'cs.DS': 25285, 'cs.ET': 5111, 'cs.FL': 5197, 'cs.GL': 216, 'cs.GR': 6933, 'cs.GT': 12253, 'cs.HC': 20683, 'cs.IR': 19128, 'cs.IT': 48597, 'cs.LG': 200479, 'cs.LO': 16781, 'cs.MA': 8457, 'cs.MM': 7341, 'cs.MS': 2318, 'cs.NA': 26635, 'cs.NE': 15313, 'cs.NI': 23422, 'cs.OH': 2228, 'cs.OS': 994, 'cs.PF': 4205, 'cs.PL': 8250, 'cs.RO': 37442, 'cs.SC': 2682, 'cs.SD': 15896, 'cs.SE': 18691, 'cs.SI': 20830, 'cs.SY': 35135, 'econ.EM': 4034, 'econ.GN': 4646, 'econ.TH': 2747, 'eess.AS': 16954, 'eess.IV': 25714, 'eess.SP': 31046, 'eess.SY': 26916, 'gr-qc': 110976, 'hep-ex': 55301, 'hep-lat': 28559, 'hep-ph': 184375, 'hep-th': 170707, 'math-ph': 82161, 'math.AC': 13319, 'math.AG': 54186, 'math.AP': 65009, 'math.AT': 16203, 'math.CA': 22918, 'math.CO': 69047, 'math.CT': 8953, 'math.CV': 17574, 'math.DG': 43443, 'math.DS': 38231, 'math.FA': 32464, 'math.GM': 4157, 'math.GN': 5319, 'math.GR': 23028, 'math.GT': 23525, 'math.HO': 3750, 'math.IT': 48597, 'math.KT': 6079, 'math.LO': 13795, 'math.MG': 11605, 'math.MP': 82161, 'math.NA': 40444, 'math.NT': 43515, 'math.OA': 12972, 'math.OC': 51605, 'math.PR': 58432, 'math.QA': 19439, 'math.RA': 17978, 'math.RT': 27081, 'math.SG': 9346, 'math.SP': 10023, 'math.ST': 24117, 'nlin.AO': 7384, 'nlin.CD': 16052, 'nlin.CG': 1547, 'nlin.PS': 9994, 'nlin.SI': 12127, 'nucl-ex': 26432, 'nucl-th': 58502, 'physics.acc-ph': 8002, 'physics.ao-ph': 6993, 'physics.app-ph': 19726, 'physics.atm-clus': 2807, 'physics.atom-ph': 21844, 'physics.bio-ph': 15911, 'physics.chem-ph': 23575, 'physics.class-ph': 8736, 'physics.comp-ph': 24067, 'physics.data-an': 10767, 'physics.ed-ph': 4020, 'physics.flu-dyn': 29555, 'physics.gen-ph': 10431, 'physics.geo-ph': 7509, 'physics.hist-ph': 5078, 'physics.ins-det': 21810, 'physics.med-ph': 7452, 'physics.optics': 48798, 'physics.plasm-ph': 17413, 'physics.pop-ph': 2482, 'physics.soc-ph': 22796, 'physics.space-ph': 6757, 'q-alg': 1578, 'q-bio': 1356, 'q-bio.BM': 5927, 'q-bio.CB': 2236, 'q-bio.GN': 3301, 'q-bio.MN': 3821, 'q-bio.NC': 10126, 'q-bio.OT': 1338, 'q-bio.PE': 11767, 'q-bio.QM': 11104, 'q-bio.SC': 1718, 'q-bio.TO': 2359, 'q-fin.CP': 2628, 'q-fin.EC': 5210, 'q-fin.GN': 2731, 'q-fin.MF': 2702, 'q-fin.PM': 1977, 'q-fin.PR': 2014, 'q-fin.RM': 2420, 'q-fin.ST': 3764, 'q-fin.TR': 1869, 'quant-ph': 156240, 'solv-int': 1413, 'stat.AP': 19614, 'stat.CO': 8712, 'stat.ME': 28982, 'stat.ML': 68486, 'stat.OT': 1391, 'stat.TH': 24117}"
   ]
  },
  {
   "cell_type": "code",
   "execution_count": 52,
   "id": "5049377f-7237-4c5d-a1f5-b5394313e83b",
   "metadata": {},
   "outputs": [],
   "source": [
    "# Convert the dictionary to a DataFrame\n",
    "df = pd.DataFrame.from_dict(new_category_counts, orient='index', columns=['count'])\n",
    "df = df.sort_values('count', ascending=True)"
   ]
  },
  {
   "cell_type": "code",
   "execution_count": 54,
   "id": "8302135f-8225-4722-aeda-259d0bb91465",
   "metadata": {},
   "outputs": [
    {
     "data": {
      "image/png": "[encoded data removed]",
      "text/plain": [
       "<Figure size 640x480 with 1 Axes>"
      ]
     },
     "metadata": {},
     "output_type": "display_data"
    }
   ],
   "source": [
    "import matplotlib.pyplot as plt\n",
    "df.head(20).plot(kind='bar')\n",
    "plt.title('Bottom 20 arXiv Categories by Submission Count')\n",
    "plt.xlabel('Category')\n",
    "plt.ylabel('Number of Submissions')\n",
    "plt.xticks(rotation=45, ha='right')\n",
    "plt.tight_layout()\n",
    "plt.show()"
   ]
  },
  {
   "cell_type": "markdown",
   "id": "9fc7f1bf-abc3-4c8a-99ac-b794ae29b9d4",
   "metadata": {},
   "source": [
    "Now all but one category has at least 1000 samples which may be enough for the classifier to learn, after undersampling the top classes."
   ]
  },
  {
   "cell_type": "code",
   "execution_count": 56,
   "id": "2791d55d-18b6-4793-8b94-732cb343cf90",
   "metadata": {},
   "outputs": [
    {
     "name": "stderr",
     "output_type": "stream",
     "text": [
      "huggingface/tokenizers: The current process just got forked, after parallelism has already been used. Disabling parallelism to avoid deadlocks...\n",
      "To disable this warning, you can either:\n",
      "\t- Avoid using `tokenizers` before the fork if possible\n",
      "\t- Explicitly set the environment variable TOKENIZERS_PARALLELISM=(true | false)\n"
     ]
    },
    {
     "name": "stdout",
     "output_type": "stream",
     "text": [
      "{'cs.AI': 'Artificial Intelligence', 'cs.AR': 'Hardware Architecture', 'cs.CC': 'Computational Complexity', 'cs.CE': 'Computational Engineering, Finance, and Science', 'cs.CG': 'Computational Geometry', 'cs.CL': 'Computation and Language', 'cs.CR': 'Cryptography and Security', 'cs.CV': 'Computer Vision and Pattern Recognition', 'cs.CY': 'Computers and Society', 'cs.DB': 'Databases', 'cs.DC': 'Distributed, Parallel, and Cluster Computing', 'cs.DL': 'Digital Libraries', 'cs.DM': 'Discrete Mathematics', 'cs.DS': 'Data Structures and Algorithms', 'cs.ET': 'Emerging Technologies', 'cs.FL': 'Formal Languages and Automata Theory', 'cs.GL': 'General Literature', 'cs.GR': 'Graphics', 'cs.GT': 'Computer Science and Game Theory', 'cs.HC': 'Human-Computer Interaction', 'cs.IR': 'Information Retrieval', 'cs.IT': 'Information Theory', 'cs.LG': 'Machine Learning', 'cs.LO': 'Logic in Computer Science', 'cs.MA': 'Multiagent Systems', 'cs.MM': 'Multimedia', 'cs.MS': 'Mathematical Software', 'cs.NA': 'Numerical Analysis', 'cs.NE': 'Neural and Evolutionary Computing', 'cs.NI': 'Networking and Internet Architecture', 'cs.OH': 'Other Computer Science', 'cs.OS': 'Operating Systems', 'cs.PF': 'Performance', 'cs.PL': 'Programming Languages', 'cs.RO': 'Robotics', 'cs.SC': 'Symbolic Computation', 'cs.SD': 'Sound', 'cs.SE': 'Software Engineering', 'cs.SI': 'Social and Information Networks', 'cs.SY': 'Systems and Control', 'econ.EM': 'Econometrics', 'econ.GN': 'General Economics', 'econ.TH': 'Theoretical Economics', 'eess.AS': 'Audio and Speech Processing', 'eess.IV': 'Image and Video Processing', 'eess.SP': 'Signal Processing', 'eess.SY': 'Systems and Control', 'math.AC': 'Commutative Algebra', 'math.AG': 'Algebraic Geometry', 'math.AP': 'Analysis of PDEs', 'math.AT': 'Algebraic Topology', 'math.CA': 'Classical Analysis and ODEs', 'math.CO': 'Combinatorics', 'math.CT': 'Category Theory', 'math.CV': 'Complex Variables', 'math.DG': 'Differential Geometry', 'math.DS': 'Dynamical Systems', 'math.FA': 'Functional Analysis', 'math.GM': 'General Mathematics', 'math.GN': 'General Topology', 'math.GR': 'Group Theory', 'math.GT': 'Geometric Topology', 'math.HO': 'History and Overview', 'math.IT': 'Information Theory', 'math.KT': 'K-Theory and Homology', 'math.LO': 'Logic', 'math.MG': 'Metric Geometry', 'math.MP': 'Mathematical Physics', 'math.NA': 'Numerical Analysis', 'math.NT': 'Number Theory', 'math.OA': 'Operator Algebras', 'math.OC': 'Optimization and Control', 'math.PR': 'Probability', 'math.QA': 'Quantum Algebra', 'math.RA': 'Rings and Algebras', 'math.RT': 'Representation Theory', 'math.SG': 'Symplectic Geometry', 'math.SP': 'Spectral Theory', 'math.ST': 'Statistics Theory', 'astro-ph.CO': 'Cosmology and Nongalactic Astrophysics', 'astro-ph.EP': 'Earth and Planetary Astrophysics', 'astro-ph.GA': 'Astrophysics of Galaxies', 'astro-ph.HE': 'High Energy Astrophysical Phenomena', 'astro-ph.IM': 'Instrumentation and Methods for Astrophysics', 'astro-ph.SR': 'Solar and Stellar Astrophysics', 'cond-mat.dis-nn': 'Disordered Systems and Neural Networks', 'cond-mat.mes-hall': 'Mesoscale and Nanoscale Physics', 'cond-mat.mtrl-sci': 'Materials Science', 'cond-mat.other': 'Other Condensed Matter', 'cond-mat.quant-gas': 'Quantum Gases', 'cond-mat.soft': 'Soft Condensed Matter', 'cond-mat.stat-mech': 'Statistical Mechanics', 'cond-mat.str-el': 'Strongly Correlated Electrons', 'cond-mat.supr-con': 'Superconductivity', 'gr-qc': 'General Relativity and Quantum Cosmology', 'hep-ex': 'High Energy Physics - Experiment', 'hep-lat': 'High Energy Physics - Lattice', 'hep-ph': 'High Energy Physics - Phenomenology', 'hep-th': 'High Energy Physics - Theory', 'math-ph': 'Mathematical Physics', 'nlin.AO': 'Adaptation and Self-Organizing Systems', 'nlin.CD': 'Chaotic Dynamics', 'nlin.CG': 'Cellular Automata and Lattice Gases', 'nlin.PS': 'Pattern Formation and Solitons', 'nlin.SI': 'Exactly Solvable and Integrable Systems', 'nucl-ex': 'Nuclear Experiment', 'nucl-th': 'Nuclear Theory', 'physics.acc-ph': 'Accelerator Physics', 'physics.ao-ph': 'Atmospheric and Oceanic Physics', 'physics.app-ph': 'Applied Physics', 'physics.atm-clus': 'Atomic and Molecular Clusters', 'physics.atom-ph': 'Atomic Physics', 'physics.bio-ph': 'Biological Physics', 'physics.chem-ph': 'Chemical Physics', 'physics.class-ph': 'Classical Physics', 'physics.comp-ph': 'Computational Physics', 'physics.data-an': 'Data Analysis, Statistics and Probability', 'physics.ed-ph': 'Physics Education', 'physics.flu-dyn': 'Fluid Dynamics', 'physics.gen-ph': 'General Physics', 'physics.geo-ph': 'Geophysics', 'physics.hist-ph': 'History and Philosophy of Physics', 'physics.ins-det': 'Instrumentation and Detectors', 'physics.med-ph': 'Medical Physics', 'physics.optics': 'Optics', 'physics.plasm-ph': 'Plasma Physics', 'physics.pop-ph': 'Popular Physics', 'physics.soc-ph': 'Physics and Society', 'physics.space-ph': 'Space Physics', 'quant-ph': 'Quantum Physics', 'q-bio.BM': 'Biomolecules', 'q-bio.CB': 'Cell Behavior', 'q-bio.GN': 'Genomics', 'q-bio.MN': 'Molecular Networks', 'q-bio.NC': 'Neurons and Cognition', 'q-bio.OT': 'Other Quantitative Biology', 'q-bio.PE': 'Populations and Evolution', 'q-bio.QM': 'Quantitative Methods', 'q-bio.SC': 'Subcellular Processes', 'q-bio.TO': 'Tissues and Organs', 'q-fin.CP': 'Computational Finance', 'q-fin.EC': 'Economics', 'q-fin.GN': 'General Finance', 'q-fin.MF': 'Mathematical Finance', 'q-fin.PM': 'Portfolio Management', 'q-fin.PR': 'Pricing of Securities', 'q-fin.RM': 'Risk Management', 'q-fin.ST': 'Statistical Finance', 'q-fin.TR': 'Trading and Market Microstructure', 'stat.AP': 'Applications', 'stat.CO': 'Computation', 'stat.ME': 'Methodology', 'stat.ML': 'Machine Learning', 'stat.OT': 'Other Statistics', 'stat.TH': 'Statistics Theory'}\n"
     ]
    }
   ],
   "source": [
    "!python ../analysis/scrape_categories.py"
   ]
  },
  {
   "cell_type": "code",
   "execution_count": 57,
   "id": "77ab64d2-f479-4048-88ec-b3bab58e87d5",
   "metadata": {},
   "outputs": [],
   "source": [
    "scraped_categories = {'cs.AI': 'Artificial Intelligence', 'cs.AR': 'Hardware Architecture', 'cs.CC': 'Computational Complexity', 'cs.CE': 'Computational Engineering, Finance, and Science', 'cs.CG': 'Computational Geometry', 'cs.CL': 'Computation and Language', 'cs.CR': 'Cryptography and Security', 'cs.CV': 'Computer Vision and Pattern Recognition', 'cs.CY': 'Computers and Society', 'cs.DB': 'Databases', 'cs.DC': 'Distributed, Parallel, and Cluster Computing', 'cs.DL': 'Digital Libraries', 'cs.DM': 'Discrete Mathematics', 'cs.DS': 'Data Structures and Algorithms', 'cs.ET': 'Emerging Technologies', 'cs.FL': 'Formal Languages and Automata Theory', 'cs.GL': 'General Literature', 'cs.GR': 'Graphics', 'cs.GT': 'Computer Science and Game Theory', 'cs.HC': 'Human-Computer Interaction', 'cs.IR': 'Information Retrieval', 'cs.IT': 'Information Theory', 'cs.LG': 'Machine Learning', 'cs.LO': 'Logic in Computer Science', 'cs.MA': 'Multiagent Systems', 'cs.MM': 'Multimedia', 'cs.MS': 'Mathematical Software', 'cs.NA': 'Numerical Analysis', 'cs.NE': 'Neural and Evolutionary Computing', 'cs.NI': 'Networking and Internet Architecture', 'cs.OH': 'Other Computer Science', 'cs.OS': 'Operating Systems', 'cs.PF': 'Performance', 'cs.PL': 'Programming Languages', 'cs.RO': 'Robotics', 'cs.SC': 'Symbolic Computation', 'cs.SD': 'Sound', 'cs.SE': 'Software Engineering', 'cs.SI': 'Social and Information Networks', 'cs.SY': 'Systems and Control', 'econ.EM': 'Econometrics', 'econ.GN': 'General Economics', 'econ.TH': 'Theoretical Economics', 'eess.AS': 'Audio and Speech Processing', 'eess.IV': 'Image and Video Processing', 'eess.SP': 'Signal Processing', 'eess.SY': 'Systems and Control', 'math.AC': 'Commutative Algebra', 'math.AG': 'Algebraic Geometry', 'math.AP': 'Analysis of PDEs', 'math.AT': 'Algebraic Topology', 'math.CA': 'Classical Analysis and ODEs', 'math.CO': 'Combinatorics', 'math.CT': 'Category Theory', 'math.CV': 'Complex Variables', 'math.DG': 'Differential Geometry', 'math.DS': 'Dynamical Systems', 'math.FA': 'Functional Analysis', 'math.GM': 'General Mathematics', 'math.GN': 'General Topology', 'math.GR': 'Group Theory', 'math.GT': 'Geometric Topology', 'math.HO': 'History and Overview', 'math.IT': 'Information Theory', 'math.KT': 'K-Theory and Homology', 'math.LO': 'Logic', 'math.MG': 'Metric Geometry', 'math.MP': 'Mathematical Physics', 'math.NA': 'Numerical Analysis', 'math.NT': 'Number Theory', 'math.OA': 'Operator Algebras', 'math.OC': 'Optimization and Control', 'math.PR': 'Probability', 'math.QA': 'Quantum Algebra', 'math.RA': 'Rings and Algebras', 'math.RT': 'Representation Theory', 'math.SG': 'Symplectic Geometry', 'math.SP': 'Spectral Theory', 'math.ST': 'Statistics Theory', 'astro-ph.CO': 'Cosmology and Nongalactic Astrophysics', 'astro-ph.EP': 'Earth and Planetary Astrophysics', 'astro-ph.GA': 'Astrophysics of Galaxies', 'astro-ph.HE': 'High Energy Astrophysical Phenomena', 'astro-ph.IM': 'Instrumentation and Methods for Astrophysics', 'astro-ph.SR': 'Solar and Stellar Astrophysics', 'cond-mat.dis-nn': 'Disordered Systems and Neural Networks', 'cond-mat.mes-hall': 'Mesoscale and Nanoscale Physics', 'cond-mat.mtrl-sci': 'Materials Science', 'cond-mat.other': 'Other Condensed Matter', 'cond-mat.quant-gas': 'Quantum Gases', 'cond-mat.soft': 'Soft Condensed Matter', 'cond-mat.stat-mech': 'Statistical Mechanics', 'cond-mat.str-el': 'Strongly Correlated Electrons', 'cond-mat.supr-con': 'Superconductivity', 'gr-qc': 'General Relativity and Quantum Cosmology', 'hep-ex': 'High Energy Physics - Experiment', 'hep-lat': 'High Energy Physics - Lattice', 'hep-ph': 'High Energy Physics - Phenomenology', 'hep-th': 'High Energy Physics - Theory', 'math-ph': 'Mathematical Physics', 'nlin.AO': 'Adaptation and Self-Organizing Systems', 'nlin.CD': 'Chaotic Dynamics', 'nlin.CG': 'Cellular Automata and Lattice Gases', 'nlin.PS': 'Pattern Formation and Solitons', 'nlin.SI': 'Exactly Solvable and Integrable Systems', 'nucl-ex': 'Nuclear Experiment', 'nucl-th': 'Nuclear Theory', 'physics.acc-ph': 'Accelerator Physics', 'physics.ao-ph': 'Atmospheric and Oceanic Physics', 'physics.app-ph': 'Applied Physics', 'physics.atm-clus': 'Atomic and Molecular Clusters', 'physics.atom-ph': 'Atomic Physics', 'physics.bio-ph': 'Biological Physics', 'physics.chem-ph': 'Chemical Physics', 'physics.class-ph': 'Classical Physics', 'physics.comp-ph': 'Computational Physics', 'physics.data-an': 'Data Analysis, Statistics and Probability', 'physics.ed-ph': 'Physics Education', 'physics.flu-dyn': 'Fluid Dynamics', 'physics.gen-ph': 'General Physics', 'physics.geo-ph': 'Geophysics', 'physics.hist-ph': 'History and Philosophy of Physics', 'physics.ins-det': 'Instrumentation and Detectors', 'physics.med-ph': 'Medical Physics', 'physics.optics': 'Optics', 'physics.plasm-ph': 'Plasma Physics', 'physics.pop-ph': 'Popular Physics', 'physics.soc-ph': 'Physics and Society', 'physics.space-ph': 'Space Physics', 'quant-ph': 'Quantum Physics', 'q-bio.BM': 'Biomolecules', 'q-bio.CB': 'Cell Behavior', 'q-bio.GN': 'Genomics', 'q-bio.MN': 'Molecular Networks', 'q-bio.NC': 'Neurons and Cognition', 'q-bio.OT': 'Other Quantitative Biology', 'q-bio.PE': 'Populations and Evolution', 'q-bio.QM': 'Quantitative Methods', 'q-bio.SC': 'Subcellular Processes', 'q-bio.TO': 'Tissues and Organs', 'q-fin.CP': 'Computational Finance', 'q-fin.EC': 'Economics', 'q-fin.GN': 'General Finance', 'q-fin.MF': 'Mathematical Finance', 'q-fin.PM': 'Portfolio Management', 'q-fin.PR': 'Pricing of Securities', 'q-fin.RM': 'Risk Management', 'q-fin.ST': 'Statistical Finance', 'q-fin.TR': 'Trading and Market Microstructure', 'stat.AP': 'Applications', 'stat.CO': 'Computation', 'stat.ME': 'Methodology', 'stat.ML': 'Machine Learning', 'stat.OT': 'Other Statistics', 'stat.TH': 'Statistics Theory'}"
   ]
  },
  {
   "cell_type": "code",
   "execution_count": 58,
   "id": "330e83d7-9907-4a02-b0d2-1e975483c569",
   "metadata": {},
   "outputs": [
    {
     "name": "stdout",
     "output_type": "stream",
     "text": [
      "Category alg-geom not found\n",
      "Category astro-ph not found\n",
      "Category chao-dyn not found\n",
      "Category cond-mat not found\n",
      "Category q-alg not found\n",
      "Category q-bio not found\n",
      "Category solv-int not found\n"
     ]
    }
   ],
   "source": [
    "for category in new_category_counts:\n",
    "    if category not in scraped_categories:\n",
    "        print(f\"Category {category} not found\")"
   ]
  },
  {
   "cell_type": "markdown",
   "id": "265d6b53-b8f8-4258-b471-269668fa70a8",
   "metadata": {},
   "source": [
    "Found 7 more categories which can be remapped. I check the true category by going to e.g. https://arxiv.org/archive/alg-geom and first line gives the true category (in this case math.AG). From these astro-ph, cond-mat and q-bio are category classes with multiple subcategories, so I don't remap them."
   ]
  },
  {
   "cell_type": "code",
   "execution_count": 59,
   "id": "2ed561b2-9fde-4e21-b163-47c4ba8fb763",
   "metadata": {},
   "outputs": [
    {
     "name": "stderr",
     "output_type": "stream",
     "text": [
      "huggingface/tokenizers: The current process just got forked, after parallelism has already been used. Disabling parallelism to avoid deadlocks...\n",
      "To disable this warning, you can either:\n",
      "\t- Avoid using `tokenizers` before the fork if possible\n",
      "\t- Explicitly set the environment variable TOKENIZERS_PARALLELISM=(true | false)\n"
     ]
    },
    {
     "name": "stdout",
     "output_type": "stream",
     "text": [
      "{'astro-ph': 105380, 'astro-ph.CO': 69766, 'astro-ph.EP': 30541, 'astro-ph.GA': 67426, 'astro-ph.HE': 60378, 'astro-ph.IM': 30694, 'astro-ph.SR': 62503, 'cond-mat': 14215, 'cond-mat.dis-nn': 24343, 'cond-mat.mes-hall': 93149, 'cond-mat.mtrl-sci': 96388, 'cond-mat.other': 16030, 'cond-mat.quant-gas': 21953, 'cond-mat.soft': 41147, 'cond-mat.stat-mech': 75455, 'cond-mat.str-el': 76024, 'cond-mat.supr-con': 44295, 'cs.AI': 111006, 'cs.AR': 5676, 'cs.CC': 11289, 'cs.CE': 7958, 'cs.CG': 7137, 'cs.CL': 75251, 'cs.CR': 36719, 'cs.CV': 142631, 'cs.CY': 21058, 'cs.DB': 9414, 'cs.DC': 23226, 'cs.DL': 5132, 'cs.DM': 13936, 'cs.DS': 25285, 'cs.ET': 5111, 'cs.FL': 5197, 'cs.GL': 216, 'cs.GR': 6933, 'cs.GT': 12253, 'cs.HC': 20683, 'cs.IR': 19128, 'cs.IT': 48597, 'cs.LG': 200479, 'cs.LO': 16781, 'cs.MA': 8457, 'cs.MM': 7341, 'cs.MS': 2318, 'cs.NA': 26635, 'cs.NE': 15313, 'cs.NI': 23422, 'cs.OH': 2228, 'cs.OS': 994, 'cs.PF': 4205, 'cs.PL': 8250, 'cs.RO': 37442, 'cs.SC': 2682, 'cs.SD': 15896, 'cs.SE': 18691, 'cs.SI': 20830, 'cs.SY': 35135, 'econ.EM': 4034, 'econ.GN': 4646, 'econ.TH': 2747, 'eess.AS': 16954, 'eess.IV': 25714, 'eess.SP': 31046, 'eess.SY': 26916, 'gr-qc': 110976, 'hep-ex': 55301, 'hep-lat': 28559, 'hep-ph': 184375, 'hep-th': 170707, 'math-ph': 82161, 'math.AC': 13319, 'math.AG': 54199, 'math.AP': 65009, 'math.AT': 16203, 'math.CA': 22918, 'math.CO': 69047, 'math.CT': 8953, 'math.CV': 17574, 'math.DG': 43443, 'math.DS': 38231, 'math.FA': 32464, 'math.GM': 4157, 'math.GN': 5319, 'math.GR': 23028, 'math.GT': 23525, 'math.HO': 3750, 'math.IT': 48597, 'math.KT': 6079, 'math.LO': 13795, 'math.MG': 11605, 'math.MP': 82161, 'math.NA': 40444, 'math.NT': 43515, 'math.OA': 12972, 'math.OC': 51605, 'math.PR': 58432, 'math.QA': 19444, 'math.RA': 17978, 'math.RT': 27081, 'math.SG': 9346, 'math.SP': 10023, 'math.ST': 24117, 'nlin.AO': 7384, 'nlin.CD': 16052, 'nlin.CG': 1547, 'nlin.PS': 9994, 'nlin.SI': 12127, 'nucl-ex': 26432, 'nucl-th': 58502, 'physics.acc-ph': 8002, 'physics.ao-ph': 6993, 'physics.app-ph': 19726, 'physics.atm-clus': 2807, 'physics.atom-ph': 21844, 'physics.bio-ph': 15911, 'physics.chem-ph': 23575, 'physics.class-ph': 8736, 'physics.comp-ph': 24067, 'physics.data-an': 10767, 'physics.ed-ph': 4020, 'physics.flu-dyn': 29555, 'physics.gen-ph': 10431, 'physics.geo-ph': 7509, 'physics.hist-ph': 5078, 'physics.ins-det': 21810, 'physics.med-ph': 7452, 'physics.optics': 48798, 'physics.plasm-ph': 17413, 'physics.pop-ph': 2482, 'physics.soc-ph': 22796, 'physics.space-ph': 6757, 'q-bio': 1356, 'q-bio.BM': 5927, 'q-bio.CB': 2236, 'q-bio.GN': 3301, 'q-bio.MN': 3821, 'q-bio.NC': 10126, 'q-bio.OT': 1338, 'q-bio.PE': 11767, 'q-bio.QM': 11104, 'q-bio.SC': 1718, 'q-bio.TO': 2359, 'q-fin.CP': 2628, 'q-fin.EC': 5210, 'q-fin.GN': 2731, 'q-fin.MF': 2702, 'q-fin.PM': 1977, 'q-fin.PR': 2014, 'q-fin.RM': 2420, 'q-fin.ST': 3764, 'q-fin.TR': 1869, 'quant-ph': 156240, 'stat.AP': 19614, 'stat.CO': 8712, 'stat.ME': 28982, 'stat.ML': 68486, 'stat.OT': 1391, 'stat.TH': 24117}\n"
     ]
    }
   ],
   "source": [
    "!python categories.py"
   ]
  },
  {
   "cell_type": "code",
   "execution_count": 110,
   "id": "de96cd97-b410-4b86-bf7b-5f427319eb86",
   "metadata": {},
   "outputs": [],
   "source": [
    "new_category_counts = {'astro-ph': 105380, 'astro-ph.CO': 69766, 'astro-ph.EP': 30541, 'astro-ph.GA': 67426, 'astro-ph.HE': 60378, 'astro-ph.IM': 30694, 'astro-ph.SR': 62503, 'cond-mat': 14215, 'cond-mat.dis-nn': 24343, 'cond-mat.mes-hall': 93149, 'cond-mat.mtrl-sci': 96388, 'cond-mat.other': 16030, 'cond-mat.quant-gas': 21953, 'cond-mat.soft': 41147, 'cond-mat.stat-mech': 75455, 'cond-mat.str-el': 76024, 'cond-mat.supr-con': 44295, 'cs.AI': 111006, 'cs.AR': 5676, 'cs.CC': 11289, 'cs.CE': 7958, 'cs.CG': 7137, 'cs.CL': 75251, 'cs.CR': 36719, 'cs.CV': 142631, 'cs.CY': 21058, 'cs.DB': 9414, 'cs.DC': 23226, 'cs.DL': 5132, 'cs.DM': 13936, 'cs.DS': 25285, 'cs.ET': 5111, 'cs.FL': 5197, 'cs.GL': 216, 'cs.GR': 6933, 'cs.GT': 12253, 'cs.HC': 20683, 'cs.IR': 19128, 'cs.IT': 48597, 'cs.LG': 200479, 'cs.LO': 16781, 'cs.MA': 8457, 'cs.MM': 7341, 'cs.MS': 2318, 'cs.NA': 26635, 'cs.NE': 15313, 'cs.NI': 23422, 'cs.OH': 2228, 'cs.OS': 994, 'cs.PF': 4205, 'cs.PL': 8250, 'cs.RO': 37442, 'cs.SC': 2682, 'cs.SD': 15896, 'cs.SE': 18691, 'cs.SI': 20830, 'cs.SY': 35135, 'econ.EM': 4034, 'econ.GN': 4646, 'econ.TH': 2747, 'eess.AS': 16954, 'eess.IV': 25714, 'eess.SP': 31046, 'eess.SY': 26916, 'gr-qc': 110976, 'hep-ex': 55301, 'hep-lat': 28559, 'hep-ph': 184375, 'hep-th': 170707, 'math-ph': 82161, 'math.AC': 13319, 'math.AG': 54199, 'math.AP': 65009, 'math.AT': 16203, 'math.CA': 22918, 'math.CO': 69047, 'math.CT': 8953, 'math.CV': 17574, 'math.DG': 43443, 'math.DS': 38231, 'math.FA': 32464, 'math.GM': 4157, 'math.GN': 5319, 'math.GR': 23028, 'math.GT': 23525, 'math.HO': 3750, 'math.IT': 48597, 'math.KT': 6079, 'math.LO': 13795, 'math.MG': 11605, 'math.MP': 82161, 'math.NA': 40444, 'math.NT': 43515, 'math.OA': 12972, 'math.OC': 51605, 'math.PR': 58432, 'math.QA': 19444, 'math.RA': 17978, 'math.RT': 27081, 'math.SG': 9346, 'math.SP': 10023, 'math.ST': 24117, 'nlin.AO': 7384, 'nlin.CD': 16052, 'nlin.CG': 1547, 'nlin.PS': 9994, 'nlin.SI': 12127, 'nucl-ex': 26432, 'nucl-th': 58502, 'physics.acc-ph': 8002, 'physics.ao-ph': 6993, 'physics.app-ph': 19726, 'physics.atm-clus': 2807, 'physics.atom-ph': 21844, 'physics.bio-ph': 15911, 'physics.chem-ph': 23575, 'physics.class-ph': 8736, 'physics.comp-ph': 24067, 'physics.data-an': 10767, 'physics.ed-ph': 4020, 'physics.flu-dyn': 29555, 'physics.gen-ph': 10431, 'physics.geo-ph': 7509, 'physics.hist-ph': 5078, 'physics.ins-det': 21810, 'physics.med-ph': 7452, 'physics.optics': 48798, 'physics.plasm-ph': 17413, 'physics.pop-ph': 2482, 'physics.soc-ph': 22796, 'physics.space-ph': 6757, 'q-bio': 1356, 'q-bio.BM': 5927, 'q-bio.CB': 2236, 'q-bio.GN': 3301, 'q-bio.MN': 3821, 'q-bio.NC': 10126, 'q-bio.OT': 1338, 'q-bio.PE': 11767, 'q-bio.QM': 11104, 'q-bio.SC': 1718, 'q-bio.TO': 2359, 'q-fin.CP': 2628, 'q-fin.EC': 5210, 'q-fin.GN': 2731, 'q-fin.MF': 2702, 'q-fin.PM': 1977, 'q-fin.PR': 2014, 'q-fin.RM': 2420, 'q-fin.ST': 3764, 'q-fin.TR': 1869, 'quant-ph': 156240, 'stat.AP': 19614, 'stat.CO': 8712, 'stat.ME': 28982, 'stat.ML': 68486, 'stat.OT': 1391, 'stat.TH': 24117}"
   ]
  },
  {
   "cell_type": "code",
   "execution_count": 64,
   "id": "631501a6-7977-4718-8b6a-e2a61bcfff09",
   "metadata": {},
   "outputs": [
    {
     "data": {
      "image/png": "[encoded data removed]",
      "text/plain": [
       "<Figure size 640x480 with 1 Axes>"
      ]
     },
     "metadata": {},
     "output_type": "display_data"
    }
   ],
   "source": [
    "df = pd.DataFrame.from_dict(new_category_counts, orient='index', columns=['count'])\n",
    "df = df.sort_values('count', ascending=True)\n",
    "df.head(20).plot(kind='bar')\n",
    "plt.title('Bottom 20 arXiv Categories by Submission Count')\n",
    "plt.xlabel('Category')\n",
    "plt.ylabel('Number of Submissions')\n",
    "plt.xticks(rotation=45, ha='right')\n",
    "plt.tight_layout()\n",
    "plt.show()"
   ]
  },
  {
   "cell_type": "code",
   "execution_count": 65,
   "id": "8e2fca45-31b6-4150-b348-bfa9b6da250b",
   "metadata": {},
   "outputs": [
    {
     "data": {
      "text/plain": [
       "28478.278481012658"
      ]
     },
     "execution_count": 65,
     "metadata": {},
     "output_type": "execute_result"
    }
   ],
   "source": [
    "df['count'].mean()"
   ]
  },
  {
   "cell_type": "code",
   "execution_count": 66,
   "id": "2ecd8474-140e-4e4f-a97e-ec10d0b22071",
   "metadata": {},
   "outputs": [
    {
     "data": {
      "text/plain": [
       "16492.0"
      ]
     },
     "execution_count": 66,
     "metadata": {},
     "output_type": "execute_result"
    }
   ],
   "source": [
    "df['count'].median()"
   ]
  },
  {
   "cell_type": "markdown",
   "id": "0f99e2e0-e746-4cb1-8827-e53fb45b4b19",
   "metadata": {},
   "source": [
    "**After remapping the median and average counts for labels have increased by about ~3k which should improve the class imbalance significantly.**"
   ]
  },
  {
   "cell_type": "markdown",
   "id": "b7a275f5-e5df-465f-8a10-b9151e8f5747",
   "metadata": {},
   "source": [
    "## Undersampling\n",
    "\n",
    "The undersampling task for multi-label classification is non-trivial if we aim to discover which samples are the best candidates to remove based on the information they give to the classifier. For multi-class classification some common algorithms include Near-Miss, Condensed Nearest Neighbours and Tomek Links - https://machinelearningmastery.com/undersampling-algorithms-for-imbalanced-classification/  \n",
    "These however all work assuming each sample has only one class while in multi-label classification many samples have multiple classes, so there is added value in preserving given combinations, so a smart undersampler wouldn't just consider the labels as independent and remove interesting combinations including a majority class.  \n",
    "This paper provides some adaptations to these algorithms for the multi-label case: https://www.din.uem.br/yandre/Neurocomputing_MLTL.pdf  \n",
    "Due to time constrictions and added complexity **I decided on a simple algorithm I thought of where I would downsample only labels which have counts above the median with a probability, that would make their count equal to the median if applied**.  \n",
    "To account for combinations of labels including a majority and minority label for example, to remove a sample with multiple categories, I run a coin-toss for each category of the sample according to their probabilities and drop only if all coin-tosses agree to drop.  \n",
    "On the initial dataset without the remapping of labels, **this resulted in a dataset with 1250081 examples, while initially they were 2635119, so about half the dataset was dropped.** "
   ]
  },
  {
   "cell_type": "markdown",
   "id": "a1841e4e-39f6-4c4b-92f9-3cde65d83713",
   "metadata": {},
   "source": [
    "## Oversampling\n",
    "\n",
    "I researched through some common oversampling techniques:\n",
    "* Duplication - This is the simplest approach to implement but duplicating samples may lead to BERT memorizing them instead of generalizing. I would prefer an approach where augmented/new data is added instead of just duplicates.\n",
    "* `SMOTE` seems to work well for features with real numbers but it's unclear how it would perform on text. Most likely to apply it I would first tokenize the abstracts for the minority classes and run SMOTE on the input_ids to generate similar tests. However some [discussions](https://datascience.stackexchange.com/questions/91141/is-it-good-practice-to-use-smote-when-you-have-a-data-set-that-has-imbalanced-cl) point to a disadvantage of this that SMOTE may not generate natural enough text as input to BERT which may confuse it and lead to worse results. It could be tested.\n",
    "* Generate abstract using a GPT model - i.e. GPT-2. As this should add high quality natural text which may include new information, this is my preferred approach. Actually, I was on the route to implement that when I started scraping category tags to get their names, so I can feed the to GPT-2, when I discovered the category inconsistency. After doing the remapping now only one category is severely undersampled, so I'll implement oversampling only if model metrics are low."
   ]
  },
  {
   "cell_type": "markdown",
   "id": "87993c65-0b9b-4b62-8c88-7cde82a6f2d3",
   "metadata": {},
   "source": [
    "## A wild idea for an alternative solution to this task using a different form of BERT fine-tuning\n",
    "\n",
    "Given that BERT was specifically trained on the task of Masked Language Modelling, one idea for fine-tuning it for the article classifier purposes could be to fine-tune it on Masked Language Modelling specific to our dataset. This could be done by prepending the abstract with `This abstract on the subject of <mask>`. For abstracts with multiple categories we could include one input like that for each category.   Then fine-tune bert to learn that `<mask>` is either the tag `cs.AI` directly, or perhaps more naturally learn the user-friendly category name like `Artificial intelligence` instead. (For multiple words perhaps more mask tokens should be included).   \n",
    "Since BERT outputs different mask options with scores, we could consider the suggestions above a given score as the categories chosen, so it would keep the multi-label outputs.  \n",
    "On prediction time we again prepend the text with the masked category, get the suggestions and if they are in natural language like \"Artificial intelligence\", find the embedding for it and find the real category with closest embedding, then take its tag to produce the output.  \n",
    "My intuition is that since this form of fine-tuning is closer to BERT's original training, it may be a lot faster in learning to classify the abstracts this way."
   ]
  },
  {
   "cell_type": "markdown",
   "id": "1a5a6c41-d2f6-4ce4-95aa-13db028d4574",
   "metadata": {},
   "source": [
    "## GPU Utilization\n",
    "\n",
    "I experimented with a few different settings for batch size and found that a batch size of 64, combined with fp16 mixed precision ended up using the GPU RAM to its fullest, barely not hitting OOM during training: ![GPU Utilization](gpu_utilization.png)\n",
    "This uses the T4 GPU available in Google Colab\n"
   ]
  },
  {
   "cell_type": "markdown",
   "id": "1d03c221-10e0-482e-981c-094ac38943e1",
   "metadata": {},
   "source": [
    "## Class imbalance training observations\n",
    "\n",
    "From the training metrics it can be seen that 15% into the first epoch the micro/weighted/samples variants of the metrics, as well as the hamming loss, all of which promote predicting the dominant labels, have relatively high values. While the accuracy and the macro metrics, which treat as equal all labels are significantly lower:\n",
    "\n",
    "```json\n",
    "{\n",
    "      \"epoch\": 0.43735528685361463,\n",
    "      \"eval_accuracy\": 0.2669972804351304,\n",
    "      \"eval_f1_macro\": 0.4358475675540043,\n",
    "      \"eval_f1_micro\": 0.569172640961054,\n",
    "      \"eval_f1_samples\": 0.5474074566539773,\n",
    "      \"eval_f1_weighted\": 0.5403750421299274,\n",
    "      \"eval_hamming_loss\": 0.009005141455848078,\n",
    "      \"eval_loss\": 0.02559889666736126,\n",
    "      \"eval_precision_macro\": 0.6128437314672721,\n",
    "      \"eval_precision_micro\": 0.7251295976302148,\n",
    "      \"eval_precision_samples\": 0.6534927744894151,\n",
    "      \"eval_precision_weighted\": 0.6979897023965469,\n",
    "      \"eval_recall_macro\": 0.3695541740967837,\n",
    "      \"eval_recall_micro\": 0.46842608834316696,\n",
    "      \"eval_recall_samples\": 0.5211701365876698,\n",
    "      \"eval_recall_weighted\": 0.46842608834316696,\n",
    "      \"eval_runtime\": 43.2114,\n",
    "      \"eval_samples_per_second\": 144.661,\n",
    "      \"eval_steps_per_second\": 2.268,\n",
    "      \"step\": 8500\n",
    "}\n",
    "```\n",
    "This shows that the model is biased to predict to dominant labels correctly and get the underrepresented ones wrong.  \n",
    "More insights can also be found in the difference between precision and recall - the macro precision is much higher than the macro recall.  \n",
    "This means the model doesn't produce much false positives, but procuses false negatives - so it doesn't predict the rare labels in the samples with true positives for them."
   ]
  },
  {
   "cell_type": "markdown",
   "id": "c69f2500-243e-4dd5-99fd-4fe0f9d2fee0",
   "metadata": {},
   "source": [
    "## Loss decrease over training iterations"
   ]
  },
  {
   "cell_type": "code",
   "execution_count": 82,
   "id": "e5b0354d-066c-4223-95b2-33c1c53c68c2",
   "metadata": {},
   "outputs": [
    {
     "name": "stdout",
     "output_type": "stream",
     "text": [
      "/Users/bbagaliyska/Projects/learning/ai/iristask/research-classifier/research_classifier\n"
     ]
    }
   ],
   "source": [
    "%cd .."
   ]
  },
  {
   "cell_type": "code",
   "execution_count": 83,
   "id": "ce9b4b3a-c93d-4eab-bb97-dfd33c993cbc",
   "metadata": {},
   "outputs": [
    {
     "name": "stdout",
     "output_type": "stream",
     "text": [
      "/Users/bbagaliyska/Projects/learning/ai/iristask/research-classifier/research_classifier/analysis\n"
     ]
    }
   ],
   "source": [
    "%cd analysis"
   ]
  },
  {
   "cell_type": "code",
   "execution_count": 96,
   "id": "782b4f18-4767-4306-a5d5-17253222e1de",
   "metadata": {},
   "outputs": [
    {
     "data": {
      "image/png": "[encoded data removed]",
      "text/plain": [
       "<Figure size 1000x600 with 1 Axes>"
      ]
     },
     "metadata": {},
     "output_type": "display_data"
    }
   ],
   "source": [
    "import json\n",
    "with open('trainer_state.json', 'r') as file:\n",
    "    trainer_history = json.load(file)[\"log_history\"]\n",
    "losses = []\n",
    "steps = []\n",
    "\n",
    "for entry in trainer_history:\n",
    "    if 'loss' in entry:\n",
    "        losses.append(entry['loss'])\n",
    "        steps.append(entry['step'])\n",
    "\n",
    "# Create the plot\n",
    "plt.figure(figsize=(10, 6))\n",
    "plt.plot(steps, losses, 'b-', label='Training Loss')\n",
    "plt.xlabel('Training Steps')\n",
    "plt.ylabel('Loss')\n",
    "plt.title('Learning Curve')\n",
    "plt.grid(True)\n",
    "plt.legend()\n",
    "\n",
    "plt.show()"
   ]
  },
  {
   "cell_type": "markdown",
   "id": "2bebc14b-d875-4be9-b6bf-0b7b635baa06",
   "metadata": {},
   "source": [
    "It seems that the learning hit a plateau at about 20000 steps (~1/3 into the dataset). The metrics from the 26500'th step are the following:"
   ]
  },
  {
   "cell_type": "markdown",
   "id": "190c2a18-5d7c-4a96-adc9-4813ad4cc838",
   "metadata": {},
   "source": [
    "```json\n",
    "{\n",
    "      \"epoch\": 1.3635194237200925,\n",
    "      \"eval_accuracy\": 0.3154695248760198,\n",
    "      \"eval_f1_macro\": 0.5430829543167313,\n",
    "      \"eval_f1_micro\": 0.6346931275266446,\n",
    "      \"eval_f1_samples\": 0.6200034603410064,\n",
    "      \"eval_f1_weighted\": 0.6157003402196517,\n",
    "      \"eval_hamming_loss\": 0.008051370008646717,\n",
    "      \"eval_loss\": 0.02252613753080368,\n",
    "      \"eval_precision_macro\": 0.6895649655063975,\n",
    "      \"eval_precision_micro\": 0.7487535226533709,\n",
    "      \"eval_precision_samples\": 0.7116328054177998,\n",
    "      \"eval_precision_weighted\": 0.7322270745984094,\n",
    "      \"eval_recall_macro\": 0.4752327816642215,\n",
    "      \"eval_recall_micro\": 0.5507893477914209,\n",
    "      \"eval_recall_samples\": 0.6055301627930008,\n",
    "      \"eval_recall_weighted\": 0.5507893477914209,\n",
    "      \"eval_runtime\": 42.9389,\n",
    "      \"eval_samples_per_second\": 145.579,\n",
    "      \"eval_steps_per_second\": 2.282,\n",
    "      \"step\": 26500\n",
    "}```"
   ]
  },
  {
   "cell_type": "code",
   "execution_count": 102,
   "id": "328f60b5-09a3-4205-b125-e23bd9c6de42",
   "metadata": {},
   "outputs": [
    {
     "data": {
      "image/png": "[encoded data removed]",
      "text/plain": [
       "<Figure size 1000x600 with 1 Axes>"
      ]
     },
     "metadata": {},
     "output_type": "display_data"
    }
   ],
   "source": [
    "f1_macro = []\n",
    "f1_weighted = []\n",
    "accuracy = []\n",
    "steps = []\n",
    "precicion_macro = []\n",
    "recall_macro = []\n",
    "\n",
    "\n",
    "for entry in trainer_history:\n",
    "    if 'eval_f1_macro' in entry:\n",
    "        f1_macro.append(entry['eval_f1_macro'])\n",
    "        steps.append(entry['step'])\n",
    "    if 'eval_f1_weighted' in entry:\n",
    "        f1_weighted.append(entry['eval_f1_weighted'])\n",
    "    if 'eval_accuracy' in entry:\n",
    "        accuracy.append(entry['eval_accuracy'])\n",
    "    if 'eval_precision_macro' in entry:\n",
    "        precicion_macro.append(entry['eval_precision_macro'])\n",
    "    if 'eval_recall_macro' in entry:\n",
    "        recall_macro.append(entry['eval_recall_macro'])\n",
    "\n",
    "# Create the plot\n",
    "plt.figure(figsize=(10, 6))\n",
    "plt.plot(steps, precicion_macro, 'm-', label='Precision accuracy')\n",
    "plt.plot(steps, f1_weighted, 'r-', label='F1 weighted')\n",
    "plt.plot(steps, f1_macro, 'g-', label='F1 macro')\n",
    "plt.plot(steps, recall_macro, 'c-', label='Recall accuracy')\n",
    "plt.plot(steps, accuracy, 'y-', label='Zero-one accuracy')\n",
    "plt.xlabel('Training Steps')\n",
    "plt.ylabel('Score')\n",
    "plt.title('Metric curves over time')\n",
    "plt.grid(True)\n",
    "plt.legend()\n",
    "\n",
    "plt.show()"
   ]
  },
  {
   "cell_type": "markdown",
   "id": "3e6e542f-92d0-47bd-b7e8-40b1a2a43f65",
   "metadata": {},
   "source": [
    "## Recall by labels\n",
    "For debugging which labels are struggling to clasify I wrote a script to evaluate debug metrics per label. Results are in [metrics.json](../output_final/metrics.json)  \n",
    "Since recall was the least performing metrics across the macro ones, analyze it:"
   ]
  },
  {
   "cell_type": "code",
   "execution_count": 114,
   "id": "58f5a079-d22d-47a1-8ee1-aad1b70b970d",
   "metadata": {},
   "outputs": [],
   "source": [
    "labels = sorted(new_category_counts.keys())"
   ]
  },
  {
   "cell_type": "code",
   "execution_count": 133,
   "id": "18b8bb79-36ce-4ba4-ac5b-08d7bfb5448a",
   "metadata": {},
   "outputs": [
    {
     "data": {
      "image/png": "[encoded data removed]",
      "text/plain": [
       "<Figure size 1500x1000 with 2 Axes>"
      ]
     },
     "metadata": {},
     "output_type": "display_data"
    }
   ],
   "source": [
    "import json\n",
    "import numpy as np\n",
    "with open('../output_final/metrics.json', 'r') as file:\n",
    "    metrics = json.load(file)\n",
    "    \n",
    "recall_pairs = []\n",
    "for key, value in metrics.items():\n",
    "    if key.startswith('eval_recall_'):\n",
    "        label_id = int(key.split('_')[-1])\n",
    "        recall_pairs.append((label_id, value))\n",
    "\n",
    "# Sort by recall value\n",
    "recall_pairs.sort(key=lambda x: x[1])\n",
    "\n",
    "# Get bottom and top 20\n",
    "bottom_20_recall = recall_pairs[:20]\n",
    "top_20_recall = recall_pairs[-20:]\n",
    "\n",
    "# Create subplots\n",
    "fig, (ax1, ax2) = plt.subplots(2, 1, figsize=(15, 10))\n",
    "\n",
    "# Plot bottom 20\n",
    "bottom_recall_label_ids, recalls = zip(*bottom_20_recall)\n",
    "bottom_recall_label_ids = [labels[id] for id in bottom_recall_label_ids]\n",
    "ax1.bar(range(len(bottom_20_recall)), recalls, color='red', alpha=0.6)\n",
    "ax1.set_xticks(range(len(bottom_20_recall)))\n",
    "ax1.set_xticklabels(bottom_recall_label_ids, rotation=45)\n",
    "ax1.set_title('Bottom 20 Labels by Recall')\n",
    "ax1.set_ylabel('Recall')\n",
    "ax1.grid(True, axis='y', linestyle='--', alpha=0.7)\n",
    "\n",
    "# Plot top 20\n",
    "top_recall_label_ids, recalls = zip(*top_20_recall)\n",
    "ax2.bar(range(len(top_20_recall)), recalls, color='green', alpha=0.6)\n",
    "ax2.set_xticks(range(len(top_20_recall)))\n",
    "ax2.set_xticklabels([labels[id] for id in top_recall_label_ids], rotation=45)\n",
    "ax2.set_title('Top 20 Labels by Recall')\n",
    "ax2.set_ylabel('Recall')\n",
    "ax2.grid(True, axis='y', linestyle='--', alpha=0.7)\n",
    "\n",
    "# Add overall average line to both plots\n",
    "avg_recall = np.mean([pair[1] for pair in recall_pairs])\n",
    "ax1.axhline(y=avg_recall, color='blue', linestyle='--', \n",
    "            label=f'Average Recall: {avg_recall:.3f}')\n",
    "ax2.axhline(y=avg_recall, color='blue', linestyle='--', \n",
    "            label=f'Average Recall: {avg_recall:.3f}')\n",
    "\n",
    "ax1.legend()\n",
    "ax2.legend()\n",
    "\n",
    "plt.tight_layout()\n",
    "plt.show()"
   ]
  },
  {
   "cell_type": "code",
   "execution_count": 162,
   "id": "58ce2366-7813-453d-be4f-fb4712544be4",
   "metadata": {},
   "outputs": [],
   "source": [
    "label_counts_sorted = sorted(new_category_counts.items(), key=lambda x: x[1])\n",
    "label_counts_sorted = [x[0] for x in label_counts_sorted]\n",
    "bottom_count_label_ids = label_counts_sorted[:30]"
   ]
  },
  {
   "cell_type": "code",
   "execution_count": 163,
   "id": "d91a34cc-4294-4939-9c31-d6638aca0f58",
   "metadata": {},
   "outputs": [
    {
     "data": {
      "text/plain": [
       "{'cs.GL',\n",
       " 'cs.MS',\n",
       " 'cs.OH',\n",
       " 'cs.OS',\n",
       " 'cs.PF',\n",
       " 'physics.atm-clus',\n",
       " 'physics.pop-ph',\n",
       " 'q-bio',\n",
       " 'q-bio.OT',\n",
       " 'q-bio.SC',\n",
       " 'q-fin.CP',\n",
       " 'q-fin.MF',\n",
       " 'stat.OT'}"
      ]
     },
     "execution_count": 163,
     "metadata": {},
     "output_type": "execute_result"
    }
   ],
   "source": [
    "overlap_bottom = set(bottom_count_label_ids) & set(bottom_recall_label_ids)\n",
    "overlap_bottom"
   ]
  },
  {
   "cell_type": "code",
   "execution_count": 164,
   "id": "3e1f2203-cf62-482e-8b53-8f992b3ac9f8",
   "metadata": {},
   "outputs": [
    {
     "data": {
      "text/plain": [
       "13"
      ]
     },
     "execution_count": 164,
     "metadata": {},
     "output_type": "execute_result"
    }
   ],
   "source": [
    "len(overlap_bottom)"
   ]
  },
  {
   "cell_type": "code",
   "execution_count": 165,
   "id": "85161caa-8f20-481e-877b-bd34c08976d5",
   "metadata": {},
   "outputs": [],
   "source": [
    "zero_recall_labels = bottom_recall_label_ids[:11]"
   ]
  },
  {
   "cell_type": "code",
   "execution_count": 166,
   "id": "b11c010e-983d-4c6e-9f63-785d0581dc46",
   "metadata": {},
   "outputs": [
    {
     "data": {
      "text/plain": [
       "11"
      ]
     },
     "execution_count": 166,
     "metadata": {},
     "output_type": "execute_result"
    }
   ],
   "source": [
    "zero_recall_overlap = set(bottom_count_label_ids) & set(zero_recall_labels)\n",
    "len(zero_recall_overlap)"
   ]
  },
  {
   "cell_type": "code",
   "execution_count": 168,
   "id": "b9c0dd4b-0d90-4575-bccb-160d5166a6d8",
   "metadata": {},
   "outputs": [
    {
     "data": {
      "text/plain": [
       "20"
      ]
     },
     "execution_count": 168,
     "metadata": {},
     "output_type": "execute_result"
    }
   ],
   "source": [
    "len(set(label_counts_sorted[:100]) & set(bottom_recall_label_ids))"
   ]
  },
  {
   "cell_type": "markdown",
   "id": "088b8e53-f07d-424c-9a55-380be41c7123",
   "metadata": {},
   "source": [
    "13/20 of the bottom labels by recall are among the 30 most underepresented ones.  \n",
    "All the ones with 0 recall are minority (that's expected since 0.0 recall probably means no such entries were in the evaluation set).  \n",
    "Interestingly there are other labels which have enough entries but still get low recalls - still all of them are in the bottom 100 according to count.  \n",
    "It seems like learning optimizes to maximize true positives for the top majority labels while being conservative at predicting other labels resulting in low recall for them.  \n",
    "To improve this, we should oversample the minority classes and perhaps combine with a different loss function like focal loss to target \"hard\" samples or weighted binary cross entropy to assign less weight to majority labels.  "
   ]
  },
  {
   "cell_type": "code",
   "execution_count": null,
   "id": "f8957bea-2e29-41e6-ba67-f19cb952e81e",
   "metadata": {},
   "outputs": [],
   "source": []
  }
 ],
 "metadata": {
  "kernelspec": {
   "display_name": "Python 3 (ipykernel)",
   "language": "python",
   "name": "python3"
  },
  "language_info": {
   "codemirror_mode": {
    "name": "ipython",
    "version": 3
   },
   "file_extension": ".py",
   "mimetype": "text/x-python",
   "name": "python",
   "nbconvert_exporter": "python",
   "pygments_lexer": "ipython3",
   "version": "3.11.8"
  }
 },
 "nbformat": 4,
 "nbformat_minor": 5
}
